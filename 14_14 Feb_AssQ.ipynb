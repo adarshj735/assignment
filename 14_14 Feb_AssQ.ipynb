{
 "cells": [
  {
   "cell_type": "markdown",
   "id": "ada37964-d2ad-4ab5-a3a7-5aec99c3a2e9",
   "metadata": {},
   "source": [
    "# Q1. What is multithreading in python? Why is it used? Name the module used to handle threads in python."
   ]
  },
  {
   "cell_type": "markdown",
   "id": "77985a9c-9535-4c49-b2bc-f95525a34702",
   "metadata": {},
   "source": [
    "Ans: Multithreading in Python refers to the concurrent execution of multiple threads within a single process. A thread is a lightweight unit of execution that can run concurrently with other threads, sharing the same memory space and resources of the parent process.\n",
    "\n",
    "Multithreading is used in Python to achieve concurrent execution and improve the performance of certain types of applications. It is particularly useful in scenarios where multiple tasks can be executed independently or in parallel. By utilizing multiple threads, the overall processing time can be reduced, and the application can be more responsive.\n",
    "\n",
    "Python provides a built-in module called \"threading\" to handle threads. The \"threading\" module provides classes and functions for creating and managing threads in Python. It allows you to create threads, start them, stop them, and synchronize their execution using locks, conditions, and other synchronization primitives.\n",
    "\n",
    "To use the \"threading\" module, we can import it as follows:\n",
    "\n",
    "import threading\n",
    "\n",
    "Once imported, we can create and manage threads using the classes and functions provided by the module."
   ]
  },
  {
   "cell_type": "markdown",
   "id": "f69872b0-91e0-4634-ad39-c1072b0ae8c4",
   "metadata": {},
   "source": [
    "# Q2. Why threading module used? Write the use of the following functions:\n",
    "1. activeCount()\n",
    "2. currentThread()\n",
    "3. enumerate()"
   ]
  },
  {
   "cell_type": "markdown",
   "id": "cffd1fe2-1ca7-4def-861a-db7138001ee3",
   "metadata": {},
   "source": [
    "Ans: The threading module in Python is used to create and manage threads, allowing for concurrent execution within a single process. It provides a high-level interface for working with threads and offers functions and classes to control thread behavior, synchronization, and communication."
   ]
  },
  {
   "cell_type": "markdown",
   "id": "e3930c0b-776a-4dfe-9b37-4d818e390c73",
   "metadata": {},
   "source": [
    "Here are the uses of the following functions in the threading module:\n",
    "\n",
    "1. activeCount(): This function returns the number of Thread objects currently alive and active. It provides a count of the threads that are currently running or in a \"runnable\" state. It can be useful to monitor the number of active threads in a program and make decisions based on that count."
   ]
  },
  {
   "cell_type": "code",
   "execution_count": 1,
   "id": "53910a9e-2cc6-4285-8e38-2e19917d70c6",
   "metadata": {},
   "outputs": [
    {
     "name": "stdout",
     "output_type": "stream",
     "text": [
      "8\n"
     ]
    },
    {
     "name": "stderr",
     "output_type": "stream",
     "text": [
      "/tmp/ipykernel_4417/2501082244.py:3: DeprecationWarning: activeCount() is deprecated, use active_count() instead\n",
      "  print(threading.activeCount())\n"
     ]
    }
   ],
   "source": [
    "import threading\n",
    "\n",
    "print(threading.activeCount()) "
   ]
  },
  {
   "cell_type": "markdown",
   "id": "5788acbe-96c7-4508-9dd4-4f7baa403f3b",
   "metadata": {},
   "source": [
    "2. currentThread(): This function returns the Thread object corresponding to the current thread of execution. It can be used to obtain a reference to the currently executing thread and perform operations or access attributes specific to that thread. For example, you can use it to set a thread name, check the thread ID, or access thread-local data."
   ]
  },
  {
   "cell_type": "code",
   "execution_count": 2,
   "id": "494caa8a-a14f-4750-9bff-2eda29409646",
   "metadata": {},
   "outputs": [
    {
     "name": "stdout",
     "output_type": "stream",
     "text": [
      "MainThread\n"
     ]
    },
    {
     "name": "stderr",
     "output_type": "stream",
     "text": [
      "/tmp/ipykernel_4417/2089165706.py:3: DeprecationWarning: currentThread() is deprecated, use current_thread() instead\n",
      "  current_thread = threading.currentThread()\n"
     ]
    }
   ],
   "source": [
    "import threading\n",
    "\n",
    "current_thread = threading.currentThread()\n",
    "print(current_thread.name)"
   ]
  },
  {
   "cell_type": "markdown",
   "id": "15460cdc-507d-4347-9d8e-872244028521",
   "metadata": {},
   "source": [
    "3. enumerate(): This function returns a list of all Thread objects currently alive. It provides a way to get references to all the threads that are currently running or in a \"runnable\" state. By default, it includes the main thread as well. It can be helpful to iterate over the list of threads, inspect their properties, and perform actions such as joining or terminating them."
   ]
  },
  {
   "cell_type": "code",
   "execution_count": 3,
   "id": "8ab6baf8-7729-4024-9c68-b294e27fef04",
   "metadata": {},
   "outputs": [
    {
     "name": "stdout",
     "output_type": "stream",
     "text": [
      "MainThread\n",
      "IOPub\n",
      "Heartbeat\n",
      "Thread-3 (_watch_pipe_fd)\n",
      "Thread-4 (_watch_pipe_fd)\n",
      "Control\n",
      "IPythonHistorySavingThread\n",
      "Thread-2\n"
     ]
    }
   ],
   "source": [
    "import threading\n",
    "\n",
    "threads = threading.enumerate()\n",
    "for thread in threads:\n",
    "    print(thread.name)"
   ]
  },
  {
   "cell_type": "markdown",
   "id": "6b1ce11b-fc29-4bb7-9060-fd700080be5e",
   "metadata": {},
   "source": [
    "# Q3. Explain the following functions:\n",
    "1. run()\n",
    "2. start()\n",
    "3. join()\n",
    "4. isAlive()"
   ]
  },
  {
   "cell_type": "markdown",
   "id": "94254bea-be70-45dc-bfc1-869eba5c2bff",
   "metadata": {},
   "source": [
    "Ans: 1. run(): The run() function is not directly called by the programmer. It is an overridden method in the Thread class that represents the code to be executed by the thread. When a new thread is created and started, the run() method is automatically invoked. You can define your own implementation of the run() method by subclassing the Thread class and overriding this method with your desired code logic.\n",
    "Example:"
   ]
  },
  {
   "cell_type": "code",
   "execution_count": 4,
   "id": "1142d876-ca6d-4173-884d-293caf4c6305",
   "metadata": {},
   "outputs": [
    {
     "name": "stdout",
     "output_type": "stream",
     "text": [
      "Thread is running\n"
     ]
    }
   ],
   "source": [
    "import threading\n",
    "\n",
    "class MyThread(threading.Thread):\n",
    "    def run(self):\n",
    "        print(\"Thread is running\")\n",
    "\n",
    "thread = MyThread()\n",
    "thread.start() "
   ]
  },
  {
   "cell_type": "markdown",
   "id": "3d6e8493-b59b-4556-a5a3-279a32f8569d",
   "metadata": {},
   "source": [
    "2. start(): The start() method is used to start the execution of a thread. It spawns a new thread of execution and calls the run() method internally. When start() is called, the thread enters the \"runnable\" state and is scheduled by the operating system for execution. It allows concurrent execution of multiple threads within the program.\n",
    "\n",
    "Example:"
   ]
  },
  {
   "cell_type": "code",
   "execution_count": 5,
   "id": "0416c6e2-e9a7-446e-9c27-a8dcfed66c95",
   "metadata": {},
   "outputs": [
    {
     "name": "stdout",
     "output_type": "stream",
     "text": [
      "Thread is running\n"
     ]
    }
   ],
   "source": [
    "import threading\n",
    "\n",
    "def my_function():\n",
    "    print(\"Thread is running\")\n",
    "\n",
    "thread = threading.Thread(target=my_function)\n",
    "thread.start() "
   ]
  },
  {
   "cell_type": "markdown",
   "id": "dc2ed5c0-611d-406c-ae28-56482e533986",
   "metadata": {},
   "source": [
    "3. join(): The join() method is used to wait for the completion of a thread. When a thread reaches a join() call, the program execution is blocked until that thread terminates. This is particularly useful when you want to ensure that certain operations are completed before the program continues its execution.\n",
    "\n",
    "Example:"
   ]
  },
  {
   "cell_type": "code",
   "execution_count": 6,
   "id": "a802de66-95b3-45c5-acc7-8a95196d1dc5",
   "metadata": {},
   "outputs": [
    {
     "name": "stdout",
     "output_type": "stream",
     "text": [
      "Thread is running\n",
      "Thread has completed\n"
     ]
    }
   ],
   "source": [
    "import threading\n",
    "\n",
    "def my_function():\n",
    "    print(\"Thread is running\")\n",
    "\n",
    "thread = threading.Thread(target=my_function)\n",
    "thread.start()\n",
    "\n",
    "\n",
    "thread.join() \n",
    "print(\"Thread has completed\")\n"
   ]
  },
  {
   "cell_type": "markdown",
   "id": "b8293008-ef01-4aff-96bf-dd21eefb25c6",
   "metadata": {},
   "source": [
    "4. isAlive(): The isAlive() method is used to check if a thread is currently running or alive. It returns a boolean value (True or False) indicating the status of the thread. If the thread is currently executing, isAlive() returns True; otherwise, it returns False.\n",
    "\n",
    "Example:"
   ]
  },
  {
   "cell_type": "code",
   "execution_count": 7,
   "id": "77633601-056a-4570-99a9-27b2e228789d",
   "metadata": {},
   "outputs": [
    {
     "name": "stdout",
     "output_type": "stream",
     "text": [
      "True\n",
      "Thread is running\n",
      "False\n"
     ]
    }
   ],
   "source": [
    "import threading\n",
    "import time\n",
    "\n",
    "def my_function():\n",
    "    time.sleep(3)\n",
    "    print(\"Thread is running\")\n",
    "\n",
    "thread = threading.Thread(target=my_function)\n",
    "thread.start()\n",
    "\n",
    "print(thread.is_alive()) \n",
    "\n",
    "time.sleep(4)\n",
    "\n",
    "print(thread.is_alive()) \n"
   ]
  },
  {
   "cell_type": "markdown",
   "id": "ca268bd2-7413-476f-80b6-0a6ed6ccd864",
   "metadata": {},
   "source": [
    "# Q4.Write a python program to create two threads. Thread one must print the list of squares and thread two must print the list of cubes."
   ]
  },
  {
   "cell_type": "code",
   "execution_count": 8,
   "id": "ba6f35c0-1e0e-4a21-860b-9d5b0133abe6",
   "metadata": {},
   "outputs": [
    {
     "name": "stdout",
     "output_type": "stream",
     "text": [
      "Square: 1\n",
      "Square: 4\n",
      "Square: 9\n",
      "Square: 16\n",
      "Square: 25\n",
      "Cube: 1\n",
      "Cube: 8\n",
      "Cube: 27\n",
      "Cube: 64\n",
      "Cube: 125\n"
     ]
    }
   ],
   "source": [
    "import threading\n",
    "\n",
    "def print_squares(numbers):\n",
    "    for num in numbers:\n",
    "        print(\"Square:\", num ** 2)\n",
    "\n",
    "def print_cubes(numbers):\n",
    "    for num in numbers:\n",
    "        print(\"Cube:\", num ** 3)\n",
    "\n",
    "#list of numbers\n",
    "numbers = [1, 2, 3, 4, 5]\n",
    "\n",
    "# first thread for printing squares\n",
    "thread1 = threading.Thread(target=print_squares, args=(numbers,))\n",
    "\n",
    "# second thread for printing cubes\n",
    "thread2 = threading.Thread(target=print_cubes, args=(numbers,))\n",
    "\n",
    "# Starting both threads\n",
    "thread1.start()\n",
    "thread2.start()\n",
    "\n"
   ]
  },
  {
   "cell_type": "markdown",
   "id": "a68bd201-6819-4b67-b148-ad914d8cc807",
   "metadata": {},
   "source": [
    "# Q5. State advantages and disadvantages of multithreading."
   ]
  },
  {
   "cell_type": "markdown",
   "id": "5e4fe7da-08c8-4061-9b00-62de9f24eda0",
   "metadata": {},
   "source": [
    "### Advantages of Multithreading in Python:\n",
    "\n",
    "Concurrent Execution: Multithreading allows for concurrent execution of tasks within a Python program. This can result in improved performance by utilizing multiple threads to execute tasks simultaneously. It enables efficient utilization of CPU cores and can help in handling computationally intensive or I/O-bound tasks concurrently.\n",
    "\n",
    "Responsiveness: Multithreading can enhance the responsiveness of Python applications. By offloading time-consuming or blocking operations to separate threads, the main thread remains responsive and can continue processing other tasks or responding to user interactions. This is particularly beneficial for applications that require real-time responsiveness or interactivity.\n",
    "\n",
    "Shared Memory: Threads in Python share the same memory space, allowing for easy sharing of data between threads. This enables efficient communication and data exchange among threads without the need for complex inter-process communication mechanisms. It simplifies the sharing of information and resources, leading to better resource utilization.\n",
    "\n",
    "Python's Global Interpreter Lock (GIL): Python has a Global Interpreter Lock (GIL) that ensures only one thread executes Python bytecode at a time. However, despite the GIL, multithreading can still be advantageous in certain scenarios. For example, multithreading can be useful when dealing with I/O-bound tasks, such as network requests or file operations, as the GIL is released during I/O operations, allowing other threads to execute.\n",
    "\n",
    "### Disadvantages of Multithreading in Python:\n",
    "\n",
    "Limited CPU-bound Performance Improvement: Due to the Global Interpreter Lock (GIL), multithreading in Python does not provide significant performance improvements for CPU-bound tasks. The GIL prevents true parallel execution of multiple threads, limiting the benefits of multithreading for computationally intensive tasks that heavily rely on CPU processing.\n",
    "\n",
    "GIL Contention: The GIL can introduce contention among threads when they compete for access to the Python interpreter. This can lead to performance degradation in certain scenarios where threads spend significant time waiting for the GIL. However, as mentioned earlier, I/O-bound tasks can still benefit from multithreading due to the GIL's release during I/O operations.\n",
    "\n",
    "Synchronization Overhead: Proper synchronization is required when multiple threads access and modify shared resources in Python. Implementing synchronization mechanisms such as locks, semaphores, or mutexes introduces additional overhead and can potentially lead to performance bottlenecks or contention issues.\n",
    "\n",
    "Complex Debugging and Concurrency Issues: Multithreading introduces concurrency issues such as race conditions, deadlocks, or thread starvation. Debugging and troubleshooting such issues can be more challenging in Python due to the complex nature of concurrent execution and the potential interactions between threads. Proper understanding of threading concepts and careful programming practices are crucial to avoid or mitigate these problems.\n",
    "\n"
   ]
  },
  {
   "cell_type": "markdown",
   "id": "727844b5-d2c2-4d79-8e52-6ba11ccfb3be",
   "metadata": {},
   "source": [
    "# Q6. Explain deadlocks and race conditions."
   ]
  },
  {
   "cell_type": "markdown",
   "id": "1af6f081-d9f7-458d-b3c9-4a0c565ee9fc",
   "metadata": {},
   "source": [
    "Deadlocks and race conditions are two common concurrency issues that can occur in multithreaded programs, including those written in Python. Here's an explanation of each:\n",
    "\n",
    "### Deadlocks:\n",
    "A deadlock is a situation where two or more threads are blocked indefinitely, waiting for each other to release resources that they hold. It occurs when there is a circular dependency between threads, where each thread is waiting for a resource that is held by another thread. As a result, none of the threads can proceed, leading to a program freeze or deadlock state.\n",
    "A typical scenario that can lead to a deadlock is the \"dining philosophers problem.\" In this problem, a group of philosophers sits at a table, and each philosopher requires two forks to eat. If each philosopher picks up one fork and waits for the other, a deadlock can occur.\n",
    "\n",
    "Deadlocks can be challenging to detect and resolve, requiring careful design and synchronization strategies. To prevent deadlocks, techniques like resource ordering, deadlock avoidance algorithms, and using timeouts or deadlock detection algorithms can be employed.\n",
    "\n",
    "### Race Conditions:\n",
    "A race condition occurs when the behavior or outcome of a program depends on the sequence or timing of execution of multiple threads. It arises when multiple threads access shared resources concurrently and at least one thread performs a write operation.\n",
    "In Python, race conditions can happen when multiple threads attempt to read and write shared data simultaneously without proper synchronization. If the threads interfere with each other's operations or rely on the exact timing of their execution, it can lead to unexpected and erroneous results.\n",
    "\n",
    "For example, consider a shared counter variable accessed by multiple threads. If each thread reads the counter, increments it, and writes it back without synchronization, race conditions can occur. The result might be incorrect values or lost updates due to the interleaving of thread operations.\n",
    "\n",
    "To prevent race conditions, synchronization mechanisms like locks, semaphores, or mutexes should be used to ensure that only one thread can access the shared resource at a time. Proper synchronization ensures atomicity and prevents inconsistent or incorrect updates.\n",
    "\n",
    "Both deadlocks and race conditions are concurrency issues that can arise in multithreaded programs. They can lead to unexpected and undesired behavior, making programs difficult to reason about and debug. Careful design, synchronization, and avoidance of circular dependencies are necessary to mitigate these issues and ensure correct and reliable program execution."
   ]
  },
  {
   "cell_type": "code",
   "execution_count": null,
   "id": "5abbfebc-5a5d-4350-a705-c90cd4bbddfa",
   "metadata": {},
   "outputs": [],
   "source": []
  }
 ],
 "metadata": {
  "kernelspec": {
   "display_name": "Python 3 (ipykernel)",
   "language": "python",
   "name": "python3"
  },
  "language_info": {
   "codemirror_mode": {
    "name": "ipython",
    "version": 3
   },
   "file_extension": ".py",
   "mimetype": "text/x-python",
   "name": "python",
   "nbconvert_exporter": "python",
   "pygments_lexer": "ipython3",
   "version": "3.10.8"
  }
 },
 "nbformat": 4,
 "nbformat_minor": 5
}
