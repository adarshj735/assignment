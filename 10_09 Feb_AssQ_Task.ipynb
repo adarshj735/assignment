{
 "cells": [
  {
   "cell_type": "markdown",
   "id": "796de64f-4996-414b-ae65-35b24b13df21",
   "metadata": {},
   "source": [
    "Q1. Create a vehicle class with an init method having instance variables as name_of_vehicle, max_speed\n",
    "and average_of_vehicle. "
   ]
  },
  {
   "cell_type": "code",
   "execution_count": 1,
   "id": "275105a9-2a5b-4e06-b8f6-8cd6c0438bbb",
   "metadata": {},
   "outputs": [],
   "source": [
    "class Vehicle:\n",
    "    def __init__(self, name_of_vehicle,max_speed,average_of_vehicle):\n",
    "        self.name_of_vehicle=name_of_vehicle\n",
    "        self.max_speed=max_speed\n",
    "        self.average_of_vehicle=average_of_vehicle"
   ]
  },
  {
   "cell_type": "code",
   "execution_count": 2,
   "id": "1389c894-7b32-48fc-947e-b4d9ef81452d",
   "metadata": {},
   "outputs": [
    {
     "name": "stdout",
     "output_type": "stream",
     "text": [
      "6\n",
      "Tata Safari\n"
     ]
    }
   ],
   "source": [
    "car = Vehicle(\"Tata Safari\", 250, 4)\n",
    "bike = Vehicle(\"Bajaj Pulsur\", 299, 6)\n",
    "\n",
    "print(bike.average_of_vehicle)\n",
    "print(car.name_of_vehicle)"
   ]
  },
  {
   "cell_type": "markdown",
   "id": "db02bc65-bf29-4891-b291-532cadd8e77b",
   "metadata": {},
   "source": [
    "Q2.  Create a child class car from the vehicle class created in Que 1, which will inherit the vehicle class.\n",
    "Create a method named seating_capacity which takes capacity as an argument and returns the name of\n",
    "the vehicle and its seating capacity."
   ]
  },
  {
   "cell_type": "code",
   "execution_count": 3,
   "id": "97a8e82a-c649-408f-9c05-428054aa229d",
   "metadata": {},
   "outputs": [],
   "source": [
    "class Vehicle:\n",
    "    def __init__(self, name_of_vehicle,max_speed,average_of_vehicle):\n",
    "        self.name_of_vehicle=name_of_vehicle\n",
    "        self.max_speed=max_speed\n",
    "        self.average_of_vehicle=average_of_vehicle\n",
    "\n",
    "class car(Vehicle):\n",
    "    def seating_capacity(self,capacity):\n",
    "        return f\"{self.name_of_vehicle} has a seating capacity of {capacity}.\""
   ]
  },
  {
   "cell_type": "code",
   "execution_count": 4,
   "id": "dd9103d8-aa90-4df7-8f6c-f8cef9a11683",
   "metadata": {},
   "outputs": [
    {
     "data": {
      "text/plain": [
       "'Tata Safari has a seating capacity of 7.'"
      ]
     },
     "execution_count": 4,
     "metadata": {},
     "output_type": "execute_result"
    }
   ],
   "source": [
    "my_car = car(\"Tata Safari\", 250, 4)\n",
    "my_car.seating_capacity(7)"
   ]
  },
  {
   "cell_type": "markdown",
   "id": "bba923d3-b0f5-471e-ab88-bad81f4eb1cd",
   "metadata": {},
   "source": [
    "Q3. What is multiple inheritance? Write a python code to demonstrate multiple inheritance."
   ]
  },
  {
   "cell_type": "markdown",
   "id": "cba82b95-4c70-4da8-bb42-302fcb6179d2",
   "metadata": {},
   "source": [
    "Multiple Inheritance: When a class can be derived from more than one base class this type of inheritance is called multiple inheritances. In multiple inheritances, all the features of the base classes are inherited into the derived class."
   ]
  },
  {
   "cell_type": "code",
   "execution_count": 5,
   "id": "7b21bf1c-5ce7-46e3-a776-919ac50b8e38",
   "metadata": {},
   "outputs": [
    {
     "data": {
      "text/plain": [
       "('SITA is Mother', 'RAM is Father')"
      ]
     },
     "execution_count": 5,
     "metadata": {},
     "output_type": "execute_result"
    }
   ],
   "source": [
    "#Example\n",
    "\n",
    "class Mother:\n",
    "\tdef mother(self):\n",
    "\t\tself.mothername\n",
    "\n",
    "class Father:\n",
    "    def father(self):\n",
    "        self.fathername\n",
    "        \n",
    "\n",
    "class Son(Mother, Father):\n",
    "    def parents(self):\n",
    "        return self.mothername + \" is Mother\", self.fathername + \" is Father\"\n",
    "        \n",
    "\n",
    "\n",
    "\n",
    "s1 = Son()\n",
    "s1.fathername = \"RAM\"\n",
    "s1.mothername = \"SITA\"\n",
    "s1.parents()\n"
   ]
  },
  {
   "cell_type": "markdown",
   "id": "a04019d3-9ba9-4b0f-974b-43c71a1b5642",
   "metadata": {},
   "source": [
    "Q4. What are getter and setter in python? Create a class and create a getter and a setter method in this\n",
    "class."
   ]
  },
  {
   "cell_type": "markdown",
   "id": "bcf1953c-03d8-434c-8cbb-d49dc9eeb8c4",
   "metadata": {},
   "source": [
    "Ans:Getter and setter methods are used to access and modify the attributes of a class. They provide a way to encapsulate the attributes and control how they are accessed and modified.\n",
    "\n",
    "A getter method is used to retrieve the value of an attribute, and a setter method is used to set the value of an attribute. In Python, we can define getter and setter methods as regular methods in a class, or we can use the @property decorator and the @attribute_name.setter decorator to define them as properties."
   ]
  },
  {
   "cell_type": "code",
   "execution_count": 6,
   "id": "c289a1d9-d622-484c-8318-2c844eef83e3",
   "metadata": {},
   "outputs": [],
   "source": [
    "class Bank:\n",
    "    \n",
    "    def __init__(self,account_number,DOB):\n",
    "        self.account_number=account_number\n",
    "        self.__DOB= DOB\n",
    "        \n",
    "    @property\n",
    "    def get_DOB(self):\n",
    "        return self.__DOB\n",
    "    \n",
    "    @get_DOB.setter\n",
    "    def set_DOB(self,date):\n",
    "        if date=='22/11':\n",
    "            pass\n",
    "        else:\n",
    "            self.__DOB=date"
   ]
  },
  {
   "cell_type": "code",
   "execution_count": 7,
   "id": "f88d857e-3f25-4f8d-a57c-d6c18d1f1306",
   "metadata": {},
   "outputs": [],
   "source": [
    "b=Bank('123456','22/11')"
   ]
  },
  {
   "cell_type": "code",
   "execution_count": 8,
   "id": "1aabd5b8-43a8-4c07-b363-52500310c863",
   "metadata": {},
   "outputs": [
    {
     "data": {
      "text/plain": [
       "'123456'"
      ]
     },
     "execution_count": 8,
     "metadata": {},
     "output_type": "execute_result"
    }
   ],
   "source": [
    "b.account_number"
   ]
  },
  {
   "cell_type": "code",
   "execution_count": 9,
   "id": "6af0c8ba-77df-481b-867d-7ab5e595fbe3",
   "metadata": {},
   "outputs": [
    {
     "data": {
      "text/plain": [
       "'22/11'"
      ]
     },
     "execution_count": 9,
     "metadata": {},
     "output_type": "execute_result"
    }
   ],
   "source": [
    "b.get_DOB"
   ]
  },
  {
   "cell_type": "code",
   "execution_count": 10,
   "id": "9cac7061-d7d0-4411-bd35-a767c2a7ef19",
   "metadata": {},
   "outputs": [],
   "source": [
    "b.set_DOB = '20/11'"
   ]
  },
  {
   "cell_type": "code",
   "execution_count": 11,
   "id": "83f853d3-1981-4358-834b-db6900bbc645",
   "metadata": {},
   "outputs": [
    {
     "data": {
      "text/plain": [
       "'20/11'"
      ]
     },
     "execution_count": 11,
     "metadata": {},
     "output_type": "execute_result"
    }
   ],
   "source": [
    "b.get_DOB"
   ]
  },
  {
   "cell_type": "markdown",
   "id": "ebe07bc8-0762-487a-a684-abf7039a33bb",
   "metadata": {},
   "source": [
    "Q5.What is method overriding in python? Write a python code to demonstrate method overriding."
   ]
  },
  {
   "cell_type": "markdown",
   "id": "d1422a43-5e38-4ab6-9483-c6a674f5536b",
   "metadata": {},
   "source": [
    "Ans:Method overriding is a concept in object-oriented programming where a subclass provides its own implementation of a method that is already defined in its parent class. When the subclass calls this method, its own implementation is executed instead of the parent class's implementation.\n",
    "\n",
    "In Python, method overriding is achieved by defining a method with the same name in the subclass as the one in the parent class. The subclass's method should have the same signature (i.e., the same name and parameters) as the parent class's method."
   ]
  },
  {
   "cell_type": "code",
   "execution_count": 12,
   "id": "46df120f-3f84-4dc1-afa4-fa1e4ee297df",
   "metadata": {},
   "outputs": [
    {
     "name": "stdout",
     "output_type": "stream",
     "text": [
      "The animal makes a sound\n",
      "The dog barks\n"
     ]
    }
   ],
   "source": [
    "class Animal:\n",
    "    \n",
    "    def make_sound(self):\n",
    "        print(\"The animal makes a sound\")\n",
    "\n",
    "class Dog(Animal):\n",
    "    \n",
    "    def make_sound(self):\n",
    "        print(\"The dog barks\")\n",
    "\n",
    "a = Animal()\n",
    "a.make_sound()\n",
    "\n",
    "d = Dog()\n",
    "d.make_sound()\n"
   ]
  },
  {
   "cell_type": "code",
   "execution_count": null,
   "id": "084aeccb-bab9-4e5a-9a14-1cc02f5ba7cc",
   "metadata": {},
   "outputs": [],
   "source": []
  },
  {
   "cell_type": "code",
   "execution_count": null,
   "id": "d97fb210-5c56-41ef-ba69-d7d8f53fe42e",
   "metadata": {},
   "outputs": [],
   "source": []
  }
 ],
 "metadata": {
  "kernelspec": {
   "display_name": "Python 3 (ipykernel)",
   "language": "python",
   "name": "python3"
  },
  "language_info": {
   "codemirror_mode": {
    "name": "ipython",
    "version": 3
   },
   "file_extension": ".py",
   "mimetype": "text/x-python",
   "name": "python",
   "nbconvert_exporter": "python",
   "pygments_lexer": "ipython3",
   "version": "3.10.8"
  }
 },
 "nbformat": 4,
 "nbformat_minor": 5
}
