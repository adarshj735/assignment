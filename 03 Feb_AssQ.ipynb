{
 "cells": [
  {
   "cell_type": "code",
   "execution_count": 1,
   "id": "15fd5326-8510-4fd4-8482-75cc73a81729",
   "metadata": {},
   "outputs": [
    {
     "data": {
      "text/plain": [
       "[1, 3, 5, 7, 9, 11, 13, 15, 17, 19, 21, 23, 25]"
      ]
     },
     "execution_count": 1,
     "metadata": {},
     "output_type": "execute_result"
    }
   ],
   "source": [
    "#Q1. Which keyword is used to create a function? Create a function to return a list of odd numbers in the range of 1 to 25.\n",
    "\"\"\"In Python, the keyword used to create a function is 'def'\"\"\"\n",
    "def get_odd_numbers():\n",
    "    odd_numbers = []\n",
    "    for num in range(1, 26):\n",
    "        if num % 2 != 0:\n",
    "            odd_numbers.append(num)\n",
    "    return odd_numbers\n",
    "\n",
    "# call the function and print the output\n",
    "get_odd_numbers()\n"
   ]
  },
  {
   "cell_type": "code",
   "execution_count": 2,
   "id": "7be9638d-d968-43ca-8419-87189a8c5c2b",
   "metadata": {},
   "outputs": [
    {
     "name": "stdout",
     "output_type": "stream",
     "text": [
      "Example of *args:\n",
      "1\n",
      "2\n",
      "3\n",
      "4\n",
      "5\n",
      "Example of **kwargs:\n",
      "name = Alice\n",
      "age = 25\n",
      "city = New York\n"
     ]
    }
   ],
   "source": [
    "#Q2. Why *args and **kwargs is used in some functions? Create a function each for *args and **kwargs to demonstrate their use.\n",
    "\n",
    "\"\"\"In Python, *args and **kwargs are used to pass a variable number of arguments to a function. \n",
    "The *args syntax is used to pass a variable number of non-keyworded arguments to a function, \n",
    "while **kwargs is used to pass a variable number of keyworded arguments (i.e., named arguments) to a function.\"\"\"\n",
    "\n",
    "\"\"\"The *args syntax allows you to pass an arbitrary number of arguments to a function, without having to specify each argument individually.\n",
    "The arguments are collected into a tuple, which can then be used within the function. \"\"\"\n",
    "#Example of *args\n",
    "print(\"Example of *args:\")\n",
    "def print_numbers(*args):\n",
    "    for number in args:\n",
    "        print(number)\n",
    "\n",
    "\n",
    "print_numbers(1, 2, 3, 4, 5)\n",
    "\n",
    "\n",
    "\"\"\"The **kwargs syntax is similar to *args, but instead of collecting non-keyworded arguments into a tuple, it collects keyworded arguments into a dictionary. \n",
    "This allows you to pass a variable number of named arguments to a function, without having to specify each argument individually. \"\"\"\n",
    "#Example of **kwargs\n",
    "print(\"Example of **kwargs:\")\n",
    "def print_dict(**kwargs):\n",
    "    for key, value in kwargs.items():\n",
    "        print(key, \"=\", value)\n",
    "\n",
    "\n",
    "print_dict(name=\"Alice\", age=25, city=\"New York\")\n"
   ]
  },
  {
   "cell_type": "code",
   "execution_count": 3,
   "id": "1a31e544-4833-469f-aa07-15754eaf74aa",
   "metadata": {},
   "outputs": [
    {
     "name": "stdout",
     "output_type": "stream",
     "text": [
      "2\n",
      "4\n",
      "6\n",
      "8\n",
      "10\n"
     ]
    }
   ],
   "source": [
    "\"\"\"Q3.  What is an iterator in python? Name the method used to initialise the iterator object and the method\n",
    "used for iteration. Use these methods to print the first five elements of the given list [2, 4, 6, 8, 10, 12, 14,\n",
    "16, 18, 20].\"\"\"\n",
    "\n",
    "\"\"\"In Python, an iterator is an object that implements the iterator protocol, which consists of the __iter__() method and the __next__() method.\n",
    "The __iter__() method is called when the iterator is initialized, and should return the iterator object itself. \n",
    "The __next__() method is called each time the next element in the sequence is required, and should return the next element or raise the StopIteration exception if there are no more elements.\n",
    "\n",
    "To initialize an iterator object in Python, you can use the built-in iter() function. To iterate over the elements of an iterator, you can use a for loop or the built-in next() function\"\"\"\n",
    "\n",
    "# initialize the iterator object\n",
    "my_list = [2, 4, 6, 8, 10, 12, 14, 16, 18, 20]\n",
    "my_iter = iter(my_list)\n",
    "\n",
    "# iterate over the first five elements using a for loop\n",
    "for i in range(5):\n",
    "    print(next(my_iter))\n"
   ]
  },
  {
   "cell_type": "code",
   "execution_count": 4,
   "id": "5c62d198-93f2-49d5-b515-5657843778b5",
   "metadata": {},
   "outputs": [
    {
     "name": "stdout",
     "output_type": "stream",
     "text": [
      "0\n",
      "1\n",
      "1\n",
      "2\n",
      "3\n",
      "5\n",
      "8\n",
      "13\n",
      "21\n",
      "34\n"
     ]
    }
   ],
   "source": [
    "#Q4.  What is a generator function in python? Why yield keyword is used? Give an example of a generator function.\n",
    "\"\"\"In Python, a generator function is a type of function that allows you to generate a sequence of values on-the-fly, rather than generating and storing all the values in memory at once. \n",
    "It achieves this by using the yield keyword to return a value from the function, while maintaining the current state of the function. \n",
    "This means that the function can be resumed from where it left off the next time it is called, allowing it to generate a potentially infinite sequence of values.\n",
    "\n",
    "The yield keyword is used in a generator function to return a value from the function, while also suspending the function's state so that it can be resumed later. \n",
    "When the generator function is called again, it will resume execution from where it left off, and continue generating values until the next yield statement is encountered.\"\"\"\n",
    "\n",
    "#Example of generator function\n",
    "def fibonacci():\n",
    "    a, b = 0, 1\n",
    "    while True:\n",
    "        yield a\n",
    "        a, b = b, a + b\n",
    "\n",
    "# example usage:\n",
    "fib = fibonacci()\n",
    "for i in range(10):\n",
    "    print(next(fib))\n"
   ]
  },
  {
   "cell_type": "code",
   "execution_count": 5,
   "id": "7d63722f-6124-480b-8027-08937faacfd3",
   "metadata": {},
   "outputs": [
    {
     "name": "stdout",
     "output_type": "stream",
     "text": [
      "generator function using a list comprehension\n",
      "2\n",
      "3\n",
      "5\n",
      "7\n",
      "11\n",
      "13\n",
      "17\n",
      "19\n",
      "23\n",
      "29\n",
      "31\n",
      "37\n",
      "41\n",
      "43\n",
      "47\n",
      "53\n",
      "59\n",
      "61\n",
      "67\n",
      "71\n"
     ]
    }
   ],
   "source": [
    "#Q5. Create a generator function for prime numbers less than 1000. Use the next() method to print the first 20 prime numbers.\n",
    "\n",
    "print(\"generator function using a list comprehension\" )\n",
    "def prime():\n",
    "    # prime numbers less than 1000\n",
    "    for num in range(2, 1000):\n",
    "        if all(num % i != 0 for i in range(2, int(num ** 0.5) + 1)):\n",
    "            yield num\n",
    "\n",
    "# generator object\n",
    "prime_generator = prime()\n",
    "\n",
    "# print the first 20 prime numbers\n",
    "for i in range(20):\n",
    "    print(next(prime_generator))"
   ]
  },
  {
   "cell_type": "code",
   "execution_count": 6,
   "id": "87879756-3118-4738-99bb-40cab27b1cdf",
   "metadata": {},
   "outputs": [
    {
     "name": "stdout",
     "output_type": "stream",
     "text": [
      "0\n",
      "1\n",
      "1\n",
      "2\n",
      "3\n",
      "5\n",
      "8\n",
      "13\n",
      "21\n",
      "34\n"
     ]
    }
   ],
   "source": [
    "#Q6. Write a python program to print the first 10 Fibonacci numbers using a while loop.\n",
    "num =10\n",
    "a,b=0,1\n",
    "count = 0\n",
    "while count <num:\n",
    "    print(a)\n",
    "    a,b=b,a+b\n",
    "    count+=1\n",
    " "
   ]
  },
  {
   "cell_type": "code",
   "execution_count": 7,
   "id": "771049f6-35ed-4c4b-a289-67e1f753b159",
   "metadata": {},
   "outputs": [
    {
     "data": {
      "text/plain": [
       "['p', 'w', 's', 'k', 'i', 'l', 'l', 's']"
      ]
     },
     "execution_count": 7,
     "metadata": {},
     "output_type": "execute_result"
    }
   ],
   "source": [
    "'''Q7. Write a List Comprehension to iterate through the given string: ‘pwskills’.\n",
    "Expected output: ['p', 'w', 's', 'k', 'i', 'l', 'l', 's'] '''\n",
    "\n",
    "[char for char in 'pwskills']"
   ]
  },
  {
   "cell_type": "code",
   "execution_count": 8,
   "id": "6042a399-f38a-4ef9-bcc0-8223e24a5efc",
   "metadata": {},
   "outputs": [
    {
     "name": "stdin",
     "output_type": "stream",
     "text": [
      "Enter a number:  12344321\n"
     ]
    },
    {
     "name": "stdout",
     "output_type": "stream",
     "text": [
      "12344321 is a palindrome\n"
     ]
    }
   ],
   "source": [
    "#Q8. Write a python program to check whether a given number is Palindrome or not using a while loop\n",
    "\n",
    "# input from the user\n",
    "num = int(input(\"Enter a number: \"))\n",
    "\n",
    "temp = num\n",
    "reverse = 0\n",
    "\n",
    "while temp > 0:\n",
    "    digit = temp % 10\n",
    "    reverse = reverse * 10 + digit\n",
    "    # remove the last digit from the number\n",
    "    temp = temp // 10\n",
    "\n",
    "# check if the original number is equal to its reverse\n",
    "if num == reverse:\n",
    "    print(num, \"is a palindrome\")\n",
    "else:\n",
    "    print(num, \"is not a palindrome\")\n"
   ]
  },
  {
   "cell_type": "code",
   "execution_count": 9,
   "id": "c0514321-66c8-4f0b-841c-3da48ae9fcae",
   "metadata": {},
   "outputs": [
    {
     "name": "stdout",
     "output_type": "stream",
     "text": [
      "[1, 3, 5, 7, 9, 11, 13, 15, 17, 19, 21, 23, 25, 27, 29, 31, 33, 35, 37, 39, 41, 43, 45, 47, 49, 51, 53, 55, 57, 59, 61, 63, 65, 67, 69, 71, 73, 75, 77, 79, 81, 83, 85, 87, 89, 91, 93, 95, 97, 99]\n"
     ]
    }
   ],
   "source": [
    "\"\"\"Q9. Write a code to print odd numbers from 1 to 100 using list comprehension.\n",
    "Note: Use a list comprehension to create a list from 1 to 100 and use another List comprehension to filter\n",
    "out odd numbers.\n",
    "\"\"\"\n",
    "my_list = [num for num in range(1, 101)]\n",
    "odd_numbers=[num for num in my_list if num % 2 != 0]\n",
    "print(odd_numbers)\n"
   ]
  },
  {
   "cell_type": "code",
   "execution_count": null,
   "id": "2e1c37c7-4954-4cac-9fe9-c3e656837d50",
   "metadata": {},
   "outputs": [],
   "source": []
  }
 ],
 "metadata": {
  "kernelspec": {
   "display_name": "Python 3 (ipykernel)",
   "language": "python",
   "name": "python3"
  },
  "language_info": {
   "codemirror_mode": {
    "name": "ipython",
    "version": 3
   },
   "file_extension": ".py",
   "mimetype": "text/x-python",
   "name": "python",
   "nbconvert_exporter": "python",
   "pygments_lexer": "ipython3",
   "version": "3.10.8"
  }
 },
 "nbformat": 4,
 "nbformat_minor": 5
}
