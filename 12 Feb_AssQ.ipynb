{
 "cells": [
  {
   "cell_type": "markdown",
   "id": "dfea4f1d-dfbb-40ec-80de-1fca3e06ebf5",
   "metadata": {},
   "source": [
    "Q1. What is an Exception in python? Write the difference between Exceptions and syntax errors."
   ]
  },
  {
   "cell_type": "markdown",
   "id": "ead1c438-d258-48a6-883b-9bfc0a142a1c",
   "metadata": {},
   "source": [
    "Ans: In Python, an exception is a runtime error that occurs during the execution of a program, interrupting its normal flow. When an exception occurs, Python raises an object known as an exception object, which contains information about the error such as its type and message.\n",
    "\n",
    "Exceptions can occur for various reasons such as invalid input, resource unavailability, or logical errors. Python provides a set of built-in exceptions that can be raised by the interpreter or by the programmer using the raise statement.\n",
    "\n",
    "On the other hand, syntax errors occur when the syntax of a program is incorrect, violating the language's grammar rules. Syntax errors prevent the program from being compiled or interpreted, and they are usually caught by the interpreter or development environment before the program is executed. Syntax errors are typically caused by mistakes such as missing or mismatched parentheses, incorrect keywords or operators, or incorrect indentation.\n",
    "\n",
    "The key difference between exceptions and syntax errors is that exceptions occur during program execution, while syntax errors occur during the compilation or interpretation phase. Exceptions are typically caused by input or logical errors and can be handled with error-handling code, while syntax errors need to be corrected by the programmer."
   ]
  },
  {
   "cell_type": "markdown",
   "id": "3d0d0e81-18f5-44d5-afaa-419d5aaabc06",
   "metadata": {},
   "source": [
    "Q2. What happens when an exception is not handled? Explain with an example."
   ]
  },
  {
   "cell_type": "markdown",
   "id": "fb8e2d8c-79ce-4df3-b7a2-1f747e3b51ea",
   "metadata": {},
   "source": [
    "Ans:When an exception is not handled in Python, the interpreter terminates the program and prints a traceback message that shows the location of the unhandled exception and the call stack that led up to it. This can be problematic for several reasons, as it prevents the program from completing its intended task, and it can be difficult for the user to understand the cause of the error."
   ]
  },
  {
   "cell_type": "code",
   "execution_count": 1,
   "id": "0cc2392c-a794-4f6d-aede-f5964a35ded5",
   "metadata": {},
   "outputs": [
    {
     "ename": "ZeroDivisionError",
     "evalue": "division by zero",
     "output_type": "error",
     "traceback": [
      "\u001b[0;31m---------------------------------------------------------------------------\u001b[0m",
      "\u001b[0;31mZeroDivisionError\u001b[0m                         Traceback (most recent call last)",
      "Cell \u001b[0;32mIn[1], line 4\u001b[0m\n\u001b[1;32m      1\u001b[0m \u001b[38;5;28;01mdef\u001b[39;00m \u001b[38;5;21mdivide\u001b[39m(a, b):\n\u001b[1;32m      2\u001b[0m     \u001b[38;5;28;01mreturn\u001b[39;00m a \u001b[38;5;241m/\u001b[39m b\n\u001b[0;32m----> 4\u001b[0m result \u001b[38;5;241m=\u001b[39m \u001b[43mdivide\u001b[49m\u001b[43m(\u001b[49m\u001b[38;5;241;43m10\u001b[39;49m\u001b[43m,\u001b[49m\u001b[43m \u001b[49m\u001b[38;5;241;43m0\u001b[39;49m\u001b[43m)\u001b[49m\n\u001b[1;32m      5\u001b[0m \u001b[38;5;28mprint\u001b[39m(result)\n",
      "Cell \u001b[0;32mIn[1], line 2\u001b[0m, in \u001b[0;36mdivide\u001b[0;34m(a, b)\u001b[0m\n\u001b[1;32m      1\u001b[0m \u001b[38;5;28;01mdef\u001b[39;00m \u001b[38;5;21mdivide\u001b[39m(a, b):\n\u001b[0;32m----> 2\u001b[0m     \u001b[38;5;28;01mreturn\u001b[39;00m \u001b[43ma\u001b[49m\u001b[43m \u001b[49m\u001b[38;5;241;43m/\u001b[39;49m\u001b[43m \u001b[49m\u001b[43mb\u001b[49m\n",
      "\u001b[0;31mZeroDivisionError\u001b[0m: division by zero"
     ]
    }
   ],
   "source": [
    "def divide(a, b):\n",
    "    return a / b\n",
    "\n",
    "result = divide(10, 0)\n",
    "print(result)"
   ]
  },
  {
   "cell_type": "markdown",
   "id": "d8dab4d2-e2db-4e89-8457-40772327e4e8",
   "metadata": {},
   "source": [
    "In above example, the divide function attempts to divide the first argument by the second argument. However, if the second argument is zero, a ZeroDivisionError exception will be raised because division by zero is not allowed. Since there is no exception handling code in this example, the exception will propagate up the call stack and cause the program to terminate with a traceback message like above"
   ]
  },
  {
   "cell_type": "markdown",
   "id": "9ac6bd19-48d5-4113-b882-bf1986acd4af",
   "metadata": {},
   "source": [
    "Q3. Which Python statements are used to catch and handle exceptions? Explain with an example."
   ]
  },
  {
   "cell_type": "markdown",
   "id": "d10e63a7-0372-4e10-bea4-a5454a675213",
   "metadata": {},
   "source": [
    "Ans:In Python, the try and except statements are used to catch and handle exceptions.\n",
    "\n",
    "The try statement contains the code that may raise an exception, while the except statement defines the code to be executed if an exception is raised within the try block. The except block can be followed by one or more exception types, which specify the specific types of exceptions to catch.\n",
    "\n",
    "Here's an example of using try and except statements to catch and handle an exception in Python:"
   ]
  },
  {
   "cell_type": "code",
   "execution_count": 2,
   "id": "eba7815e-b019-408c-bd83-d51be24a5176",
   "metadata": {},
   "outputs": [
    {
     "name": "stdout",
     "output_type": "stream",
     "text": [
      "Error: division by zero\n"
     ]
    }
   ],
   "source": [
    "def divide(a, b):\n",
    "    try:\n",
    "        return a / b\n",
    "    except ZeroDivisionError:\n",
    "        print(\"Error: division by zero\")\n",
    "        return None\n",
    "\n",
    "result = divide(10, 0)\n",
    "if result is not None:\n",
    "    print(result)"
   ]
  },
  {
   "cell_type": "markdown",
   "id": "6da033f0-7dfe-423a-82e6-a6551e082e0d",
   "metadata": {},
   "source": [
    "Q4. Explain with an example:\n",
    "a. try and else\n",
    "b. finally\n",
    "c. raise "
   ]
  },
  {
   "cell_type": "markdown",
   "id": "f9c82202-4b6c-4ea7-8847-ded5f7a986b0",
   "metadata": {},
   "source": [
    "Ans:\n",
    "a. try and else:\n",
    "\n",
    "The else statement can be used in combination with try and except statements to define a block of code that is executed when no exceptions are raised in the try block. This can be useful for separating the normal code flow from the exception handling code, making the code more readable and maintainable."
   ]
  },
  {
   "cell_type": "code",
   "execution_count": 3,
   "id": "2564e7a3-d800-4d79-b543-614d6ffd1f11",
   "metadata": {},
   "outputs": [
    {
     "name": "stdout",
     "output_type": "stream",
     "text": [
      "Error: division by zero\n"
     ]
    }
   ],
   "source": [
    "def divide(a, b):\n",
    "    try:\n",
    "        return a / b\n",
    "    except ZeroDivisionError:\n",
    "        print(\"Error: division by zero\")\n",
    "        return None\n",
    "\n",
    "result = divide(10, 0)\n",
    "if result is not None:\n",
    "    print(result)"
   ]
  },
  {
   "cell_type": "markdown",
   "id": "e2a7d07b-7d89-4fbc-b3eb-bb856b01b474",
   "metadata": {},
   "source": [
    "b. finally:\n",
    "\n",
    "The finally statement is used in combination with try and except statements to define a block of code that is always executed, regardless of whether an exception is raised or not. This can be useful for releasing resources, closing files or connections, or performing cleanup operations that need to be done even in the presence of exceptions."
   ]
  },
  {
   "cell_type": "code",
   "execution_count": 4,
   "id": "0c5a6c13-91a6-494d-8788-8fd27c8eefd0",
   "metadata": {},
   "outputs": [
    {
     "name": "stdout",
     "output_type": "stream",
     "text": [
      "Error: file not found\n",
      "Finally will executr itself in any situation\n"
     ]
    }
   ],
   "source": [
    "try:\n",
    "    # some code that may raise an exception\n",
    "    file = open(\"file.txt\", \"r\")\n",
    "    content = file.read()\n",
    "    print(content)\n",
    "except FileNotFoundError:\n",
    "    # exception handling code for file not found error\n",
    "    print(\"Error: file not found\")\n",
    "finally:\n",
    "    # code to be executed always, whether an exception is raised or not\n",
    "    print(\"Finally will executr itself in any situation\")\n"
   ]
  },
  {
   "cell_type": "markdown",
   "id": "42ff48c1-e1e2-4141-8371-51c9dd164681",
   "metadata": {},
   "source": [
    "c. raise:\n",
    "\n",
    "The raise statement is used to explicitly raise an exception from within a program. This can be useful for signaling errors or abnormal conditions that cannot be handled locally.\n",
    "\n",
    "Here's an example:"
   ]
  },
  {
   "cell_type": "code",
   "execution_count": 5,
   "id": "35007cef-d0cd-48ae-9f21-1e96bfe5e7a2",
   "metadata": {},
   "outputs": [
    {
     "ename": "ValueError",
     "evalue": "division by zero",
     "output_type": "error",
     "traceback": [
      "\u001b[0;31m---------------------------------------------------------------------------\u001b[0m",
      "\u001b[0;31mValueError\u001b[0m                                Traceback (most recent call last)",
      "Cell \u001b[0;32mIn[5], line 6\u001b[0m\n\u001b[1;32m      3\u001b[0m         \u001b[38;5;28;01mraise\u001b[39;00m \u001b[38;5;167;01mValueError\u001b[39;00m(\u001b[38;5;124m\"\u001b[39m\u001b[38;5;124mdivision by zero\u001b[39m\u001b[38;5;124m\"\u001b[39m)\n\u001b[1;32m      4\u001b[0m     \u001b[38;5;28;01mreturn\u001b[39;00m a \u001b[38;5;241m/\u001b[39m b\n\u001b[0;32m----> 6\u001b[0m result \u001b[38;5;241m=\u001b[39m \u001b[43mdivide\u001b[49m\u001b[43m(\u001b[49m\u001b[38;5;241;43m10\u001b[39;49m\u001b[43m,\u001b[49m\u001b[43m \u001b[49m\u001b[38;5;241;43m0\u001b[39;49m\u001b[43m)\u001b[49m\n",
      "Cell \u001b[0;32mIn[5], line 3\u001b[0m, in \u001b[0;36mdivide\u001b[0;34m(a, b)\u001b[0m\n\u001b[1;32m      1\u001b[0m \u001b[38;5;28;01mdef\u001b[39;00m \u001b[38;5;21mdivide\u001b[39m(a, b):\n\u001b[1;32m      2\u001b[0m     \u001b[38;5;28;01mif\u001b[39;00m b \u001b[38;5;241m==\u001b[39m \u001b[38;5;241m0\u001b[39m:\n\u001b[0;32m----> 3\u001b[0m         \u001b[38;5;28;01mraise\u001b[39;00m \u001b[38;5;167;01mValueError\u001b[39;00m(\u001b[38;5;124m\"\u001b[39m\u001b[38;5;124mdivision by zero\u001b[39m\u001b[38;5;124m\"\u001b[39m)\n\u001b[1;32m      4\u001b[0m     \u001b[38;5;28;01mreturn\u001b[39;00m a \u001b[38;5;241m/\u001b[39m b\n",
      "\u001b[0;31mValueError\u001b[0m: division by zero"
     ]
    }
   ],
   "source": [
    "def divide(a, b):\n",
    "    if b == 0:\n",
    "        raise ValueError(\"division by zero\")\n",
    "    return a / b\n",
    "\n",
    "result = divide(10, 0)"
   ]
  },
  {
   "cell_type": "markdown",
   "id": "78243b69-5349-4276-8acc-8bbc63c95a9f",
   "metadata": {},
   "source": [
    "Q5. What are Custom Exceptions in python? Why do we need Custom Exceptions? Explain with an example."
   ]
  },
  {
   "cell_type": "markdown",
   "id": "3f46cf48-f198-4459-85fe-cc080bc2cd38",
   "metadata": {},
   "source": [
    "Ans: In Python, custom exceptions are user-defined exceptions that inherit from the built-in Exception class. They allow developers to define their own exception types with custom error messages and behavior.\n",
    "\n",
    "We need custom exceptions in Python to handle application-specific errors that are not covered by the built-in exceptions. By defining our own exception classes, we can provide more specific error messages and add additional behavior that is relevant to our application.\n",
    "\n",
    "Here's an example of how to define a custom exception in Python:"
   ]
  },
  {
   "cell_type": "code",
   "execution_count": 6,
   "id": "8f203d21-fe50-4148-a4b9-b15be5b6044c",
   "metadata": {},
   "outputs": [],
   "source": [
    "class CustomException(Exception):\n",
    "    def __init__(self, message):\n",
    "        self.message = message\n",
    "\n",
    "    def __str__(self):\n",
    "        return self.message\n"
   ]
  },
  {
   "cell_type": "code",
   "execution_count": 7,
   "id": "0962d9ce-26ee-4d5b-9211-979fe45d966a",
   "metadata": {},
   "outputs": [
    {
     "name": "stdout",
     "output_type": "stream",
     "text": [
      "Cannot compute square root of negative number\n"
     ]
    }
   ],
   "source": [
    "def square_root(number):\n",
    "    if number < 0:\n",
    "        raise CustomException(\"Cannot compute square root of negative number\")\n",
    "    return number ** 0.5\n",
    "\n",
    "try:\n",
    "    print(square_root(-9))\n",
    "except CustomException as e:\n",
    "    print(e)\n",
    "\n"
   ]
  },
  {
   "cell_type": "markdown",
   "id": "b1424318-67f7-4602-bbfa-7b715c363bda",
   "metadata": {},
   "source": [
    "Q6. Create a custom exception class. Use this class to handle an exception."
   ]
  },
  {
   "cell_type": "code",
   "execution_count": 8,
   "id": "b2eb7e88-4d4a-4813-9598-fee3986a4706",
   "metadata": {},
   "outputs": [
    {
     "name": "stdout",
     "output_type": "stream",
     "text": [
      "Cannot divide by zero\n"
     ]
    }
   ],
   "source": [
    "class InvalidInputError(Exception):\n",
    "    def __init__(self, message):\n",
    "        self.message = message\n",
    "\n",
    "    def __str__(self):\n",
    "        return self.message\n",
    "\n",
    "def divide_numbers(a, b):\n",
    "    if b == 0:\n",
    "        raise InvalidInputError(\"Cannot divide by zero\")\n",
    "    return a / b\n",
    "\n",
    "try:\n",
    "    result = divide_numbers(10, 0)\n",
    "    print(result)\n",
    "except InvalidInputError as e:\n",
    "    print(e)"
   ]
  },
  {
   "cell_type": "code",
   "execution_count": null,
   "id": "6d54dc36-16e7-4578-9984-8e14f25b5965",
   "metadata": {},
   "outputs": [],
   "source": []
  }
 ],
 "metadata": {
  "kernelspec": {
   "display_name": "Python 3 (ipykernel)",
   "language": "python",
   "name": "python3"
  },
  "language_info": {
   "codemirror_mode": {
    "name": "ipython",
    "version": 3
   },
   "file_extension": ".py",
   "mimetype": "text/x-python",
   "name": "python",
   "nbconvert_exporter": "python",
   "pygments_lexer": "ipython3",
   "version": "3.10.8"
  }
 },
 "nbformat": 4,
 "nbformat_minor": 5
}
