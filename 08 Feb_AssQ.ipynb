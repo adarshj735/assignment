{
 "cells": [
  {
   "cell_type": "markdown",
   "id": "12c64716-1567-49bb-b282-5cc536943b11",
   "metadata": {},
   "source": [
    "Q1. What is Abstraction in OOps? Explain with an example."
   ]
  },
  {
   "cell_type": "markdown",
   "id": "1980d8c4-c369-4486-b649-47b488c95ca8",
   "metadata": {},
   "source": [
    "Ans:In object-oriented programming (OOP), abstraction is the process of hiding implementation details while showing only the essential features of the object to the outside world. It is an important concept in OOP as it helps to reduce complexity and increase simplicity.\n",
    "\n",
    "Abstraction is achieved through the use of abstract classes and interfaces. An abstract class is a class that cannot be instantiated but can be subclassed. It can have abstract methods, which are methods that are declared but not implemented in the abstract class. The implementation of the abstract method is left to the subclass. An interface is a collection of abstract methods that define the behavior of an object."
   ]
  },
  {
   "cell_type": "code",
   "execution_count": 1,
   "id": "59ce9a0b-dee9-4f79-a232-c7d8af031029",
   "metadata": {},
   "outputs": [],
   "source": [
    "import abc\n",
    "class Bank:\n",
    "    \n",
    "    abc.abstractmethod\n",
    "    def deposite(self):\n",
    "        pass\n",
    "    \n",
    "    abc.abstractmethod\n",
    "    def withdraw(self):\n",
    "        pass\n",
    "    \n",
    "    abc.abstractmethod\n",
    "    def get_balance(self):\n",
    "        pass"
   ]
  },
  {
   "cell_type": "code",
   "execution_count": 2,
   "id": "434403e7-142a-4475-8c66-8398585f2e33",
   "metadata": {},
   "outputs": [],
   "source": [
    "class saving_account(Bank):\n",
    "    \n",
    "    def deposite(self):\n",
    "        return \"This is a method to deposite money in Saving account\"\n",
    "    \n",
    "    def withdraw(self):\n",
    "        return \"This is a method to withdraw money from Saving account\"\n",
    "    "
   ]
  },
  {
   "cell_type": "markdown",
   "id": "e2f2c5f2-5789-4f07-8a39-af57153c7994",
   "metadata": {},
   "source": [
    "Q2. Differentiate between Abstraction and Encapsulation. Explain with an example."
   ]
  },
  {
   "cell_type": "markdown",
   "id": "df3620de-01c8-4393-a808-834baf20a218",
   "metadata": {},
   "source": [
    "Ans:Abstraction and Encapsulation are two important concepts in Object-Oriented Programming (OOP). While both are related to data hiding and simplifying the implementation of complex systems, there are some differences between them.\n",
    "\n",
    "Abstraction is the process of hiding implementation details while showing only the essential features of the object to the outside world. Abstraction deals with the complexity of a system by breaking it down into smaller, more manageable parts. In other words, it focuses on \"what\" an object does rather than \"how\" it does it. It is achieved through the use of abstract classes and interfaces.\n",
    "\n",
    "Encapsulation, on the other hand, is the process of hiding implementation details and restricting access to data and methods within a class. Encapsulation ensures that data is protected from unauthorized access and modification, and it prevents data from being accessed directly by other objects. It is achieved by defining private variables and using getters and setters to access and modify them.\n",
    "\n",
    "Here's an example to differentiate between the two concepts:\n",
    "\n",
    "Let's say we have a class called BankAccount, which represents a bank account. The BankAccount class has three attributes: account number, balance, and account holder name. We want to implement abstraction and encapsulation to hide the implementation details and protect the data.\n",
    "\n",
    "Abstraction:\n",
    "\n",
    "We can achieve abstraction by creating an abstract class called Account, which defines the essential features of a bank account. The Account class has abstract methods like deposit(), withdraw(), and getBalance(), which are implemented by the BankAccount class. Other classes, like SavingsAccount and CheckingAccount, can also extend the Account class and implement their own deposit(), withdraw(), and getBalance() methods.\n",
    "\n",
    "Encapsulation:\n",
    "\n",
    "To achieve encapsulation, we can make the attributes of the BankAccount class private, which means they can only be accessed within the BankAccount class. We can provide public getters and setters to access and modify the attributes of the BankAccount class. For example, we can define the methods getAccountNumber(), getBalance(), and getAccountHolderName() to get the values of the account number, balance, and account holder name, respectively. We can also define the methods setBalance() and setAccountHolderName() to modify the balance and account holder name, respectively.\n"
   ]
  },
  {
   "cell_type": "markdown",
   "id": "3b014f56-6261-4938-96ca-e195717aa185",
   "metadata": {},
   "source": [
    "Q3. What is abc module in python? Why is it used?"
   ]
  },
  {
   "cell_type": "markdown",
   "id": "8e007ac2-9666-4bed-a57b-318bdeffda4c",
   "metadata": {},
   "source": [
    "Ans:The abc (Abstract Base Classes) module in Python is a built-in module that provides a way to define abstract base classes. Abstract base classes are classes that cannot be instantiated but can be subclassed to provide concrete implementations.\n",
    "\n",
    "In Python, abstract base classes are used to define common interfaces and shared behaviors among related classes. They help to enforce a common structure and functionality across different classes, making it easier to write reusable code and ensure consistency in behavior.\n",
    "\n",
    "The abc module provides a way to define abstract base classes using the ABCMeta metaclass and the abstractmethod() decorator. The ABCMeta metaclass is used to create a class that cannot be instantiated directly, and the abstractmethod() decorator is used to define methods that must be implemented by the subclasses.\n",
    "\n",
    "Here's an example to illustrate the use of the abc module:\n",
    "\n"
   ]
  },
  {
   "cell_type": "code",
   "execution_count": 3,
   "id": "325584f4-1a1e-4aee-a245-5783de3e0e1d",
   "metadata": {},
   "outputs": [],
   "source": [
    "import abc\n",
    "\n",
    "class Shape:\n",
    "    abc.abstractmethod\n",
    "    def area(self):\n",
    "        pass\n",
    "    \n",
    "    abc.abstractmethod\n",
    "    def perimeter(self):\n",
    "        pass\n",
    "    \n",
    "class Rectangle(Shape):\n",
    "    def __init__(self, length, width):\n",
    "        self.length = length\n",
    "        self.width = width\n",
    "        \n",
    "    def area(self):\n",
    "        return self.length * self.width\n",
    "    \n",
    "    def perimeter(self):\n",
    "        return 2 * (self.length + self.width)\n",
    "\n",
    "class Circle(Shape):\n",
    "    def __init__(self, radius):\n",
    "        self.radius = radius\n",
    "        \n",
    "    def area(self):\n",
    "        return 3.14 * (self.radius ** 2)\n",
    "    \n",
    "    def perimeter(self):\n",
    "        return 2 * 3.14 * self.radius\n"
   ]
  },
  {
   "cell_type": "markdown",
   "id": "d790d4f4-3ed3-4390-82bb-d5a21b93187c",
   "metadata": {},
   "source": [
    "Q4. How can we achieve data abstraction?"
   ]
  },
  {
   "cell_type": "markdown",
   "id": "b7094583-6654-44b4-8490-601da084efe6",
   "metadata": {},
   "source": [
    "In Python, data abstraction can be achieved using classes, specifically by defining attributes and methods as public, private, or protected. This helps to hide implementation details and present a simplified interface to the users."
   ]
  },
  {
   "cell_type": "code",
   "execution_count": 4,
   "id": "da927219-c5a4-43f1-bef7-8c11b2a9bb41",
   "metadata": {},
   "outputs": [],
   "source": [
    "class Employee:\n",
    "    def __init__(self, name, salary, email):\n",
    "        self.name = name          # public attribute\n",
    "        self.__salary = salary    # private attribute\n",
    "        self._email = email       # protected attribute\n",
    "    \n",
    "    def get_salary(self):\n",
    "        return self.__salary     # private method\n",
    "    \n",
    "    def set_salary(self, salary):\n",
    "        self.__salary = salary   # private method\n",
    "\n",
    "    def get_email(self):\n",
    "        return self._email       # protected method\n",
    "\n",
    "    def set_email(self, email):\n",
    "        self._email = email      # protected method\n",
    "\n",
    "    def get_info(self):\n",
    "        return f\"Name: {self.name}, Salary: {self.__salary}, Email: {self._email}\"\n"
   ]
  },
  {
   "cell_type": "code",
   "execution_count": 5,
   "id": "90a864a4-1487-4fa7-a4ba-edf63cb8f8df",
   "metadata": {},
   "outputs": [],
   "source": [
    "c = Employee(\"Adarsh\",22345,\"ada@gmail.com\")"
   ]
  },
  {
   "cell_type": "code",
   "execution_count": 6,
   "id": "e80b8ac4-8dc0-4dce-9bff-15ec4b90d536",
   "metadata": {},
   "outputs": [
    {
     "data": {
      "text/plain": [
       "'Name: Adarsh, Salary: 22345, Email: ada@gmail.com'"
      ]
     },
     "execution_count": 6,
     "metadata": {},
     "output_type": "execute_result"
    }
   ],
   "source": [
    "c.get_info()"
   ]
  },
  {
   "cell_type": "markdown",
   "id": "a8bec019-d723-4012-ba81-3832d7b0ed3b",
   "metadata": {},
   "source": [
    "Q5. Can we create an instance of an abstract class? Explain your answer."
   ]
  },
  {
   "cell_type": "markdown",
   "id": "b262577f-7592-4282-92fe-c597cb1b5b5b",
   "metadata": {},
   "source": [
    "Ans:No, we cannot create an instance of an abstract class in Python.\n",
    "\n",
    "An abstract class is a class that is meant to be inherited by other classes, but not instantiated on its own. It serves as a blueprint for other classes to inherit from, and it contains one or more abstract methods that must be implemented by its child classes.\n",
    "\n",
    "In Python, we can define an abstract class using the abc module , and we can declare a method as abstract using the abc.abstractmethod decorator."
   ]
  },
  {
   "cell_type": "code",
   "execution_count": 7,
   "id": "6c4229ff-b865-4e98-93cb-2aba19b9b251",
   "metadata": {},
   "outputs": [],
   "source": [
    "import abc\n",
    "\n",
    "class Animal:\n",
    "    \n",
    "    abc.abstractmethod\n",
    "    def sound(self):\n",
    "        pass\n"
   ]
  },
  {
   "cell_type": "code",
   "execution_count": 8,
   "id": "929ea02f-776f-438f-ad07-2a21b18904e3",
   "metadata": {},
   "outputs": [],
   "source": [
    "class Dog(Animal):\n",
    "    \n",
    "    def sound(self):\n",
    "        return \"Woof\"\n"
   ]
  },
  {
   "cell_type": "code",
   "execution_count": 9,
   "id": "5c337257-4fca-4a73-89c6-c857c1e2f933",
   "metadata": {},
   "outputs": [
    {
     "data": {
      "text/plain": [
       "'Woof'"
      ]
     },
     "execution_count": 9,
     "metadata": {},
     "output_type": "execute_result"
    }
   ],
   "source": [
    "d = Dog()\n",
    "d.sound()"
   ]
  },
  {
   "cell_type": "code",
   "execution_count": null,
   "id": "405c4449-25a4-4b89-846e-b6d1c12eb40a",
   "metadata": {},
   "outputs": [],
   "source": []
  }
 ],
 "metadata": {
  "kernelspec": {
   "display_name": "Python 3 (ipykernel)",
   "language": "python",
   "name": "python3"
  },
  "language_info": {
   "codemirror_mode": {
    "name": "ipython",
    "version": 3
   },
   "file_extension": ".py",
   "mimetype": "text/x-python",
   "name": "python",
   "nbconvert_exporter": "python",
   "pygments_lexer": "ipython3",
   "version": "3.10.8"
  }
 },
 "nbformat": 4,
 "nbformat_minor": 5
}
