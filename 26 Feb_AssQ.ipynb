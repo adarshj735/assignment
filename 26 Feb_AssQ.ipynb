{
 "cells": [
  {
   "cell_type": "markdown",
   "id": "3c62acfd-971e-4c4e-9d28-95067dbdac46",
   "metadata": {},
   "source": [
    "# Consider the below code to answer further questions:"
   ]
  },
  {
   "cell_type": "code",
   "execution_count": 1,
   "id": "cf3f6c5b-164f-4ab0-9174-14cf177540cd",
   "metadata": {},
   "outputs": [],
   "source": [
    "import numpy as np\n",
    "list_ = [ '1','2','3','4','5' ]\n",
    "array_list = np.array(object = list_)"
   ]
  },
  {
   "cell_type": "markdown",
   "id": "fda5d9be-0d3e-4441-933e-724668382ffe",
   "metadata": {},
   "source": [
    "# Q1. Is there any difference in the data type of variables list_ and array_list? If there is then write a code to print the data types of both the variables."
   ]
  },
  {
   "cell_type": "markdown",
   "id": "581a2cb0-4a98-4186-970b-dfe8cc414172",
   "metadata": {},
   "source": [
    "### Yes, there is a difference in the data type of variables list_ and array_list. In Python, the list_ variable is a standard Python list, whereas the array_list variable is a NumPy array."
   ]
  },
  {
   "cell_type": "code",
   "execution_count": 2,
   "id": "a3723a13-74ac-4e6e-9fac-109e651acbf9",
   "metadata": {},
   "outputs": [
    {
     "name": "stdout",
     "output_type": "stream",
     "text": [
      "Data type of list_: <class 'list'>\n",
      "Data type of array_list: <class 'numpy.ndarray'>\n"
     ]
    }
   ],
   "source": [
    "print(\"Data type of list_:\", type(list_))\n",
    "print(\"Data type of array_list:\", type(array_list))"
   ]
  },
  {
   "cell_type": "markdown",
   "id": "6e9e822d-fe7b-4e1b-89b0-b58025884528",
   "metadata": {},
   "source": [
    "# Q2. Write a code to print the data type of each and every element of both the variables list_ and array_list."
   ]
  },
  {
   "cell_type": "code",
   "execution_count": 3,
   "id": "14b44a90-1130-4f6c-85ad-2b31b66b713e",
   "metadata": {},
   "outputs": [
    {
     "name": "stdout",
     "output_type": "stream",
     "text": [
      "The data type inside list_\n",
      "\t data type is: <class 'str'>\n",
      "\t data type is: <class 'str'>\n",
      "\t data type is: <class 'str'>\n",
      "\t data type is: <class 'str'>\n",
      "\t data type is: <class 'str'>\n",
      "The data type inside array_list\n",
      "\t data type is: <class 'numpy.str_'>\n",
      "\t data type is: <class 'numpy.str_'>\n",
      "\t data type is: <class 'numpy.str_'>\n",
      "\t data type is: <class 'numpy.str_'>\n",
      "\t data type is: <class 'numpy.str_'>\n"
     ]
    }
   ],
   "source": [
    "print(\"The data type inside list_\")\n",
    "for i in list_:\n",
    "    print(\"\\t data type is:\",type(i))\n",
    "    \n",
    "print(\"The data type inside array_list\")\n",
    "for i in array_list:\n",
    "    print(\"\\t data type is:\",type(i))"
   ]
  },
  {
   "cell_type": "markdown",
   "id": "a42df0e4-cb26-4e1b-9dec-6f1db09df303",
   "metadata": {},
   "source": [
    "# Q3. Considering the following changes in the variable, array_list:"
   ]
  },
  {
   "cell_type": "code",
   "execution_count": 4,
   "id": "437e44bb-d090-4701-9059-7576a162df6c",
   "metadata": {},
   "outputs": [],
   "source": [
    "array_list = np.array(object = list_, dtype = int)"
   ]
  },
  {
   "cell_type": "markdown",
   "id": "3e8bdade-19e8-4d45-a94d-973750df6cb4",
   "metadata": {},
   "source": [
    "## Will there be any difference in the data type of the elements present in both the variables, list_ and arra_list? If so then print the data types of each and every element present in both the variables, list_ and arra_list."
   ]
  },
  {
   "cell_type": "code",
   "execution_count": 5,
   "id": "ce22ecf0-f786-401b-82b3-3e8bdd273a33",
   "metadata": {},
   "outputs": [
    {
     "name": "stdout",
     "output_type": "stream",
     "text": [
      "The data type inside list_\n",
      "\t data type is: <class 'str'>\n",
      "\t data type is: <class 'str'>\n",
      "\t data type is: <class 'str'>\n",
      "\t data type is: <class 'str'>\n",
      "\t data type is: <class 'str'>\n",
      "The data type inside array_list\n",
      "\t data type is: <class 'numpy.int64'>\n",
      "\t data type is: <class 'numpy.int64'>\n",
      "\t data type is: <class 'numpy.int64'>\n",
      "\t data type is: <class 'numpy.int64'>\n",
      "\t data type is: <class 'numpy.int64'>\n"
     ]
    }
   ],
   "source": [
    "print(\"The data type inside list_\")\n",
    "for i in list_:\n",
    "    print(\"\\t data type is:\",type(i))\n",
    "    \n",
    "print(\"The data type inside array_list\")\n",
    "for i in array_list:\n",
    "    print(\"\\t data type is:\",type(i))"
   ]
  },
  {
   "cell_type": "markdown",
   "id": "c797ed32-a763-486e-881d-6c089600387e",
   "metadata": {},
   "source": [
    "### Yes, there will be a difference in the data type of elements present in both the variables list_ and array_list after the change.\n",
    "### By using array_list = np.array(object=list_, dtype=int), we are explicitly specifying that the elements in the array_list should be of type integer (int). Therefore, the elements in array_list will be converted from strings to integers."
   ]
  },
  {
   "cell_type": "markdown",
   "id": "70e372dc-4e6f-41ff-9c06-363134e1626d",
   "metadata": {},
   "source": [
    "# Consider the below code to answer further questions:"
   ]
  },
  {
   "cell_type": "code",
   "execution_count": 6,
   "id": "ed004b31-bb27-474a-a73c-7af1cbe2aafc",
   "metadata": {},
   "outputs": [],
   "source": [
    "import numpy as np\n",
    "\n",
    "num_list = [ [ 1 , 2 , 3 ] , [ 4 , 5 , 6 ] ]\n",
    "\n",
    "num_array = np.array(object = num_list)"
   ]
  },
  {
   "cell_type": "markdown",
   "id": "2e86cbba-9d62-4550-9f2d-25b7107397f1",
   "metadata": {},
   "source": [
    "# Q4. Write a code to find the following characteristics of variable, num_array:\n",
    "### (i)\t shape\n",
    "### (ii) size"
   ]
  },
  {
   "cell_type": "code",
   "execution_count": 7,
   "id": "0f5ebba4-4371-4291-8250-13b8e4af73d5",
   "metadata": {},
   "outputs": [
    {
     "data": {
      "text/plain": [
       "(2, 3)"
      ]
     },
     "execution_count": 7,
     "metadata": {},
     "output_type": "execute_result"
    }
   ],
   "source": [
    "num_array.shape"
   ]
  },
  {
   "cell_type": "code",
   "execution_count": 8,
   "id": "b8ed2369-06db-48f9-a33d-c27199bf6cc3",
   "metadata": {},
   "outputs": [
    {
     "data": {
      "text/plain": [
       "6"
      ]
     },
     "execution_count": 8,
     "metadata": {},
     "output_type": "execute_result"
    }
   ],
   "source": [
    "num_array.size"
   ]
  },
  {
   "cell_type": "markdown",
   "id": "6eccaf47-7201-4e0f-8e23-28dd6bff10b9",
   "metadata": {},
   "source": [
    "# Q5. Write a code to create numpy array of 3*3 matrix containing zeros only, using a numpy array creation function.\n",
    "\n",
    "#### [Hint: The size of the array will be 9 and the shape will be (3,3).]"
   ]
  },
  {
   "cell_type": "code",
   "execution_count": 9,
   "id": "c530d337-c51d-43d8-ac97-99ee3a00d819",
   "metadata": {},
   "outputs": [
    {
     "data": {
      "text/plain": [
       "array([[0., 0., 0.],\n",
       "       [0., 0., 0.],\n",
       "       [0., 0., 0.]])"
      ]
     },
     "execution_count": 9,
     "metadata": {},
     "output_type": "execute_result"
    }
   ],
   "source": [
    "import numpy as np\n",
    "np.zeros((3,3))"
   ]
  },
  {
   "cell_type": "markdown",
   "id": "bab967aa-35f3-41f6-9796-1bd0cd52a4c8",
   "metadata": {},
   "source": [
    "# Q6. Create an identity matrix of shape (5,5) using numpy functions?\n",
    "\n",
    "#### [Hint: An identity matrix is a matrix containing 1 diagonally and other elements will be 0.]"
   ]
  },
  {
   "cell_type": "code",
   "execution_count": 10,
   "id": "ecc7e923-7ea9-4f88-b1db-e097ccc9a2c1",
   "metadata": {},
   "outputs": [
    {
     "data": {
      "text/plain": [
       "array([[1., 0., 0., 0., 0.],\n",
       "       [0., 1., 0., 0., 0.],\n",
       "       [0., 0., 1., 0., 0.],\n",
       "       [0., 0., 0., 1., 0.],\n",
       "       [0., 0., 0., 0., 1.]])"
      ]
     },
     "execution_count": 10,
     "metadata": {},
     "output_type": "execute_result"
    }
   ],
   "source": [
    "import numpy as np\n",
    "np.eye(5)"
   ]
  },
  {
   "cell_type": "code",
   "execution_count": null,
   "id": "1843253d-1550-4229-9822-a002a43e867f",
   "metadata": {},
   "outputs": [],
   "source": []
  }
 ],
 "metadata": {
  "kernelspec": {
   "display_name": "Python 3 (ipykernel)",
   "language": "python",
   "name": "python3"
  },
  "language_info": {
   "codemirror_mode": {
    "name": "ipython",
    "version": 3
   },
   "file_extension": ".py",
   "mimetype": "text/x-python",
   "name": "python",
   "nbconvert_exporter": "python",
   "pygments_lexer": "ipython3",
   "version": "3.10.8"
  }
 },
 "nbformat": 4,
 "nbformat_minor": 5
}
