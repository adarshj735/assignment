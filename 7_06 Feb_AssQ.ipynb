{
 "cells": [
  {
   "cell_type": "markdown",
   "id": "c65975b7-c8d7-496d-b7c5-4f7c6f8be101",
   "metadata": {},
   "source": [
    "Q1.Create a function which will take a list as an argument and return the product of all the numbers\n",
    "after creating a flat list.\n",
    "\n",
    "Use the below-given list as an argument for your function.\n",
    "\n",
    "list1 = [1,2,3,4, [44,55,66, True], False, (34,56,78,89,34), {1,2,3,3,2,1}, {1:34, \"key2\": [55, 67, 78, 89], 4: (45,\n",
    "22, 61, 34)}, [56, 'data science'], 'Machine Learning']\n",
    "\n",
    "\n",
    "Note: you must extract numeric keys and values of the dictionary also."
   ]
  },
  {
   "cell_type": "code",
   "execution_count": 1,
   "id": "147219c5-2af7-46aa-97ba-d93a9e1b039f",
   "metadata": {},
   "outputs": [],
   "source": [
    "list1 = [1,2,3,4, [44,55,66, True], False, (34,56,78,89,34), {1,2,3,3,2,1}, {1:34, \"key2\": [55, 67, 78, 89], 4: (45,\n",
    "22, 61, 34)}, [56, 'data science'], 'Machine Learning']"
   ]
  },
  {
   "cell_type": "code",
   "execution_count": 2,
   "id": "f9ee7429-ef1c-40cc-9e30-51e59dcf51c9",
   "metadata": {},
   "outputs": [],
   "source": [
    "def number_filter(l1): # define the function\n",
    "    from functools import reduce\n",
    "    flat_list=[] # creat a empty lsit\n",
    "    for i in l1:\n",
    "        if str(i).isnumeric(): # filter only numeric values from the main list\n",
    "            flat_list.append(i)\n",
    "        elif type(i)==list or type(i)==tuple or type(i)== set : # filtering numbers from tup, list, set elements \n",
    "            for j in i:\n",
    "                if str(j).isnumeric():\n",
    "                    flat_list.append(j)\n",
    "        elif type(i)== dict: # filtering only numeric keys\n",
    "            for k,v in i.items():\n",
    "                if str(k).isnumeric() :\n",
    "                    flat_list.append(k)\n",
    "                if str(v).isnumeric():\n",
    "                    flat_list.append(v)\n",
    "            for k,v in i.items():\n",
    "                if str(k).isnumeric()== False :\n",
    "                    if type(v)==list or type(v)== tuple:\n",
    "                        for u in v:\n",
    "                            if str(u).isnumeric():\n",
    "                                flat_list.append(u)\n",
    "            for k,v in i.items():\n",
    "                if str(k).isnumeric()== True :\n",
    "                    if type(v)==list or type(v)== tuple:\n",
    "                        for u in v:\n",
    "                            if str(u).isnumeric():\n",
    "                                flat_list.append(u)\n",
    "    \n",
    "    product = 1\n",
    "    for num in flat_list:\n",
    "        product *= num\n",
    "    return product"
   ]
  },
  {
   "cell_type": "code",
   "execution_count": 3,
   "id": "9358fd8b-f914-4644-8db9-0e43b337bcbf",
   "metadata": {},
   "outputs": [
    {
     "name": "stdout",
     "output_type": "stream",
     "text": [
      "4134711838987085478833841242112000\n"
     ]
    }
   ],
   "source": [
    "print(number_filter(list1))"
   ]
  },
  {
   "cell_type": "markdown",
   "id": "518fb213-d8b8-4585-b70c-b8d949a6e6e3",
   "metadata": {},
   "source": [
    "Q2. Write a python program for encrypting a message sent to you by your friend. The logic of encryption\n",
    "should be such that, for a the output should be z. For b, the output should be y. For c, the output should\n",
    "be x respectively. Also, the whitespace should be replaced with a dollar sign. Keep the punctuation\n",
    "marks unchanged.\n",
    "\n",
    "\n",
    "Input Sentence: I want to become a Data Scientist.\n",
    "\n",
    "\n",
    "Encrypt the above input sentence using the program you just created.\n",
    "\n",
    "\n",
    "Note: Convert the given input sentence into lowercase before encrypting. The final output should be\n",
    "lowercase."
   ]
  },
  {
   "cell_type": "code",
   "execution_count": 4,
   "id": "16e6dddd-868d-4cae-9434-ea9b0b8479aa",
   "metadata": {},
   "outputs": [],
   "source": [
    "def encrypt_message(message):\n",
    "    message = message.lower()  # convert to lowercase\n",
    "    encrypted_message = \"\"\n",
    "    for letter in message:\n",
    "        if letter.isalpha():\n",
    "            encrypted_letter = chr(ord('a') + (25 - (ord(letter) - ord('a'))))  # encrypt letter\n",
    "            encrypted_message += encrypted_letter\n",
    "        elif letter.isspace():\n",
    "            encrypted_message += \"$\"  # replace whitespace with $\n",
    "        else:\n",
    "            encrypted_message += letter  # leave punctuation marks unchanged\n",
    "    return encrypted_message\n"
   ]
  },
  {
   "cell_type": "code",
   "execution_count": 5,
   "id": "ab6a5dfa-8a78-48bf-93a8-ad202362925b",
   "metadata": {},
   "outputs": [
    {
     "name": "stdout",
     "output_type": "stream",
     "text": [
      "r$dzmg$gl$yvxlnv$z$wzgz$hxrvmgrhg.\n"
     ]
    }
   ],
   "source": [
    "input_sentence = \"I want to become a Data Scientist.\"\n",
    "encrypted_sentence = encrypt_message(input_sentence)\n",
    "print(encrypted_sentence) \n"
   ]
  },
  {
   "cell_type": "code",
   "execution_count": null,
   "id": "50ee16d3-c53d-4bf9-9721-a9fad03df47d",
   "metadata": {},
   "outputs": [],
   "source": []
  },
  {
   "cell_type": "code",
   "execution_count": null,
   "id": "b34c03a9-01da-4c52-84d4-cebd07fafd17",
   "metadata": {},
   "outputs": [],
   "source": []
  }
 ],
 "metadata": {
  "kernelspec": {
   "display_name": "Python 3 (ipykernel)",
   "language": "python",
   "name": "python3"
  },
  "language_info": {
   "codemirror_mode": {
    "name": "ipython",
    "version": 3
   },
   "file_extension": ".py",
   "mimetype": "text/x-python",
   "name": "python",
   "nbconvert_exporter": "python",
   "pygments_lexer": "ipython3",
   "version": "3.10.8"
  }
 },
 "nbformat": 4,
 "nbformat_minor": 5
}
