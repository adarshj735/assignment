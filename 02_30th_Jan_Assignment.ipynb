{
 "cells": [
  {
   "cell_type": "markdown",
   "id": "85e34efa-1f77-4027-962e-3b54eaf0cb4c",
   "metadata": {},
   "source": [
    "Q1.print grade according to percentage"
   ]
  },
  {
   "cell_type": "code",
   "execution_count": 1,
   "id": "92689c71-06f5-485f-a62f-f2b0ea516792",
   "metadata": {},
   "outputs": [
    {
     "name": "stdin",
     "output_type": "stream",
     "text": [
      "Enter percentage: 90\n"
     ]
    },
    {
     "name": "stdout",
     "output_type": "stream",
     "text": [
      "Grade B\n"
     ]
    }
   ],
   "source": [
    "per=int(input(\"Enter percentage:\"))\n",
    "if per >90:\n",
    "    print(\"Grade A\")\n",
    "elif per >80 and per <=90:\n",
    "    print(\"Grade B\")\n",
    "elif per >=60 and per <=80:\n",
    "    print(\"Grade C\")\n",
    "else:\n",
    "    print(\"Grade D\")\n"
   ]
  },
  {
   "cell_type": "markdown",
   "id": "17d4c01c-555a-42b8-b558-e99e31680937",
   "metadata": {},
   "source": [
    "Q2Write a program to accept the cost price of a bike and display the road tax to be paid according to criteria:"
   ]
  },
  {
   "cell_type": "code",
   "execution_count": 2,
   "id": "2a6787fd-b294-4e11-bf63-8fea264f8812",
   "metadata": {},
   "outputs": [
    {
     "name": "stdin",
     "output_type": "stream",
     "text": [
      "Enter cost of vehicle: 50000\n"
     ]
    },
    {
     "name": "stdout",
     "output_type": "stream",
     "text": [
      "Tax:5%\n"
     ]
    }
   ],
   "source": [
    "cost=int(input(\"Enter cost of vehicle:\"))\n",
    "if cost > 100000:\n",
    "    print(\"Tax:15%\")\n",
    "elif cost > 50000 and cost <=100000:\n",
    "    print(\"Tax:10%\")\n",
    "else:\n",
    "    print(\"Tax:5%\")"
   ]
  },
  {
   "cell_type": "markdown",
   "id": "3d8bd198-c9c6-4209-bb2d-cdfc72c263fa",
   "metadata": {},
   "source": [
    "Q3Accept any city from the user and display monuments of that city."
   ]
  },
  {
   "cell_type": "code",
   "execution_count": 3,
   "id": "e4a11554-fca8-443c-8d86-b61717c887ea",
   "metadata": {},
   "outputs": [
    {
     "name": "stdin",
     "output_type": "stream",
     "text": [
      "Name of city: Delhi\n"
     ]
    },
    {
     "name": "stdout",
     "output_type": "stream",
     "text": [
      "Red Fort\n"
     ]
    }
   ],
   "source": [
    "city=input(\"Name of city:\")\n",
    "if city==\"Delhi\" or city==\"delhi\":\n",
    "    print(\"Red Fort\")\n",
    "elif city==\"Agra\" or city==\"agra\":\n",
    "    print(\"Taj Mahal\")\n",
    "elif city==\"Jaipur\" or city==\"jaipur\":\n",
    "    print(\"Jal Mahal\")\n"
   ]
  },
  {
   "cell_type": "markdown",
   "id": "1ba8f670-fc1a-4cc2-9ef2-b88f527c964f",
   "metadata": {},
   "source": [
    "Q4Check how many times a given number can be divided by 3 before it is less than or equal to 10."
   ]
  },
  {
   "cell_type": "code",
   "execution_count": 4,
   "id": "57f907d0-48f6-4859-9033-1317aa1ea9c4",
   "metadata": {},
   "outputs": [
    {
     "name": "stdin",
     "output_type": "stream",
     "text": [
      "Enter a number :  3\n"
     ]
    },
    {
     "name": "stdout",
     "output_type": "stream",
     "text": [
      "The number 3 can be divisible by 3 for 1 times.\n"
     ]
    }
   ],
   "source": [
    "num = int(input(\"Enter a number : \"))\n",
    "count = 0\n",
    "\n",
    "if num < 10:\n",
    "    for i in range(1, num+1):\n",
    "        if i % 3 == 0:\n",
    "            count += 1\n",
    "    print(\"The number\", num, \"can be divisible by 3 for\", count, \"times.\")\n",
    "else:\n",
    "    print(\"The number should be less than 10.\")\n"
   ]
  },
  {
   "cell_type": "markdown",
   "id": "706e5db9-e856-400e-a57d-865ff3534372",
   "metadata": {},
   "source": [
    "Q5Why and When to Use while Loop in Python give a detailed description with example."
   ]
  },
  {
   "cell_type": "markdown",
   "id": "f2276c4b-9310-46d5-a625-11ec9a9bba82",
   "metadata": {},
   "source": [
    "Ans:A while loop in Python is used to repeatedly execute a block of code until a specified condition is true. The block of code inside the while loop will continue to execute as long as the condition remains true. Once the condition becomes false, the program will exit the loop and continue executing the remaining code.\n",
    "\n",
    "The while loop is particularly useful when you don't know the exact number of iterations required to accomplish a task. For example, if you want to keep asking the user for input until they enter a valid response, you can use a while loop to continuously prompt the user until they give a correct input.\n",
    "\n",
    "Example:The following program uses a while loop to print all the numbers in a list until it encounters the number 5:"
   ]
  },
  {
   "cell_type": "code",
   "execution_count": 5,
   "id": "17a67c2c-f6e2-4896-bcd6-1513bdd89c5a",
   "metadata": {},
   "outputs": [
    {
     "name": "stdout",
     "output_type": "stream",
     "text": [
      "1\n",
      "2\n",
      "3\n",
      "4\n"
     ]
    }
   ],
   "source": [
    "numbers = [1, 2, 3, 4, 5, 6, 7, 8, 9]\n",
    "\n",
    "i = 0\n",
    "while i < len(numbers) and numbers[i] != 5:\n",
    "    print(numbers[i])\n",
    "    i += 1"
   ]
  },
  {
   "cell_type": "markdown",
   "id": "bbb7a2c3-a6f9-4c15-98e7-9a33490269e4",
   "metadata": {},
   "source": [
    "Q6Use nested while loop to print 3 different pattern."
   ]
  },
  {
   "cell_type": "markdown",
   "id": "0e894475-9b63-48e1-9802-fd8e7951dbb6",
   "metadata": {},
   "source": [
    "1:"
   ]
  },
  {
   "cell_type": "code",
   "execution_count": 6,
   "id": "019675e7-84ca-4cff-853f-fc615cd53e77",
   "metadata": {},
   "outputs": [
    {
     "name": "stdout",
     "output_type": "stream",
     "text": [
      "*****\n",
      "****\n",
      "***\n",
      "**\n",
      "*\n"
     ]
    }
   ],
   "source": [
    "i = 5\n",
    "\n",
    "while i >= 1:\n",
    "    j = 1\n",
    "    while j <= i:\n",
    "        print(\"*\", end=\"\")\n",
    "        j += 1\n",
    "    print()\n",
    "    i -= 1"
   ]
  },
  {
   "cell_type": "markdown",
   "id": "aeb6809a-6ce5-46a1-9f8b-7f996b12e53f",
   "metadata": {},
   "source": [
    "2:"
   ]
  },
  {
   "cell_type": "code",
   "execution_count": 7,
   "id": "4416375c-182c-4688-a47b-f0ce3d283927",
   "metadata": {},
   "outputs": [
    {
     "name": "stdout",
     "output_type": "stream",
     "text": [
      "*\n",
      "**\n",
      "***\n",
      "****\n",
      "*****\n"
     ]
    }
   ],
   "source": [
    "row = 1\n",
    "while row <= 5:\n",
    "    col = 1\n",
    "    while col <= row:\n",
    "        print(\"*\", end=\"\")\n",
    "        col += 1\n",
    "    print()\n",
    "    row += 1"
   ]
  },
  {
   "cell_type": "markdown",
   "id": "7128a521-7110-4d33-b1f0-361754cbba79",
   "metadata": {},
   "source": [
    "3:"
   ]
  },
  {
   "cell_type": "code",
   "execution_count": 8,
   "id": "c4971017-bdda-4cef-8127-e3ead8a4ae40",
   "metadata": {},
   "outputs": [
    {
     "name": "stdout",
     "output_type": "stream",
     "text": [
      "1 \n",
      "3 3 \n",
      "5 5 5 \n",
      "7 7 7 7 \n",
      "9 9 9 9 9 \n"
     ]
    }
   ],
   "source": [
    "i = 1\n",
    "\n",
    "while i <= 5:\n",
    "    j = 1\n",
    "    while j <= i:\n",
    "        print(i*2-1, end=\" \")\n",
    "        j += 1\n",
    "    print()\n",
    "    i += 1\n"
   ]
  },
  {
   "cell_type": "markdown",
   "id": "b9dd54e4-99b4-420d-9a38-8a63bdff5802",
   "metadata": {},
   "source": [
    "Q7Reverse a while loop to display numbers from 10 to 1."
   ]
  },
  {
   "cell_type": "code",
   "execution_count": 9,
   "id": "c95994f8-ef42-46eb-b953-5014d15415e7",
   "metadata": {},
   "outputs": [
    {
     "name": "stdout",
     "output_type": "stream",
     "text": [
      "10\n",
      "9\n",
      "8\n",
      "7\n",
      "6\n",
      "5\n",
      "4\n",
      "3\n",
      "2\n",
      "1\n"
     ]
    }
   ],
   "source": [
    "num = 10\n",
    "\n",
    "while num >= 1:\n",
    "    print(num)\n",
    "    num -= 1"
   ]
  },
  {
   "cell_type": "code",
   "execution_count": null,
   "id": "d72f8e8e-60ff-4336-9b17-54f9bba50059",
   "metadata": {},
   "outputs": [],
   "source": []
  }
 ],
 "metadata": {
  "kernelspec": {
   "display_name": "Python 3 (ipykernel)",
   "language": "python",
   "name": "python3"
  },
  "language_info": {
   "codemirror_mode": {
    "name": "ipython",
    "version": 3
   },
   "file_extension": ".py",
   "mimetype": "text/x-python",
   "name": "python",
   "nbconvert_exporter": "python",
   "pygments_lexer": "ipython3",
   "version": "3.10.8"
  }
 },
 "nbformat": 4,
 "nbformat_minor": 5
}
