{
 "cells": [
  {
   "cell_type": "markdown",
   "id": "da32eb57-6a88-467b-8494-4f509bc8984f",
   "metadata": {},
   "source": [
    "Q1.  Which function is used to open a file? What are the different modes of opening a file? Explain each mode\n",
    "of file opening."
   ]
  },
  {
   "cell_type": "markdown",
   "id": "2ce442b2-a04f-404f-a901-62064cbe7b10",
   "metadata": {},
   "source": [
    "Ans: In Python, the open() function is used to open a file. The open() function returns a file object which is used to perform various operations on the file, such as read, write, or append.\n",
    "\n",
    "The open() function takes two parameters: the filename (which can include a path) and the mode in which the file should be opened. The mode specifies whether the file should be opened for reading, writing, or appending, and whether it should be opened in text mode or binary mode.\n",
    "\n",
    "The different modes of opening a file in Python are:\n",
    "\n",
    "'r' (read mode): This mode is used to open a file for reading. If the file does not exist, an error is raised. This is the default mode for opening a file.\n",
    "\n",
    "'w' (write mode): This mode is used to open a file for writing. If the file exists, its contents are truncated. If the file does not exist, it is created.\n",
    "\n",
    "'x' (exclusive creation mode): This mode is used to create a new file, but only if it does not already exist. If the file already exists, an error is raised.\n",
    "\n",
    "'a' (append mode): This mode is used to open a file for appending. If the file exists, new data is written to the end of the file. If the file does not exist, it is created.\n",
    "\n",
    "'b' (binary mode): This mode is used to open a file in binary mode. In this mode, data is read or written in its raw binary format, and no character encoding or translation is performed.\n",
    "\n",
    "'t' (text mode): This mode is used to open a file in text mode. In this mode, data is read or written as strings of characters. This is the default mode for opening a file.\n",
    "\n",
    "'+' (read/write mode): This mode is used to open a file for both reading and writing. This mode can be combined with any of the other modes by adding it to the end of the mode string, such as 'r+' for read and write mode."
   ]
  },
  {
   "cell_type": "markdown",
   "id": "426e2f41-ed30-410a-88d1-dd92b7d511c3",
   "metadata": {},
   "source": [
    "Q2. Why close() function is used? Why is it important to close a file?"
   ]
  },
  {
   "cell_type": "markdown",
   "id": "1dbd20e2-5789-4b3b-b547-bbe818a28958",
   "metadata": {},
   "source": [
    "Ans:The close() function in Python is used to close a file object that was opened using the open() function. It releases any resources that were being used by the file object and ensures that any changes made to the file are saved to disk.\n",
    "\n",
    "It is important to close a file after you have finished reading from or writing to it because leaving a file open can lead to problems. If a file is left open, it can cause issues such as:\n",
    "\n",
    "Memory leaks: When a file is opened, system resources are allocated to it. If the file is not closed properly, these resources may not be released, which can cause a memory leak.\n",
    "\n",
    "Data corruption: If a file is not closed properly, any changes made to it may not be saved to disk. This can result in data corruption, where the file becomes unreadable or the data becomes garbled.\n",
    "\n",
    "File locking: When a file is open, it is locked by the operating system so that other programs cannot access it. If a file is not closed properly, it may remain locked, preventing other programs from accessing it.\n",
    "\n",
    "Therefore, it is important to close a file after you have finished working with it. You can do this using the close() method of the file object:"
   ]
  },
  {
   "cell_type": "markdown",
   "id": "afc68cd3-50ee-420b-a15b-b7030428bad1",
   "metadata": {},
   "source": [
    "Q3. Write a python program to create a text file. Write ‘I want to become a Data Scientist’ in that file. Then\n",
    "close the file. Open this file and read the content of the file."
   ]
  },
  {
   "cell_type": "code",
   "execution_count": 1,
   "id": "732bbcb9-280b-42f6-be5f-64d832fd2e0e",
   "metadata": {},
   "outputs": [],
   "source": [
    "f = open('test.txt', 'w') # open the file for writing"
   ]
  },
  {
   "cell_type": "code",
   "execution_count": 2,
   "id": "864e9826-952e-40e6-8006-d30cb8bb9ad7",
   "metadata": {},
   "outputs": [
    {
     "data": {
      "text/plain": [
       "33"
      ]
     },
     "execution_count": 2,
     "metadata": {},
     "output_type": "execute_result"
    }
   ],
   "source": [
    "f.write('I want to become a Data Scientist') # write to the file"
   ]
  },
  {
   "cell_type": "code",
   "execution_count": 3,
   "id": "44aaae05-55e7-4a6d-8bed-e468b27a0f7e",
   "metadata": {},
   "outputs": [],
   "source": [
    "f.close() # close the file"
   ]
  },
  {
   "cell_type": "code",
   "execution_count": 4,
   "id": "186ebab4-7845-43ac-9423-1b5bc41390d8",
   "metadata": {},
   "outputs": [],
   "source": [
    "f=open('test.txt','r') # open the file for reading"
   ]
  },
  {
   "cell_type": "code",
   "execution_count": 5,
   "id": "81c3c9c8-46dd-4ceb-81dd-b730a6bca6f6",
   "metadata": {},
   "outputs": [
    {
     "data": {
      "text/plain": [
       "'I want to become a Data Scientist'"
      ]
     },
     "execution_count": 5,
     "metadata": {},
     "output_type": "execute_result"
    }
   ],
   "source": [
    "f.read() # read the contents of the file"
   ]
  },
  {
   "cell_type": "markdown",
   "id": "ec75e2a7-baa9-4ea4-b95c-514ef9099721",
   "metadata": {},
   "source": [
    "Q4. Explain the following with python code: read(), readline() and readlines()."
   ]
  },
  {
   "cell_type": "markdown",
   "id": "871b19db-73ce-4552-be16-84553ebf8175",
   "metadata": {},
   "source": [
    "Ans: 'read()': This method reads the entire contents of the file and returns them as a string. If no size is specified, it reads the entire file. If a size is specified, it reads up to that number of bytes."
   ]
  },
  {
   "cell_type": "code",
   "execution_count": 6,
   "id": "5ba7cc76-90f0-4cba-917e-8f9eabfcc35a",
   "metadata": {},
   "outputs": [
    {
     "name": "stdout",
     "output_type": "stream",
     "text": [
      "Data Science Masters course is highly curated and uniquely designed according to the latest industry standards.\n",
      "This program instills students the skills essential to knowledge discovery efforts to identify standard, novel\n"
     ]
    }
   ],
   "source": [
    "with open('file.txt', 'r') as f:\n",
    "    print(f.read())"
   ]
  },
  {
   "cell_type": "markdown",
   "id": "33c4255e-7bf2-4296-b5ab-34b23d824ea8",
   "metadata": {},
   "source": [
    "'readline()': This method reads a single line from the file and returns it as a string. Each time it is called, it reads the next line of the file. If there are no more lines, it returns an empty string."
   ]
  },
  {
   "cell_type": "code",
   "execution_count": 7,
   "id": "0953f8ee-5cd3-471c-94e1-3960c218dd68",
   "metadata": {},
   "outputs": [
    {
     "name": "stdout",
     "output_type": "stream",
     "text": [
      "Data Science Masters course is highly curated and uniquely designed according to the latest industry standards.\n",
      "\n",
      "This program instills students the skills essential to knowledge discovery efforts to identify standard, novel\n"
     ]
    }
   ],
   "source": [
    "with open('file.txt', 'r') as f:\n",
    "    line = f.readline()\n",
    "    while line:\n",
    "        print(line)\n",
    "        line = f.readline()"
   ]
  },
  {
   "cell_type": "markdown",
   "id": "f7b308aa-dbf0-43d9-9d41-180ff0ce208f",
   "metadata": {},
   "source": [
    "'readlines()': This method reads all the lines of the file and returns them as a list of strings. Each element of the list corresponds to a single line of the file, including newline characters."
   ]
  },
  {
   "cell_type": "code",
   "execution_count": 8,
   "id": "27a2f18f-a9e2-4fdf-a1d4-82928c2bd4d6",
   "metadata": {},
   "outputs": [
    {
     "name": "stdout",
     "output_type": "stream",
     "text": [
      "Data Science Masters course is highly curated and uniquely designed according to the latest industry standards.\n",
      "\n",
      "This program instills students the skills essential to knowledge discovery efforts to identify standard, novel\n"
     ]
    }
   ],
   "source": [
    "with open('file.txt', 'r') as f:\n",
    "    lines = f.readlines()\n",
    "    for line in lines:\n",
    "        print(line)"
   ]
  },
  {
   "cell_type": "markdown",
   "id": "52837ca4-048d-4b6a-b4ce-203af8589cf5",
   "metadata": {},
   "source": [
    "Q5. Explain why with statement is used with open(). What is the advantage of using with statement and\n",
    "open() together?"
   ]
  },
  {
   "cell_type": "markdown",
   "id": "3ae453cf-ef75-4a72-bfdf-4ad4af86eede",
   "metadata": {},
   "source": [
    "Ans:The with statement in Python is used with open() to automatically close the file after it has been used. It ensures that the file is properly closed, even if an error occurs while the file is being processed."
   ]
  },
  {
   "cell_type": "code",
   "execution_count": 9,
   "id": "c050c0f3-1b23-466e-beea-24d362c1ad06",
   "metadata": {},
   "outputs": [
    {
     "name": "stdout",
     "output_type": "stream",
     "text": [
      "Data Science Masters course is highly curated and uniquely designed according to the latest industry standards.\n",
      "This program instills students the skills essential to knowledge discovery efforts to identify standard, novel\n"
     ]
    }
   ],
   "source": [
    "with open('file.txt', 'r') as f:\n",
    "    data = f.read()\n",
    "    print(data)"
   ]
  },
  {
   "cell_type": "markdown",
   "id": "d39885c9-5322-4403-a215-416df17c93ec",
   "metadata": {},
   "source": [
    "Using the with statement with open() has several advantages over opening and closing files manually. Some of these advantages are:\n",
    "\n",
    "1.Automatic cleanup: The with statement automatically closes the file when the block is exited, regardless of whether an exception occurs or not.\n",
    "\n",
    "2.Reduced code complexity: The with statement removes the need to explicitly close the file, which simplifies the code and reduces its complexity.\n",
    "\n",
    "3.Safer code: By ensuring that the file is properly closed, the with statement helps prevent resource leaks and potential errors that could occur due to leaving the file open."
   ]
  },
  {
   "cell_type": "markdown",
   "id": "be8f6851-d268-49a0-ad28-f03b3fa831ec",
   "metadata": {},
   "source": [
    "Q6. Explain the write() and writelines() functions. Give a suitable example."
   ]
  },
  {
   "cell_type": "markdown",
   "id": "d77aa516-2f19-4307-9c66-34ab9796e771",
   "metadata": {},
   "source": [
    "Ans:write()\n",
    "\n",
    "The write() function is used to write a string of characters to a file. It returns the number of characters written to the file."
   ]
  },
  {
   "cell_type": "code",
   "execution_count": 10,
   "id": "1cda279e-8dcd-47dc-8c15-cdf53f834327",
   "metadata": {},
   "outputs": [
    {
     "name": "stdout",
     "output_type": "stream",
     "text": [
      "Hello, World!\n",
      "How are you?\n"
     ]
    }
   ],
   "source": [
    "with open('file1.txt', 'w') as f:\n",
    "    f.write('Hello, World!\\n')\n",
    "    f.write('How are you?')\n",
    "with open('file1.txt', 'r') as f:\n",
    "    print(f.read())"
   ]
  },
  {
   "cell_type": "markdown",
   "id": "283f9482-e8d8-47bb-b8f1-bd05709ad6ca",
   "metadata": {},
   "source": [
    "writelines()\n",
    "\n",
    "The writelines() function is used to write a list of strings to a file. Each string in the list is written to the file as a separate line."
   ]
  },
  {
   "cell_type": "code",
   "execution_count": 11,
   "id": "ee00db21-4218-4768-8796-5db3b361c2a2",
   "metadata": {},
   "outputs": [
    {
     "name": "stdout",
     "output_type": "stream",
     "text": [
      "Hello, World!\n",
      "How are you??\n"
     ]
    }
   ],
   "source": [
    "with open('file2.txt', 'w') as f:\n",
    "    lines = ['Hello, World!\\n', 'How are you??']\n",
    "    f.writelines(lines)\n",
    "with open('file2.txt', 'r') as f:\n",
    "    print(f.read())"
   ]
  },
  {
   "cell_type": "code",
   "execution_count": null,
   "id": "486dc498-a60d-49b1-9b8f-4b1897d9cb31",
   "metadata": {},
   "outputs": [],
   "source": []
  }
 ],
 "metadata": {
  "kernelspec": {
   "display_name": "Python 3 (ipykernel)",
   "language": "python",
   "name": "python3"
  },
  "language_info": {
   "codemirror_mode": {
    "name": "ipython",
    "version": 3
   },
   "file_extension": ".py",
   "mimetype": "text/x-python",
   "name": "python",
   "nbconvert_exporter": "python",
   "pygments_lexer": "ipython3",
   "version": "3.10.8"
  }
 },
 "nbformat": 4,
 "nbformat_minor": 5
}
