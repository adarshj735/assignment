{
 "cells": [
  {
   "cell_type": "code",
   "execution_count": 11,
   "id": "c168bc3d-5dfa-47a3-92c8-c80395161e45",
   "metadata": {},
   "outputs": [
    {
     "name": "stdout",
     "output_type": "stream",
     "text": [
      "1\n",
      "2\n",
      "3\n",
      "4\n",
      "5\n",
      "6\n",
      "7\n",
      "8\n",
      "9\n",
      "10\n",
      "10\n",
      "20\n",
      "30\n",
      "40\n"
     ]
    }
   ],
   "source": [
    "#Q1.  Explain with an example each when to use a for loop and a while loop.\n",
    "'''A for loop is usually used when you know the number of iterations you want to execute in advance. On the other hand, a while loop is often used when you do not know the exact number of iterations you need to perform.\n",
    "For example, consider the task of printing the numbers from 1 to 10. Since we know that we want to print 10 numbers, a for loop is a good choice:'''\n",
    "for i in range(1, 11):\n",
    "    print(i)\n",
    "\n",
    "#However, suppose you want to print numbers from a list of integers until the sum of the list elements is greater than 100. Since you don't know how many numbers you will need to print, a while loop would be a better choice:\n",
    "\n",
    "numbers = [10, 20, 30, 40, 50]\n",
    "total = 0\n",
    "i = 0\n",
    "\n",
    "while total < 100:\n",
    "    total += numbers[i]\n",
    "    print(numbers[i])\n",
    "    i += 1\n",
    "\n",
    "#In this example, the while loop iterates until the total sum is greater than 100, which could be achieved with a variable number of iterations. A while loop allows you to execute code until a certain condition is met."
   ]
  },
  {
   "cell_type": "code",
   "execution_count": 17,
   "id": "0907947f-a63d-4c1e-97e8-7faa818f87b9",
   "metadata": {},
   "outputs": [
    {
     "name": "stdout",
     "output_type": "stream",
     "text": [
      "3628800\n",
      "55\n",
      "3628800\n",
      "55\n"
     ]
    }
   ],
   "source": [
    "#Q2.  Write a python program to print the sum and product of the first 10 natural numbers using for and while loop.\n",
    "#While loop\n",
    "#Product\n",
    "x=1\n",
    "product=1\n",
    "while(x<=10):\n",
    "    product = product * x\n",
    "    x+=1\n",
    "print(product)\n",
    "    \n",
    "#sum\n",
    "x=1\n",
    "sum=0\n",
    "while(x<=10):\n",
    "    sum = sum + x\n",
    "    x+=1\n",
    "print(sum)\n",
    "\n",
    "#For Loop\n",
    "#Product\n",
    "product1=1\n",
    "for i in range(1,11):\n",
    "    product1 =product1*i\n",
    "print(product1)\n",
    "\n",
    "#sum\n",
    "sum1=0\n",
    "for i in range(1,11):\n",
    "    sum1=sum1+i\n",
    "print(sum1)"
   ]
  },
  {
   "cell_type": "code",
   "execution_count": 18,
   "id": "9633160c-cd6f-4946-a4c7-1685ac2bd4b6",
   "metadata": {},
   "outputs": [
    {
     "name": "stdin",
     "output_type": "stream",
     "text": [
      "the unit of electricity consumed by the user in a month: 310\n"
     ]
    },
    {
     "name": "stdout",
     "output_type": "stream",
     "text": [
      "The total electricity bill: 2250\n"
     ]
    }
   ],
   "source": [
    "'''Q3. Create a python program to compute the electricity bill for a household.\n",
    "The per-unit charges in rupees are as follows: For the first 100 units, the user will be charged Rs. 4.5 per\n",
    "unit, for the next 100 units, the user will be charged Rs. 6 per unit, and for the next 100 units, the user will\n",
    "be charged Rs. 10 per unit, After 300 units and above the user will be charged Rs. 20 per unit.\n",
    "You are required to take the units of electricity consumed in a month from the user as input.\n",
    "Your program must pass this test case: when the unit of electricity consumed by the user in a month is\n",
    "310, the total electricity bill should be 2250.'''\n",
    "\n",
    "unit=int(input(\"the unit of electricity consumed by the user in a month:\"))\n",
    "if unit<=100:\n",
    "    bill=unit*4.5\n",
    "elif unit>100 and unit<=200:\n",
    "    bill=(unit-100)*6 +450\n",
    "elif unit>200 and unit<=300:\n",
    "    bill=(unit-200)*10+600+450\n",
    "else:\n",
    "    bill=(unit-300)*20+1000+600+450\n",
    "print(\"The total electricity bill:\",bill)"
   ]
  },
  {
   "cell_type": "code",
   "execution_count": 20,
   "id": "5a6ef8fe-b5c7-4a04-a9b9-2b549f694889",
   "metadata": {},
   "outputs": [
    {
     "name": "stdout",
     "output_type": "stream",
     "text": [
      "[2, 4, 5, 6, 8, 10, 12, 14, 15, 16, 18, 20, 22, 24, 25, 26, 28, 30, 32, 34, 35, 36, 38, 40, 42, 44, 45, 46, 48, 50, 52, 54, 55, 56, 58, 60, 62, 64, 65, 66, 68, 70, 72, 74, 75, 76, 78, 80, 82, 84, 85, 86, 88, 90, 92, 94, 95, 96, 98, 100]\n",
      "[2, 4, 5, 6, 8, 10, 12, 14, 15, 16, 18, 20, 22, 24, 25, 26, 28, 30, 32, 34, 35, 36, 38, 40, 42, 44, 45, 46, 48, 50, 52, 54, 55, 56, 58, 60, 62, 64, 65, 66, 68, 70, 72, 74, 75, 76, 78, 80, 82, 84, 85, 86, 88, 90, 92, 94, 95, 96, 98, 100]\n"
     ]
    }
   ],
   "source": [
    "'''Q4. Create a list of numbers from 1 to 100. Use for loop and while loop to calculate the cube of each\n",
    "number and if the cube of that number is divisible by 4 or 5 then append that number in a list and print\n",
    "that list.'''\n",
    "#for loop\n",
    "l = []\n",
    "for i in range(1, 101):\n",
    "    cube = i ** 3\n",
    "    if cube % 4 == 0 or cube % 5 == 0:\n",
    "        l.append(i)\n",
    "print(l)\n",
    "\n",
    "#whileloop\n",
    "l=[]\n",
    "a=1\n",
    "while (a<101):\n",
    "    cube= a**3\n",
    "    if cube % 4 == 0 or cube % 5 == 0:\n",
    "        l.append(a)\n",
    "    a+=1\n",
    "print(l)"
   ]
  },
  {
   "cell_type": "code",
   "execution_count": 22,
   "id": "6547cd19-2e8b-481e-9e18-293c0d474537",
   "metadata": {},
   "outputs": [
    {
     "data": {
      "text/plain": [
       "['I', 'a', 'o', 'e', 'o', 'e', 'a', 'a', 'a', 'i', 'e', 'i']"
      ]
     },
     "execution_count": 22,
     "metadata": {},
     "output_type": "execute_result"
    }
   ],
   "source": [
    "\"\"\"Q5.  Write a program to filter count vowels in the below-given string.\n",
    "string = \"I want to become a data scientist\"\"\"\n",
    "\n",
    "string = \"I want to become a data scientist\"\n",
    "l= []\n",
    "for i in  string:\n",
    "    if i.lower() in ['a', 'e', 'i', 'o', 'u']:\n",
    "        l.append(i)\n",
    "l"
   ]
  },
  {
   "cell_type": "code",
   "execution_count": null,
   "id": "2c54afaa-ed90-4264-a0d0-a27038eae783",
   "metadata": {},
   "outputs": [],
   "source": []
  }
 ],
 "metadata": {
  "kernelspec": {
   "display_name": "Python 3 (ipykernel)",
   "language": "python",
   "name": "python3"
  },
  "language_info": {
   "codemirror_mode": {
    "name": "ipython",
    "version": 3
   },
   "file_extension": ".py",
   "mimetype": "text/x-python",
   "name": "python",
   "nbconvert_exporter": "python",
   "pygments_lexer": "ipython3",
   "version": "3.10.8"
  }
 },
 "nbformat": 4,
 "nbformat_minor": 5
}
