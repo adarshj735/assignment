{
 "cells": [
  {
   "cell_type": "markdown",
   "id": "dfbb8977-5b04-439e-9ee7-716240e2a071",
   "metadata": {},
   "source": [
    "# Q1. Write a code to print the data present in the second row of the dataframe, df."
   ]
  },
  {
   "cell_type": "code",
   "execution_count": 2,
   "id": "6afb570e-fe55-48e7-8f44-2e6353946d05",
   "metadata": {},
   "outputs": [],
   "source": [
    "import pandas as pd\n",
    "course_name = ['Data Science', 'Machine Learning', 'Big Data', 'Data Engineer']\n",
    "duration = [2,3,6,4]\n",
    "df = pd.DataFrame(data = {'course_name' : course_name, 'duration' : duration})"
   ]
  },
  {
   "cell_type": "code",
   "execution_count": 3,
   "id": "0c54bf78-03e3-4f86-8616-6219c804b215",
   "metadata": {},
   "outputs": [
    {
     "data": {
      "text/html": [
       "<div>\n",
       "<style scoped>\n",
       "    .dataframe tbody tr th:only-of-type {\n",
       "        vertical-align: middle;\n",
       "    }\n",
       "\n",
       "    .dataframe tbody tr th {\n",
       "        vertical-align: top;\n",
       "    }\n",
       "\n",
       "    .dataframe thead th {\n",
       "        text-align: right;\n",
       "    }\n",
       "</style>\n",
       "<table border=\"1\" class=\"dataframe\">\n",
       "  <thead>\n",
       "    <tr style=\"text-align: right;\">\n",
       "      <th></th>\n",
       "      <th>course_name</th>\n",
       "      <th>duration</th>\n",
       "    </tr>\n",
       "  </thead>\n",
       "  <tbody>\n",
       "    <tr>\n",
       "      <th>1</th>\n",
       "      <td>Machine Learning</td>\n",
       "      <td>3</td>\n",
       "    </tr>\n",
       "  </tbody>\n",
       "</table>\n",
       "</div>"
      ],
      "text/plain": [
       "        course_name  duration\n",
       "1  Machine Learning         3"
      ]
     },
     "execution_count": 3,
     "metadata": {},
     "output_type": "execute_result"
    }
   ],
   "source": [
    "df.iloc[1:2]"
   ]
  },
  {
   "cell_type": "markdown",
   "id": "cfa8ff31-a2f4-45fa-80ec-4cad82e29607",
   "metadata": {},
   "source": [
    "# Q2. What is the difference between the functions loc and iloc in pandas.DataFrame?"
   ]
  },
  {
   "cell_type": "markdown",
   "id": "beeb4d22-d263-4c2b-8852-4d58aac93d4b",
   "metadata": {},
   "source": [
    "In Pandas, both loc and iloc are used to access data in a DataFrame, but they have different methods of indexing. The main difference between the two lies in how they handle the selection of rows and columns:\n",
    "\n",
    "#### loc (Label-based selection):\n",
    "1. loc is used to access data based on labels or index names, rather than numerical positions.\n",
    "2. The syntax for loc is df.loc[row_label, column_label], where row_label is the index label of the row and column_label is the column name.\n",
    "3. loc is inclusive on both the start and end indices. This means that the row and column specified are included in the result.\n",
    "4. We can also use boolean arrays to filter data using loc.\n",
    "\n",
    "Example:"
   ]
  },
  {
   "cell_type": "code",
   "execution_count": 4,
   "id": "b98d320d-4e1c-4bec-8485-f61e7ad5fa04",
   "metadata": {},
   "outputs": [
    {
     "data": {
      "text/plain": [
       "5"
      ]
     },
     "execution_count": 4,
     "metadata": {},
     "output_type": "execute_result"
    }
   ],
   "source": [
    "data = {\n",
    "    'A': [1, 2, 3],\n",
    "    'B': [4, 5, 6],\n",
    "    'C': [7, 8, 9]\n",
    "}\n",
    "\n",
    "df1 = pd.DataFrame(data, index=['X', 'Y', 'Z'])\n",
    "\n",
    "df1.loc['Y', 'B']"
   ]
  },
  {
   "cell_type": "markdown",
   "id": "ba7f0f1f-1967-4c70-b758-8b71170bd368",
   "metadata": {},
   "source": [
    "#### iloc (Integer-based selection):\n",
    "\n",
    "1. iloc is used to access data based on integer positions, i.e., numerical indices.\n",
    "2. The syntax for iloc is df.iloc[row_index, column_index], where row_index and column_index are integer-based positions.\n",
    "3. iloc is exclusive on the end index, meaning that the row or column specified is not included in the result.\n",
    "4. We can also use integer slices and boolean arrays to filter data using iloc.\n",
    "\n",
    "Example:"
   ]
  },
  {
   "cell_type": "code",
   "execution_count": 5,
   "id": "6928927c-1057-44b3-848d-017cfdf1f7ff",
   "metadata": {},
   "outputs": [
    {
     "data": {
      "text/plain": [
       "5"
      ]
     },
     "execution_count": 5,
     "metadata": {},
     "output_type": "execute_result"
    }
   ],
   "source": [
    "data = {\n",
    "    'A': [1, 2, 3],\n",
    "    'B': [4, 5, 6],\n",
    "    'C': [7, 8, 9]\n",
    "}\n",
    "\n",
    "df2 = pd.DataFrame(data)\n",
    "\n",
    "df2.iloc[1, 1]"
   ]
  },
  {
   "cell_type": "markdown",
   "id": "e470b633-fd27-40df-9a91-d9b98662c235",
   "metadata": {},
   "source": [
    "# Q3. Reindex the given dataframe using a variable, reindex = [3,0,1,2] and store it in the variable, new_df then find the output for both new_df.loc[2] and new_df.iloc[2]."
   ]
  },
  {
   "cell_type": "code",
   "execution_count": 6,
   "id": "dc7a81ea-222a-43fd-b7ae-1b3623a4f5b2",
   "metadata": {},
   "outputs": [],
   "source": [
    "new_df=df.reindex([3,0,1,2])"
   ]
  },
  {
   "cell_type": "code",
   "execution_count": 7,
   "id": "7c9724ff-0741-4d8e-90e9-2da0874463d6",
   "metadata": {},
   "outputs": [
    {
     "data": {
      "text/html": [
       "<div>\n",
       "<style scoped>\n",
       "    .dataframe tbody tr th:only-of-type {\n",
       "        vertical-align: middle;\n",
       "    }\n",
       "\n",
       "    .dataframe tbody tr th {\n",
       "        vertical-align: top;\n",
       "    }\n",
       "\n",
       "    .dataframe thead th {\n",
       "        text-align: right;\n",
       "    }\n",
       "</style>\n",
       "<table border=\"1\" class=\"dataframe\">\n",
       "  <thead>\n",
       "    <tr style=\"text-align: right;\">\n",
       "      <th></th>\n",
       "      <th>course_name</th>\n",
       "      <th>duration</th>\n",
       "    </tr>\n",
       "  </thead>\n",
       "  <tbody>\n",
       "    <tr>\n",
       "      <th>3</th>\n",
       "      <td>Data Engineer</td>\n",
       "      <td>4</td>\n",
       "    </tr>\n",
       "    <tr>\n",
       "      <th>0</th>\n",
       "      <td>Data Science</td>\n",
       "      <td>2</td>\n",
       "    </tr>\n",
       "    <tr>\n",
       "      <th>1</th>\n",
       "      <td>Machine Learning</td>\n",
       "      <td>3</td>\n",
       "    </tr>\n",
       "    <tr>\n",
       "      <th>2</th>\n",
       "      <td>Big Data</td>\n",
       "      <td>6</td>\n",
       "    </tr>\n",
       "  </tbody>\n",
       "</table>\n",
       "</div>"
      ],
      "text/plain": [
       "        course_name  duration\n",
       "3     Data Engineer         4\n",
       "0      Data Science         2\n",
       "1  Machine Learning         3\n",
       "2          Big Data         6"
      ]
     },
     "execution_count": 7,
     "metadata": {},
     "output_type": "execute_result"
    }
   ],
   "source": [
    "new_df"
   ]
  },
  {
   "cell_type": "code",
   "execution_count": 8,
   "id": "7a4be249-9b0c-47f7-a50f-8fc2452b324b",
   "metadata": {},
   "outputs": [
    {
     "data": {
      "text/plain": [
       "course_name    Big Data\n",
       "duration              6\n",
       "Name: 2, dtype: object"
      ]
     },
     "execution_count": 8,
     "metadata": {},
     "output_type": "execute_result"
    }
   ],
   "source": [
    "new_df.loc[2]"
   ]
  },
  {
   "cell_type": "code",
   "execution_count": 9,
   "id": "7de410a4-f35b-4481-873d-ebc170ea3a53",
   "metadata": {},
   "outputs": [
    {
     "data": {
      "text/plain": [
       "course_name    Machine Learning\n",
       "duration                      3\n",
       "Name: 1, dtype: object"
      ]
     },
     "execution_count": 9,
     "metadata": {},
     "output_type": "execute_result"
    }
   ],
   "source": [
    "new_df.iloc[2]"
   ]
  },
  {
   "cell_type": "markdown",
   "id": "9fae2b90-97ea-4af2-ac03-d970effe1c35",
   "metadata": {},
   "source": [
    "### Yes, There is difference in both the outputs\n",
    "\n",
    "### The main difference between new_df.loc[2] and new_df.iloc[2] lies in how they access rows:\n",
    "\n",
    "### new_df.loc[2]: This uses label-based indexing. The .loc[] method uses the label \"2\" to access the row with the label \"2\", which corresponds to the row containing the course \"Big Data\" with duration \"6\". The result includes the row label and the data for both columns \"course_name\" and \"duration\".\n",
    "\n",
    "### new_df.iloc[2]: This uses integer-based indexing. The .iloc[] method uses the integer position \"2\" to access the third row in the reindexed DataFrame. Since the DataFrame has been reindexed, the third row now corresponds to the course \"Machine Learning\" with duration \"3\". The result includes the integer position and the data for both columns \"course_name\" and \"duration\"."
   ]
  },
  {
   "cell_type": "markdown",
   "id": "8470a460-c619-46cc-97dc-ecc062e8e1a4",
   "metadata": {},
   "source": [
    "# Consider the below code to answer further questions:"
   ]
  },
  {
   "cell_type": "code",
   "execution_count": 10,
   "id": "93f49ca0-8081-4e87-81d5-324e5ef40def",
   "metadata": {},
   "outputs": [],
   "source": [
    "import pandas as pd\n",
    "\n",
    "import numpy as np\n",
    "\n",
    "columns = ['column_1', 'column_2', 'column_3', 'column_4', 'column_5', 'column_6']\n",
    "\n",
    "indices = [1,2,3,4,5,6]\n",
    "\n",
    "#Creating a dataframe:\n",
    "\n",
    "df1 = pd.DataFrame(np.random.rand(6,6), columns = columns, index = indices)"
   ]
  },
  {
   "cell_type": "code",
   "execution_count": 11,
   "id": "9a491b0e-1d57-4bcd-911a-aa4237f02e74",
   "metadata": {},
   "outputs": [
    {
     "data": {
      "text/html": [
       "<div>\n",
       "<style scoped>\n",
       "    .dataframe tbody tr th:only-of-type {\n",
       "        vertical-align: middle;\n",
       "    }\n",
       "\n",
       "    .dataframe tbody tr th {\n",
       "        vertical-align: top;\n",
       "    }\n",
       "\n",
       "    .dataframe thead th {\n",
       "        text-align: right;\n",
       "    }\n",
       "</style>\n",
       "<table border=\"1\" class=\"dataframe\">\n",
       "  <thead>\n",
       "    <tr style=\"text-align: right;\">\n",
       "      <th></th>\n",
       "      <th>column_1</th>\n",
       "      <th>column_2</th>\n",
       "      <th>column_3</th>\n",
       "      <th>column_4</th>\n",
       "      <th>column_5</th>\n",
       "      <th>column_6</th>\n",
       "    </tr>\n",
       "  </thead>\n",
       "  <tbody>\n",
       "    <tr>\n",
       "      <th>1</th>\n",
       "      <td>0.561831</td>\n",
       "      <td>0.187508</td>\n",
       "      <td>0.086246</td>\n",
       "      <td>0.145442</td>\n",
       "      <td>0.115665</td>\n",
       "      <td>0.749642</td>\n",
       "    </tr>\n",
       "    <tr>\n",
       "      <th>2</th>\n",
       "      <td>0.292484</td>\n",
       "      <td>0.055762</td>\n",
       "      <td>0.284501</td>\n",
       "      <td>0.999293</td>\n",
       "      <td>0.389287</td>\n",
       "      <td>0.029903</td>\n",
       "    </tr>\n",
       "    <tr>\n",
       "      <th>3</th>\n",
       "      <td>0.781582</td>\n",
       "      <td>0.869154</td>\n",
       "      <td>0.969171</td>\n",
       "      <td>0.603595</td>\n",
       "      <td>0.295523</td>\n",
       "      <td>0.613128</td>\n",
       "    </tr>\n",
       "    <tr>\n",
       "      <th>4</th>\n",
       "      <td>0.199009</td>\n",
       "      <td>0.578961</td>\n",
       "      <td>0.090104</td>\n",
       "      <td>0.793895</td>\n",
       "      <td>0.914254</td>\n",
       "      <td>0.135274</td>\n",
       "    </tr>\n",
       "    <tr>\n",
       "      <th>5</th>\n",
       "      <td>0.940341</td>\n",
       "      <td>0.154970</td>\n",
       "      <td>0.114074</td>\n",
       "      <td>0.499361</td>\n",
       "      <td>0.179781</td>\n",
       "      <td>0.979981</td>\n",
       "    </tr>\n",
       "    <tr>\n",
       "      <th>6</th>\n",
       "      <td>0.099162</td>\n",
       "      <td>0.976603</td>\n",
       "      <td>0.744572</td>\n",
       "      <td>0.704548</td>\n",
       "      <td>0.038494</td>\n",
       "      <td>0.127211</td>\n",
       "    </tr>\n",
       "  </tbody>\n",
       "</table>\n",
       "</div>"
      ],
      "text/plain": [
       "   column_1  column_2  column_3  column_4  column_5  column_6\n",
       "1  0.561831  0.187508  0.086246  0.145442  0.115665  0.749642\n",
       "2  0.292484  0.055762  0.284501  0.999293  0.389287  0.029903\n",
       "3  0.781582  0.869154  0.969171  0.603595  0.295523  0.613128\n",
       "4  0.199009  0.578961  0.090104  0.793895  0.914254  0.135274\n",
       "5  0.940341  0.154970  0.114074  0.499361  0.179781  0.979981\n",
       "6  0.099162  0.976603  0.744572  0.704548  0.038494  0.127211"
      ]
     },
     "execution_count": 11,
     "metadata": {},
     "output_type": "execute_result"
    }
   ],
   "source": [
    "df1"
   ]
  },
  {
   "cell_type": "markdown",
   "id": "6a6cd74d-cba9-4fb8-813e-85399b6b8221",
   "metadata": {},
   "source": [
    "# Q4. Write a code to find the following statistical measurements for the above dataframe df1:\n",
    "## (i) \tmean of each and every column present in the dataframe.\n",
    "## (ii) standard deviation of column, ‘column_2’\n"
   ]
  },
  {
   "cell_type": "code",
   "execution_count": 12,
   "id": "6395940d-e5a4-447d-af67-b407bc3f8de0",
   "metadata": {},
   "outputs": [
    {
     "data": {
      "text/plain": [
       "column_1    0.479068\n",
       "column_2    0.470493\n",
       "column_3    0.381445\n",
       "column_4    0.624356\n",
       "column_5    0.322167\n",
       "column_6    0.439190\n",
       "dtype: float64"
      ]
     },
     "execution_count": 12,
     "metadata": {},
     "output_type": "execute_result"
    }
   ],
   "source": [
    "def test(x):\n",
    "    return x.mean()\n",
    "df1.apply(test)"
   ]
  },
  {
   "cell_type": "code",
   "execution_count": 13,
   "id": "db64a009-43b6-457a-8b1a-82bb49ef5fc9",
   "metadata": {},
   "outputs": [
    {
     "data": {
      "text/plain": [
       "0.39458344362871656"
      ]
     },
     "execution_count": 13,
     "metadata": {},
     "output_type": "execute_result"
    }
   ],
   "source": [
    "df1['column_2'].std()"
   ]
  },
  {
   "cell_type": "markdown",
   "id": "db4dea83-339f-4e5f-a514-aab576318e60",
   "metadata": {},
   "source": [
    "# Q5. Replace the data present in the second row of column, ‘column_2’ by a string variable then find the mean of column, column_2.\n",
    "## If you are getting errors in executing it then explain why.\n",
    "## [Hint: To replace the data use df1.loc[] and equate this to string data of your choice.]"
   ]
  },
  {
   "cell_type": "code",
   "execution_count": 14,
   "id": "a36da006-f722-4f04-8d58-f5184cd8c1c9",
   "metadata": {},
   "outputs": [],
   "source": [
    "df1.loc[2,'column_2']= 'Adarsh'"
   ]
  },
  {
   "cell_type": "code",
   "execution_count": 15,
   "id": "69eefdaf-0d12-4cc7-804d-193a6f2657da",
   "metadata": {},
   "outputs": [
    {
     "data": {
      "text/html": [
       "<div>\n",
       "<style scoped>\n",
       "    .dataframe tbody tr th:only-of-type {\n",
       "        vertical-align: middle;\n",
       "    }\n",
       "\n",
       "    .dataframe tbody tr th {\n",
       "        vertical-align: top;\n",
       "    }\n",
       "\n",
       "    .dataframe thead th {\n",
       "        text-align: right;\n",
       "    }\n",
       "</style>\n",
       "<table border=\"1\" class=\"dataframe\">\n",
       "  <thead>\n",
       "    <tr style=\"text-align: right;\">\n",
       "      <th></th>\n",
       "      <th>column_1</th>\n",
       "      <th>column_2</th>\n",
       "      <th>column_3</th>\n",
       "      <th>column_4</th>\n",
       "      <th>column_5</th>\n",
       "      <th>column_6</th>\n",
       "    </tr>\n",
       "  </thead>\n",
       "  <tbody>\n",
       "    <tr>\n",
       "      <th>1</th>\n",
       "      <td>0.561831</td>\n",
       "      <td>0.187508</td>\n",
       "      <td>0.086246</td>\n",
       "      <td>0.145442</td>\n",
       "      <td>0.115665</td>\n",
       "      <td>0.749642</td>\n",
       "    </tr>\n",
       "    <tr>\n",
       "      <th>2</th>\n",
       "      <td>0.292484</td>\n",
       "      <td>Adarsh</td>\n",
       "      <td>0.284501</td>\n",
       "      <td>0.999293</td>\n",
       "      <td>0.389287</td>\n",
       "      <td>0.029903</td>\n",
       "    </tr>\n",
       "    <tr>\n",
       "      <th>3</th>\n",
       "      <td>0.781582</td>\n",
       "      <td>0.869154</td>\n",
       "      <td>0.969171</td>\n",
       "      <td>0.603595</td>\n",
       "      <td>0.295523</td>\n",
       "      <td>0.613128</td>\n",
       "    </tr>\n",
       "    <tr>\n",
       "      <th>4</th>\n",
       "      <td>0.199009</td>\n",
       "      <td>0.578961</td>\n",
       "      <td>0.090104</td>\n",
       "      <td>0.793895</td>\n",
       "      <td>0.914254</td>\n",
       "      <td>0.135274</td>\n",
       "    </tr>\n",
       "    <tr>\n",
       "      <th>5</th>\n",
       "      <td>0.940341</td>\n",
       "      <td>0.15497</td>\n",
       "      <td>0.114074</td>\n",
       "      <td>0.499361</td>\n",
       "      <td>0.179781</td>\n",
       "      <td>0.979981</td>\n",
       "    </tr>\n",
       "    <tr>\n",
       "      <th>6</th>\n",
       "      <td>0.099162</td>\n",
       "      <td>0.976603</td>\n",
       "      <td>0.744572</td>\n",
       "      <td>0.704548</td>\n",
       "      <td>0.038494</td>\n",
       "      <td>0.127211</td>\n",
       "    </tr>\n",
       "  </tbody>\n",
       "</table>\n",
       "</div>"
      ],
      "text/plain": [
       "   column_1  column_2  column_3  column_4  column_5  column_6\n",
       "1  0.561831  0.187508  0.086246  0.145442  0.115665  0.749642\n",
       "2  0.292484    Adarsh  0.284501  0.999293  0.389287  0.029903\n",
       "3  0.781582  0.869154  0.969171  0.603595  0.295523  0.613128\n",
       "4  0.199009  0.578961  0.090104  0.793895  0.914254  0.135274\n",
       "5  0.940341   0.15497  0.114074  0.499361  0.179781  0.979981\n",
       "6  0.099162  0.976603  0.744572  0.704548  0.038494  0.127211"
      ]
     },
     "execution_count": 15,
     "metadata": {},
     "output_type": "execute_result"
    }
   ],
   "source": [
    "df1"
   ]
  },
  {
   "cell_type": "code",
   "execution_count": 16,
   "id": "180f32a3-c553-4be1-a134-d5b9a47bb15b",
   "metadata": {},
   "outputs": [
    {
     "name": "stdout",
     "output_type": "stream",
     "text": [
      "\n",
      "An error occurred: unsupported operand type(s) for +: 'float' and 'str'\n"
     ]
    }
   ],
   "source": [
    "try:\n",
    "    df1['column_2'].mean()\n",
    "except Exception as e:\n",
    "        print(\"\\nAn error occurred:\", str(e))"
   ]
  },
  {
   "cell_type": "markdown",
   "id": "872c87c2-acae-4b65-a9b8-1c8ddea67e8e",
   "metadata": {},
   "source": [
    "### In Python, you cannot find the mean of a string and a float directly. When trying to find the mean of a combination of data types like a string and a float, Python will raise a TypeError.\n",
    "\n",
    "### The mean, also known as the average, is a statistical measure that requires numeric values to be calculated. It is calculated by summing all the numeric values and dividing the sum by the number of values."
   ]
  },
  {
   "cell_type": "markdown",
   "id": "4da4fc57-34d0-4236-b538-67c02003acd2",
   "metadata": {},
   "source": [
    "# Q6. What do you understand about the windows function in pandas and list the types of windows functions?"
   ]
  },
  {
   "cell_type": "markdown",
   "id": "9c2b7018-8a7d-47fd-b329-5c1a502375c6",
   "metadata": {},
   "source": [
    "#### In Pandas, a window function is a powerful tool used for performing calculations on a specified subset of data called a \"window.\" The window function operates on a sliding window of data points defined by a specified range or number of preceding/following elements relative to the current element. It allows us to perform various calculations within the context of this window, such as calculating moving averages, cumulative sums, rank-order statistics, and more.\n",
    "\n",
    "#### Window functions are incredibly useful for analyzing time-series data, sequential data, and data with inherent order, where the order of observations matters. They are commonly used in data analysis, signal processing, finance, and other fields.\n",
    "\n",
    "#### Window functions in Pandas can be applied using the .rolling() method on Series or DataFrames, or the .expanding() method for expanding windows. Then, we can apply various aggregating functions to the rolling or expanding windows to perform the desired calculations.\n",
    "\n",
    "### Types of Window Functions in Pandas:\n",
    "#### Rolling Window Functions:\n",
    "#### .rolling() is used to create a rolling window over the data, which slides over the Series or DataFrame.\n",
    "#### The window size can be specified as a fixed number of periods or a time-based window using a frequency string (e.g., '5D' for 5-day window).\n",
    "#### Common rolling window functions include:\n",
    "1. sum(): Calculate the sum of the elements in the window.\n",
    "2. mean(): Calculate the mean (average) of the elements in the window.\n",
    "3. std(): Calculate the standard deviation of the elements in the window.\n",
    "4. min(): Find the minimum value in the window.\n",
    "5. max(): Find the maximum value in the window.\n",
    "\n",
    "\n",
    "#### Expanding Window Functions:\n",
    "#### .expanding() is used to create an expanding window that starts from the beginning and grows with each new data point.\n",
    "#### The expanding window includes all data up to and including the current point.\n",
    "#### Common expanding window functions include:\n",
    "1. sum(): Calculate the cumulative sum of all elements up to the current point.\n",
    "2. mean(): Calculate the cumulative mean of all elements up to the current point.\n",
    "3. std(): Calculate the cumulative standard deviation of all elements up to the current point.\n",
    "\n",
    "#### Exponentially Weighted Window Functions:\n",
    "#### .ewm() is used to create an exponentially weighted window that assigns more weight to recent data points and less weight to older data points.\n",
    "#### The weight decays exponentially as we move away from the current data point.\n",
    "#### Common exponentially weighted window functions include:\n",
    "1. mean(): Calculate the exponentially weighted moving average (EWMA).\n",
    "\n",
    "### Example of using a Rolling Window Mean:"
   ]
  },
  {
   "cell_type": "code",
   "execution_count": 17,
   "id": "6a0a3467-eb13-4054-92c6-dc66ffa4ed82",
   "metadata": {},
   "outputs": [
    {
     "data": {
      "text/plain": [
       "0     NaN\n",
       "1    15.0\n",
       "2    25.0\n",
       "3    35.0\n",
       "4    45.0\n",
       "Name: Value, dtype: float64"
      ]
     },
     "execution_count": 17,
     "metadata": {},
     "output_type": "execute_result"
    }
   ],
   "source": [
    "data = [10, 20, 30, 40, 50]\n",
    "\n",
    "df2 = pd.DataFrame(data, columns=['Value'])\n",
    "\n",
    "rolling_mean=df2['Value'].rolling(window=2).mean()\n",
    "\n",
    "rolling_mean"
   ]
  },
  {
   "cell_type": "markdown",
   "id": "4a4a58c6-8744-454e-b254-d88fb4746b22",
   "metadata": {},
   "source": [
    "# Q7. Write a code to print only the current month and year at the time of answering this question."
   ]
  },
  {
   "cell_type": "code",
   "execution_count": 18,
   "id": "749c13b2-090a-4351-b696-13136b70339b",
   "metadata": {},
   "outputs": [
    {
     "name": "stdout",
     "output_type": "stream",
     "text": [
      "the current month: 8 and the current year: 2023\n"
     ]
    },
    {
     "name": "stderr",
     "output_type": "stream",
     "text": [
      "/tmp/ipykernel_3121/2952799840.py:1: FutureWarning: The pandas.datetime class is deprecated and will be removed from pandas in a future version. Import from datetime module instead.\n",
      "  current_date = pd.datetime.now()\n"
     ]
    }
   ],
   "source": [
    "current_date = pd.datetime.now()\n",
    "print('the current month:',current_date.month, 'and the current year:',current_date.year)"
   ]
  },
  {
   "cell_type": "markdown",
   "id": "b266feb2-1ce1-4a1e-b75f-e71edfb2c713",
   "metadata": {},
   "source": [
    "# Q8. Write a Python program that takes in two dates as input (in the format YYYY-MM-DD) and calculates the difference between them in days, hours, and minutes using Pandas time delta. The program should prompt the user to enter the dates and display the result."
   ]
  },
  {
   "cell_type": "code",
   "execution_count": 19,
   "id": "c8919fbd-ef3a-4dba-8f1d-4408442f3a7c",
   "metadata": {},
   "outputs": [
    {
     "name": "stdin",
     "output_type": "stream",
     "text": [
      "Enter the first date (YYYY-MM-DD): 2023-06-01\n",
      "Enter the second date (YYYY-MM-DD): 2023-10-01\n"
     ]
    },
    {
     "name": "stdout",
     "output_type": "stream",
     "text": [
      "Difference in time : 122 days 00:00:00\n"
     ]
    }
   ],
   "source": [
    "def calculate_time_diff(date1,date2):\n",
    "    date1=pd.to_datetime(date1)\n",
    "    date2=pd.to_datetime(date2)\n",
    "    \n",
    "    time_diff= date2-date1\n",
    "    \n",
    "    return time_diff\n",
    "\n",
    "date1_input= input(\"Enter the first date (YYYY-MM-DD):\")\n",
    "date2_input= input(\"Enter the second date (YYYY-MM-DD):\")\n",
    "\n",
    "\n",
    "print(\"Difference in time :\",calculate_time_diff(date1_input,date2_input))"
   ]
  },
  {
   "cell_type": "markdown",
   "id": "3f14ef04-27c2-4177-a598-64f9fb787ee5",
   "metadata": {},
   "source": [
    "# Q9. Write a Python program that reads a CSV file containing categorical data and converts a specified column to a categorical data type. The program should prompt the user to enter the file path, column name, and category order, and then display the sorted data."
   ]
  },
  {
   "cell_type": "code",
   "execution_count": 20,
   "id": "decca374-098c-4f9e-95ed-cd7d955a72c3",
   "metadata": {},
   "outputs": [
    {
     "name": "stdin",
     "output_type": "stream",
     "text": [
      "Enter File path: Netflix.csv\n"
     ]
    },
    {
     "name": "stdout",
     "output_type": "stream",
     "text": [
      "Index(['User ID', 'Subscription Type', 'Monthly Revenue', 'Join Date',\n",
      "       'Last Payment Date', 'Country', 'Age', 'Gender', 'Device',\n",
      "       'Plan Duration'],\n",
      "      dtype='object')\n"
     ]
    },
    {
     "name": "stdin",
     "output_type": "stream",
     "text": [
      "\n",
      "Enter the name of the column to convert to categorical data type:  Subscription Type\n",
      "\n",
      "Enter the category order seperated by commas Basic,Premium,Standard\n"
     ]
    },
    {
     "name": "stdout",
     "output_type": "stream",
     "text": [
      "\n",
      "Sorted Data\n",
      "      User ID Subscription Type  Monthly Revenue Join Date Last Payment Date  \\\n",
      "0           1             Basic               10  15-01-22          10-06-23   \n",
      "1324     1325             Basic               15  03-10-22          04-07-23   \n",
      "1321     1322             Basic               11  16-09-22          06-07-23   \n",
      "1319     1320             Basic               10  14-09-22          05-07-23   \n",
      "1316     1317             Basic               11  02-09-22          03-07-23   \n",
      "...       ...               ...              ...       ...               ...   \n",
      "258       259          Standard               15  05-08-22          26-06-23   \n",
      "257       258          Standard               11  16-07-22          28-06-23   \n",
      "1857     1858          Standard               10  03-07-22          09-07-23   \n",
      "1842     1843          Standard               10  11-09-22          07-07-23   \n",
      "1607     1608          Standard               11  12-10-22          08-07-23   \n",
      "\n",
      "             Country  Age  Gender      Device Plan Duration  \n",
      "0      United States   28    Male  Smartphone       1 Month  \n",
      "1324           Italy   34    Male  Smartphone       1 Month  \n",
      "1321          Brazil   40    Male  Smartphone       1 Month  \n",
      "1319         Germany   39    Male      Laptop       1 Month  \n",
      "1316          Canada   31    Male      Tablet       1 Month  \n",
      "...              ...  ...     ...         ...           ...  \n",
      "258            Spain   28    Male  Smartphone       1 Month  \n",
      "257           Mexico   41  Female  Smartphone       1 Month  \n",
      "1857  United Kingdom   34    Male    Smart TV       1 Month  \n",
      "1842  United Kingdom   46    Male      Laptop       1 Month  \n",
      "1607          Mexico   32  Female    Smart TV       1 Month  \n",
      "\n",
      "[2500 rows x 10 columns]\n"
     ]
    }
   ],
   "source": [
    "#csv file= https://www.kaggle.com/datasets/arnavsmayan/netflix-userbase-dataset?resource=download\n",
    "\n",
    "file_path=input('Enter File path:')\n",
    "df = pd.read_csv(file_path)\n",
    "print(df.columns)\n",
    "column_name=input(\"\\nEnter the name of the column to convert to categorical data type: \")\n",
    "category_order=input(\"\\nEnter the category order seperated by commas\").split(',')\n",
    "df[column_name]=pd.Categorical(df[column_name], categories=category_order,ordered= True)\n",
    "print(\"\\nSorted Data\")\n",
    "print(df.sort_values(by= column_name))"
   ]
  },
  {
   "cell_type": "markdown",
   "id": "00101d2d-7fb5-4b6f-a1a4-69ac90943474",
   "metadata": {},
   "source": [
    "# Q10. Write a Python program that reads a CSV file containing sales data for different products and visualizes the data using a stacked bar chart to show the sales of each product category over time. The program should prompt the user to enter the file path and display the chart."
   ]
  },
  {
   "cell_type": "code",
   "execution_count": 21,
   "id": "6abecd9c-aa79-4e38-bedd-63467633d50f",
   "metadata": {},
   "outputs": [
    {
     "name": "stdin",
     "output_type": "stream",
     "text": [
      "Enter File path: mart.csv\n"
     ]
    },
    {
     "data": {
      "text/plain": [
       "<function matplotlib.pyplot.show(close=None, block=None)>"
      ]
     },
     "execution_count": 21,
     "metadata": {},
     "output_type": "execute_result"
    },
    {
     "data": {
      "image/png": "[encoded data removed]",
      "text/plain": [
       "<Figure size 640x480 with 1 Axes>"
      ]
     },
     "metadata": {},
     "output_type": "display_data"
    }
   ],
   "source": [
    "import matplotlib.pyplot as plt\n",
    "file_path=input('Enter File path:')\n",
    "df = pd.read_csv(file_path)\n",
    "df=df.iloc[:50,:]\n",
    "\n",
    "sales= pd.pivot_table(df, index='Order Date',values='Sales', columns='Category',aggfunc=sum)\n",
    "sales.plot(kind='bar',stacked=True)\n",
    "plt.title('Sales by Product')\n",
    "plt.xlabel('Date')\n",
    "plt.ylabel('Sales')\n",
    "\n",
    "plt.show"
   ]
  },
  {
   "cell_type": "markdown",
   "id": "c621bcaf-81d5-411c-8982-275d08c810a5",
   "metadata": {},
   "source": [
    "# Q11. You are given a CSV file containing student data that includes the student ID and their test score. Write a Python program that reads the CSV file, calculates the mean, median, and mode of the test scores, and displays the results in a table.\n",
    "### The program should do the followingM\n",
    "### I Prompt the user to enter the file path of the CSV file containing the student dataR\n",
    "### I Read the CSV file into a Pandas DataFrameR\n",
    "### I Calculate the mean, median, and mode of the test scores using Pandas toolsR\n",
    "### I Display the mean, median, and mode in a table.\n",
    "\n",
    "## Assume the CSV file contains the following columnsM\n",
    "### I Student ID: The ID of the studentR\n",
    "### I Test Score: The score of the student's test."
   ]
  },
  {
   "cell_type": "code",
   "execution_count": 22,
   "id": "ca15d8fa-ec03-43fd-acce-f012a6358a4c",
   "metadata": {},
   "outputs": [
    {
     "name": "stdin",
     "output_type": "stream",
     "text": [
      "Enter File path: student_data.csv\n"
     ]
    },
    {
     "data": {
      "text/html": [
       "<div>\n",
       "<style scoped>\n",
       "    .dataframe tbody tr th:only-of-type {\n",
       "        vertical-align: middle;\n",
       "    }\n",
       "\n",
       "    .dataframe tbody tr th {\n",
       "        vertical-align: top;\n",
       "    }\n",
       "\n",
       "    .dataframe thead th {\n",
       "        text-align: right;\n",
       "    }\n",
       "</style>\n",
       "<table border=\"1\" class=\"dataframe\">\n",
       "  <thead>\n",
       "    <tr style=\"text-align: right;\">\n",
       "      <th></th>\n",
       "      <th>Statistic</th>\n",
       "      <th>Value</th>\n",
       "    </tr>\n",
       "  </thead>\n",
       "  <tbody>\n",
       "    <tr>\n",
       "      <th>0</th>\n",
       "      <td>Mean</td>\n",
       "      <td>83.5</td>\n",
       "    </tr>\n",
       "    <tr>\n",
       "      <th>1</th>\n",
       "      <td>Median</td>\n",
       "      <td>85.0</td>\n",
       "    </tr>\n",
       "    <tr>\n",
       "      <th>2</th>\n",
       "      <td>Mode</td>\n",
       "      <td>85.0</td>\n",
       "    </tr>\n",
       "  </tbody>\n",
       "</table>\n",
       "</div>"
      ],
      "text/plain": [
       "  Statistic  Value\n",
       "0      Mean   83.5\n",
       "1    Median   85.0\n",
       "2      Mode   85.0"
      ]
     },
     "execution_count": 22,
     "metadata": {},
     "output_type": "execute_result"
    }
   ],
   "source": [
    "file_path=input('Enter File path:')\n",
    "df = pd.read_csv(file_path)\n",
    "\n",
    "mean=df['Test Score'].mean()\n",
    "median=df['Test Score'].median()\n",
    "mode=df['Test Score'].mode()\n",
    "\n",
    "\n",
    "stats=pd.DataFrame({'Statistic':['Mean','Median','Mode'],\n",
    "                    'Value':[mean,median,mode.iloc[0]]})\n",
    "stats"
   ]
  },
  {
   "cell_type": "code",
   "execution_count": null,
   "id": "542b7043-5a17-41ee-a7bd-9152bf6266b5",
   "metadata": {},
   "outputs": [],
   "source": []
  }
 ],
 "metadata": {
  "kernelspec": {
   "display_name": "Python 3 (ipykernel)",
   "language": "python",
   "name": "python3"
  },
  "language_info": {
   "codemirror_mode": {
    "name": "ipython",
    "version": 3
   },
   "file_extension": ".py",
   "mimetype": "text/x-python",
   "name": "python",
   "nbconvert_exporter": "python",
   "pygments_lexer": "ipython3",
   "version": "3.10.8"
  }
 },
 "nbformat": 4,
 "nbformat_minor": 5
}
