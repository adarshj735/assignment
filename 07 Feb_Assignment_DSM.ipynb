{
 "cells": [
  {
   "cell_type": "markdown",
   "id": "a293831c-bd45-4d7e-b9c7-ce2b1733390e",
   "metadata": {},
   "source": [
    "Q1. You are writing code for a company. The requirement of the company is that you create a python\n",
    "function that will check whether the password entered by the user is correct or not. The function should\n",
    "take the password as input and return the string “Valid Password” if the entered password follows the\n",
    "below-given password guidelines else it should return “Invalid Password”.\n",
    "\n",
    "Note: 1. The Password should contain at least two uppercase letters and at least two lowercase letters.\n",
    "\n",
    "2. The Password should contain at least a number and three special characters.\n",
    "\n",
    "3. The length of the password should be 10 characters long."
   ]
  },
  {
   "cell_type": "code",
   "execution_count": 1,
   "id": "41177018-6b97-4719-aa71-726f73469f2c",
   "metadata": {},
   "outputs": [],
   "source": [
    "def check_password(password):\n",
    "    # Check length of password\n",
    "    if len(password) != 10:\n",
    "        return \"Invalid Password\"\n",
    "\n",
    "    # Check for uppercase letters\n",
    "    uppercase_count = sum(1 for c in password if c.isupper())\n",
    "    if uppercase_count < 2:\n",
    "        return \"Invalid Password\"\n",
    "\n",
    "    # Check for lowercase letters\n",
    "    lowercase_count = sum(1 for c in password if c.islower())\n",
    "    if lowercase_count < 2:\n",
    "        return \"Invalid Password\"\n",
    "\n",
    "    # Check for numbers\n",
    "    number_count = sum(1 for c in password if c.isdigit())\n",
    "    if number_count < 1:\n",
    "        return \"Invalid Password\"\n",
    "\n",
    "    # Check for special characters\n",
    "    special_count = sum(1 for c in password if not c.isalnum())\n",
    "    if special_count < 3:\n",
    "        return \"Invalid Password\"\n",
    "\n",
    "    # Password meets all requirements\n",
    "    return \"Valid Password\"\n"
   ]
  },
  {
   "cell_type": "code",
   "execution_count": 2,
   "id": "559d71dd-9724-4d7c-bf2b-34da1f8f67a2",
   "metadata": {},
   "outputs": [
    {
     "name": "stdout",
     "output_type": "stream",
     "text": [
      "Valid Password\n"
     ]
    }
   ],
   "source": [
    "print(check_password(\"aDaR43@#$%\"))"
   ]
  },
  {
   "cell_type": "markdown",
   "id": "98b0e9d8-9840-4291-b5ee-f2ae95092fd3",
   "metadata": {},
   "source": [
    "Q2. Solve the below-given questions using at least one of the following:\n",
    "1. Lambda function\n",
    "2. Filter function\n",
    "3. Zap function\n",
    "4. List Comprehension\n",
    "\n",
    ". Check if the string starts with a particular letter\n"
   ]
  },
  {
   "cell_type": "code",
   "execution_count": 3,
   "id": "52c9fab2-0658-490a-97ac-d53c8ec13fe8",
   "metadata": {},
   "outputs": [
    {
     "data": {
      "text/plain": [
       "[True, True, False]"
      ]
     },
     "execution_count": 3,
     "metadata": {},
     "output_type": "execute_result"
    }
   ],
   "source": [
    "s=[\"Pwskills\",\"Python\",'Datascience']\n",
    "letter=\"P\"\n",
    "string_start=list(map(lambda x: x.startswith(letter),s))\n",
    "string_start\n",
    "                  "
   ]
  },
  {
   "cell_type": "markdown",
   "id": "b4ca7230-ef14-45c8-9169-0c6d40704118",
   "metadata": {},
   "source": [
    ". Check if the string is numeric"
   ]
  },
  {
   "cell_type": "code",
   "execution_count": 4,
   "id": "8838c9f5-ed8a-4c3d-a66a-111cacfcdc0f",
   "metadata": {},
   "outputs": [
    {
     "data": {
      "text/plain": [
       "[True, False, True, False]"
      ]
     },
     "execution_count": 4,
     "metadata": {},
     "output_type": "execute_result"
    }
   ],
   "source": [
    "num =[\"1234\", \"a123\", \"223\", \"3234a\"]\n",
    "is_num=list(map(lambda x:x.isdigit(),num))\n",
    "is_num"
   ]
  },
  {
   "cell_type": "markdown",
   "id": "d7aba41c-4766-43d0-a5e8-e7dd427f113c",
   "metadata": {},
   "source": [
    ". Sort a list of tuples having fruit names and their quantity. [(\"mango\",99),(\"orange\",80), (\"grapes\", 1000)]"
   ]
  },
  {
   "cell_type": "code",
   "execution_count": 5,
   "id": "a0b947f0-053c-4524-a4f9-745936216c98",
   "metadata": {},
   "outputs": [
    {
     "name": "stdout",
     "output_type": "stream",
     "text": [
      "[('orange', 80), ('mango', 99), ('grapes', 1000)]\n",
      "[('grapes', 1000), ('mango', 99), ('orange', 80)]\n"
     ]
    }
   ],
   "source": [
    "fruits= [(\"mango\",99),(\"orange\",80), (\"grapes\", 1000)]\n",
    "asscending_sorted_fruits = sorted(fruits, key=lambda x: x[1])\n",
    "descending_sorted_fruits = sorted(fruits, key=lambda x: x[1], reverse=True)\n",
    "print(asscending_sorted_fruits)\n",
    "print(descending_sorted_fruits)"
   ]
  },
  {
   "cell_type": "markdown",
   "id": "ffd21baf-d3ef-4630-90b5-8070469994ae",
   "metadata": {},
   "source": [
    ". Find the squares of numbers from 1 to 10"
   ]
  },
  {
   "cell_type": "code",
   "execution_count": 6,
   "id": "6f783388-1e8c-4ec2-86e1-3387b6759628",
   "metadata": {},
   "outputs": [
    {
     "data": {
      "text/plain": [
       "[1, 4, 9, 16, 25, 36, 49, 64, 81, 100]"
      ]
     },
     "execution_count": 6,
     "metadata": {},
     "output_type": "execute_result"
    }
   ],
   "source": [
    "list(map(lambda x: x**2 ,range(1,11)))"
   ]
  },
  {
   "cell_type": "markdown",
   "id": "8526a59e-dbb9-44e3-8a59-466b5c951399",
   "metadata": {},
   "source": [
    ". Find the cube root of numbers from 1 to 10"
   ]
  },
  {
   "cell_type": "code",
   "execution_count": 7,
   "id": "701d139b-03a2-4684-bcc2-0305791e3c66",
   "metadata": {},
   "outputs": [
    {
     "data": {
      "text/plain": [
       "[1.0,\n",
       " 1.2599210498948732,\n",
       " 1.4422495703074083,\n",
       " 1.5874010519681994,\n",
       " 1.7099759466766968,\n",
       " 1.8171205928321397,\n",
       " 1.912931182772389,\n",
       " 2.0,\n",
       " 2.080083823051904,\n",
       " 2.154434690031884]"
      ]
     },
     "execution_count": 7,
     "metadata": {},
     "output_type": "execute_result"
    }
   ],
   "source": [
    "list(map(lambda x: x**(1/3) ,range(1,11)))"
   ]
  },
  {
   "cell_type": "markdown",
   "id": "fa63cfdd-e7de-4b6f-813b-2dbc726dfd68",
   "metadata": {},
   "source": [
    ". Check if a given number is even"
   ]
  },
  {
   "cell_type": "code",
   "execution_count": 8,
   "id": "028fa2a2-c24f-4f78-9082-05147e712a72",
   "metadata": {},
   "outputs": [
    {
     "name": "stdin",
     "output_type": "stream",
     "text": [
      "Enter number: 6\n"
     ]
    },
    {
     "data": {
      "text/plain": [
       "[True]"
      ]
     },
     "execution_count": 8,
     "metadata": {},
     "output_type": "execute_result"
    }
   ],
   "source": [
    "l= int(input(\"Enter number:\"))\n",
    "list(map(lambda x: x%2==0,[l]))"
   ]
  },
  {
   "cell_type": "markdown",
   "id": "5ddc6719-1727-4434-a986-d4c0d6aa9dfa",
   "metadata": {},
   "source": [
    ". Filter odd numbers from the given list.\n",
    "    [1,2,3,4,5,6,7,8,9,10]"
   ]
  },
  {
   "cell_type": "code",
   "execution_count": 9,
   "id": "df2a9ed5-a691-4381-b689-a6b20f7cc9f7",
   "metadata": {},
   "outputs": [
    {
     "data": {
      "text/plain": [
       "[1, 3, 5, 7, 9]"
      ]
     },
     "execution_count": 9,
     "metadata": {},
     "output_type": "execute_result"
    }
   ],
   "source": [
    "odd=[1,2,3,4,5,6,7,8,9,10]\n",
    "list(filter(lambda x: x%2!=0,odd))"
   ]
  },
  {
   "cell_type": "markdown",
   "id": "cf7831ce-c830-45fc-bd76-d3080f5a0d10",
   "metadata": {},
   "source": [
    ". Sort a list of integers into positive and negative integers lists.\n",
    "    [1,2,3,4,5,6,-1,-2,-3,-4,-5,0]"
   ]
  },
  {
   "cell_type": "code",
   "execution_count": 10,
   "id": "acba308d-77b9-4b23-908e-912f2dae7699",
   "metadata": {},
   "outputs": [
    {
     "name": "stdout",
     "output_type": "stream",
     "text": [
      "postive numbers are: [1, 2, 3, 4, 5, 6]\n",
      "negative numbers are: [-1, -2, -3, -4, -5]\n"
     ]
    }
   ],
   "source": [
    "numbers=[1,2,3,4,5,6,-1,-2,-3,-4,-5,0]\n",
    "positive_num=list(filter(lambda x:x>0,numbers))\n",
    "negative_num=list(filter(lambda x:x<0,numbers))\n",
    "print('postive numbers are:',positive_num)\n",
    "print('negative numbers are:',negative_num)"
   ]
  },
  {
   "cell_type": "code",
   "execution_count": null,
   "id": "b0fbe412-ee5a-4306-a3e2-17406792c7ee",
   "metadata": {},
   "outputs": [],
   "source": []
  }
 ],
 "metadata": {
  "kernelspec": {
   "display_name": "Python 3 (ipykernel)",
   "language": "python",
   "name": "python3"
  },
  "language_info": {
   "codemirror_mode": {
    "name": "ipython",
    "version": 3
   },
   "file_extension": ".py",
   "mimetype": "text/x-python",
   "name": "python",
   "nbconvert_exporter": "python",
   "pygments_lexer": "ipython3",
   "version": "3.10.8"
  }
 },
 "nbformat": 4,
 "nbformat_minor": 5
}
