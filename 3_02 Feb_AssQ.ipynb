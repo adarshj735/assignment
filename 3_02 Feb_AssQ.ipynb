{
 "cells": [
  {
   "cell_type": "markdown",
   "id": "8bc116a1-c4e4-467b-9fef-3057f5552534",
   "metadata": {},
   "source": [
    "Q1.  Explain with an example each when to use a for loop and a while loop."
   ]
  },
  {
   "cell_type": "markdown",
   "id": "53b64932-a73e-4de4-9712-afcd77df97c6",
   "metadata": {},
   "source": [
    "Ans: A for loop is usually used when you know the number of iterations you want to execute in advance. On the other hand, a while loop is often used when you do not know the exact number of iterations you need to perform.\n",
    "For example, consider the task of printing the numbers from 1 to 10. Since we know that we want to print 10 numbers, a for loop is a good choice:\n"
   ]
  },
  {
   "cell_type": "code",
   "execution_count": 1,
   "id": "869291b5-6d65-4794-896f-9fc73383df5c",
   "metadata": {},
   "outputs": [
    {
     "name": "stdout",
     "output_type": "stream",
     "text": [
      "1\n",
      "2\n",
      "3\n",
      "4\n",
      "5\n",
      "6\n",
      "7\n",
      "8\n",
      "9\n",
      "10\n"
     ]
    }
   ],
   "source": [
    "for i in range(1, 11):\n",
    "    print(i)\n"
   ]
  },
  {
   "cell_type": "markdown",
   "id": "f6745f6b-c44e-487e-ab0e-7baeb4b12f21",
   "metadata": {},
   "source": [
    "However, suppose you want to print numbers from a list of integers until the sum of the list elements is greater than 100. Since you don't know how many numbers you will need to print, a while loop would be a better choice:\n",
    "In below example, the while loop iterates until the total sum is greater than 100, which could be achieved with a variable number of iterations. A while loop allows you to execute code until a certain condition is met."
   ]
  },
  {
   "cell_type": "code",
   "execution_count": 2,
   "id": "c168bc3d-5dfa-47a3-92c8-c80395161e45",
   "metadata": {},
   "outputs": [
    {
     "name": "stdout",
     "output_type": "stream",
     "text": [
      "10\n",
      "20\n",
      "30\n",
      "40\n"
     ]
    }
   ],
   "source": [
    "numbers = [10, 20, 30, 40, 50]\n",
    "total = 0\n",
    "i = 0\n",
    "\n",
    "while total < 100:\n",
    "    total += numbers[i]\n",
    "    print(numbers[i])\n",
    "    i += 1"
   ]
  },
  {
   "cell_type": "markdown",
   "id": "a2bdb2fe-81fd-482b-bfaf-1efa4e701604",
   "metadata": {},
   "source": [
    "Q2.  Write a python program to print the sum and product of the first 10 natural numbers using for and while loop."
   ]
  },
  {
   "cell_type": "markdown",
   "id": "c421eda8-d882-43ea-bcf1-86bfb48c7153",
   "metadata": {},
   "source": [
    "Ans: While loop"
   ]
  },
  {
   "cell_type": "code",
   "execution_count": 3,
   "id": "4ebb0907-df4f-49d9-99dc-975caf9067e8",
   "metadata": {},
   "outputs": [
    {
     "name": "stdout",
     "output_type": "stream",
     "text": [
      "product of first 10 natural number : 3628800\n",
      "sum of first 10 natural number : 55\n"
     ]
    }
   ],
   "source": [
    "x=1\n",
    "product=1\n",
    "sum_n=0\n",
    "while(x<11):\n",
    "    product = product * x\n",
    "    sum_n = sum_n + x\n",
    "    x+=1\n",
    "print(f\"product of first 10 natural number : {product}\")    \n",
    "print(f\"sum of first 10 natural number : {sum_n}\")"
   ]
  },
  {
   "cell_type": "markdown",
   "id": "95deddca-eded-4d30-8ed1-31b6aed99088",
   "metadata": {},
   "source": [
    "For loop"
   ]
  },
  {
   "cell_type": "code",
   "execution_count": 4,
   "id": "4c627ba6-eae9-4e7b-917c-d886bbbd51dd",
   "metadata": {},
   "outputs": [
    {
     "name": "stdout",
     "output_type": "stream",
     "text": [
      "product of first 10 natural number : 3628800\n",
      "sum of first 10 natural number : 55\n"
     ]
    }
   ],
   "source": [
    "sum_n1=0\n",
    "product_n=1\n",
    "for i in range(1,11):\n",
    "    product_n = product_n * i\n",
    "    sum_n1 = sum_n1 + i\n",
    "print(f\"product of first 10 natural number : {product_n}\")    \n",
    "print(f\"sum of first 10 natural number : {sum_n1}\")"
   ]
  },
  {
   "cell_type": "markdown",
   "id": "6f410025-de7d-4d14-b2b5-e38745d95ba2",
   "metadata": {},
   "source": [
    "Q3. Create a python program to compute the electricity bill for a household.\n",
    "The per-unit charges in rupees are as follows: For the first 100 units, the user will be charged Rs. 4.5 per\n",
    "unit, for the next 100 units, the user will be charged Rs. 6 per unit, and for the next 100 units, the user will\n",
    "be charged Rs. 10 per unit, After 300 units and above the user will be charged Rs. 20 per unit.\n",
    "You are required to take the units of electricity consumed in a month from the user as input.\n",
    "Your program must pass this test case: when the unit of electricity consumed by the user in a month is\n",
    "310, the total electricity bill should be 2250."
   ]
  },
  {
   "cell_type": "code",
   "execution_count": 5,
   "id": "9633160c-cd6f-4946-a4c7-1685ac2bd4b6",
   "metadata": {},
   "outputs": [
    {
     "name": "stdin",
     "output_type": "stream",
     "text": [
      "The unit of electricity consumed by the user in a month: 310\n"
     ]
    },
    {
     "name": "stdout",
     "output_type": "stream",
     "text": [
      "The bill for unit 310 is 2250 rupee only\n"
     ]
    }
   ],
   "source": [
    "unit=int(input(\"The unit of electricity consumed by the user in a month:\"))\n",
    "if unit<=100:\n",
    "    bill=unit*4.5\n",
    "elif unit<=200:\n",
    "    bill=(unit-100)*6 +450\n",
    "elif unit<=300:\n",
    "    bill=(unit-200)*10+600+450\n",
    "else:\n",
    "    bill=(unit-300)*20+1000+600+450\n",
    "print(f\"The bill for unit {unit} is {bill} rupee only\")"
   ]
  },
  {
   "cell_type": "markdown",
   "id": "e8bde18f-6126-46c0-a3f5-8bb5520ae4e9",
   "metadata": {},
   "source": [
    "Q4. Create a list of numbers from 1 to 100. Use for loop and while loop to calculate the cube of each\n",
    "number and if the cube of that number is divisible by 4 or 5 then append that number in a list and print\n",
    "that list."
   ]
  },
  {
   "cell_type": "markdown",
   "id": "dc328d93-836f-48a5-bfef-09dc95a95760",
   "metadata": {},
   "source": [
    "for loop"
   ]
  },
  {
   "cell_type": "code",
   "execution_count": 6,
   "id": "eee09efe-d7ea-4422-8de1-e5dadeff67ca",
   "metadata": {},
   "outputs": [
    {
     "name": "stdout",
     "output_type": "stream",
     "text": [
      "[2, 4, 5, 6, 8, 10, 12, 14, 15, 16, 18, 20, 22, 24, 25, 26, 28, 30, 32, 34, 35, 36, 38, 40, 42, 44, 45, 46, 48, 50, 52, 54, 55, 56, 58, 60, 62, 64, 65, 66, 68, 70, 72, 74, 75, 76, 78, 80, 82, 84, 85, 86, 88, 90, 92, 94, 95, 96, 98, 100]\n"
     ]
    }
   ],
   "source": [
    "l1=list(range(1,101))\n",
    "l = []\n",
    "for i in l1:\n",
    "    cube = i ** 3\n",
    "    if cube % 4 == 0 or cube % 5 == 0:\n",
    "        l.append(i)\n",
    "print(l)"
   ]
  },
  {
   "cell_type": "markdown",
   "id": "47dab79a-a05c-42f0-9dbf-1b3d44a10985",
   "metadata": {},
   "source": [
    "while loop"
   ]
  },
  {
   "cell_type": "code",
   "execution_count": 7,
   "id": "5a6ef8fe-b5c7-4a04-a9b9-2b549f694889",
   "metadata": {},
   "outputs": [
    {
     "name": "stdout",
     "output_type": "stream",
     "text": [
      "[2, 4, 5, 6, 8, 10, 12, 14, 15, 16, 18, 20, 22, 24, 25, 26, 28, 30, 32, 34, 35, 36, 38, 40, 42, 44, 45, 46, 48, 50, 52, 54, 55, 56, 58, 60, 62, 64, 65, 66, 68, 70, 72, 74, 75, 76, 78, 80, 82, 84, 85, 86, 88, 90, 92, 94, 95, 96, 98, 100]\n"
     ]
    }
   ],
   "source": [
    "l2=[]\n",
    "a=1\n",
    "while (a<101):\n",
    "    cube= a**3\n",
    "    if cube % 4 == 0 or cube % 5 == 0:\n",
    "        l2.append(a)\n",
    "    a+=1\n",
    "print(l2)"
   ]
  },
  {
   "cell_type": "markdown",
   "id": "d83ba399-7f2d-42c8-bd28-00a3002b1ca6",
   "metadata": {},
   "source": [
    "Q5.  Write a program to filter count vowels in the below-given string.\n",
    "string = \"I want to become a data scientist\"\"\"\n"
   ]
  },
  {
   "cell_type": "code",
   "execution_count": 8,
   "id": "6547cd19-2e8b-481e-9e18-293c0d474537",
   "metadata": {},
   "outputs": [
    {
     "data": {
      "text/plain": [
       "12"
      ]
     },
     "execution_count": 8,
     "metadata": {},
     "output_type": "execute_result"
    }
   ],
   "source": [
    "string = \"I want to become a data scientist\"\n",
    "l= []\n",
    "for i in  string:\n",
    "    if i.lower() in ['a', 'e', 'i', 'o', 'u']:\n",
    "        l.append(i)\n",
    "len(l)\n"
   ]
  },
  {
   "cell_type": "code",
   "execution_count": null,
   "id": "f78b91a5-e1ef-4b14-8e68-d08eda50c2dc",
   "metadata": {},
   "outputs": [],
   "source": []
  }
 ],
 "metadata": {
  "kernelspec": {
   "display_name": "Python 3 (ipykernel)",
   "language": "python",
   "name": "python3"
  },
  "language_info": {
   "codemirror_mode": {
    "name": "ipython",
    "version": 3
   },
   "file_extension": ".py",
   "mimetype": "text/x-python",
   "name": "python",
   "nbconvert_exporter": "python",
   "pygments_lexer": "ipython3",
   "version": "3.10.8"
  }
 },
 "nbformat": 4,
 "nbformat_minor": 5
}
