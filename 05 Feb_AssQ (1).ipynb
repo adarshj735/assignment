{
 "cells": [
  {
   "cell_type": "markdown",
   "id": "85743a03-d30c-4b94-b48d-eef0136b5531",
   "metadata": {},
   "source": [
    "Q1. Explain Class and Object with respect to Object-Oriented Programming. Give a suitable example."
   ]
  },
  {
   "cell_type": "markdown",
   "id": "4640ac95-b49e-4cc9-86e6-d9852d208347",
   "metadata": {},
   "source": [
    "Ans:In Object-Oriented Programming (OOP), a class is a blueprint or template that defines the attributes (data) and behaviors (methods) of objects that can be created from it.\n",
    "An object, on the other hand, is an instance of a class, which has its own unique set of attribute values and can perform the behaviors defined by the class."
   ]
  },
  {
   "cell_type": "code",
   "execution_count": 1,
   "id": "118b737e-211b-46fe-a51c-24f8cec459d3",
   "metadata": {},
   "outputs": [
    {
     "data": {
      "text/plain": [
       "('Tata', 'Safari', 'Black', 2023)"
      ]
     },
     "execution_count": 1,
     "metadata": {},
     "output_type": "execute_result"
    }
   ],
   "source": [
    "#example\n",
    "class Car:\n",
    "    def __init__(self, make, model, color, year):\n",
    "        self.make = make\n",
    "        self.model = model\n",
    "        self.color = color\n",
    "        self.year = year\n",
    "    \n",
    "    def return_car_details(self):\n",
    "        return self.make,self.model,self.color,self.year\n",
    "    \n",
    "my_car= Car(\"Tata\",\"Safari\",\"Black\",2023)\n",
    "my_car.return_car_details()"
   ]
  },
  {
   "cell_type": "markdown",
   "id": "dac47402-1da0-4751-ae53-3f312ac7a7cb",
   "metadata": {},
   "source": [
    "Q2. Name the four pillars of OOPs."
   ]
  },
  {
   "cell_type": "markdown",
   "id": "5cf2cb6e-0b54-4f17-8826-46ec4b315453",
   "metadata": {},
   "source": [
    "Ans:The four major pillars in oops are:"
   ]
  },
  {
   "cell_type": "markdown",
   "id": "93f9acd7-85e1-423b-a46d-6eff8643188a",
   "metadata": {},
   "source": [
    "1.Encapsulation: This refers to the mechanism of binding data (variables) and functions (methods) together into a single unit (class). \n",
    "Encapsulation provides a way to control access to the data, ensuring that it can only be modified through the defined methods.\n"
   ]
  },
  {
   "cell_type": "markdown",
   "id": "b3def825-2cee-4ab8-a0a7-b414d14aa29b",
   "metadata": {},
   "source": [
    "2.Inheritance: This is the mechanism that allows a new class to be based on an existing class, inheriting all the data and methods of the base class. \n",
    "Inheritance allows for code reuse, and it enables the creation of specialized classes that have some characteristics of the parent class.\n"
   ]
  },
  {
   "cell_type": "markdown",
   "id": "4d469aba-d441-481e-96a0-d9eeb965a8b3",
   "metadata": {},
   "source": [
    "3.Polymorphism: This is the ability of objects of different classes to be treated as if they were objects of the same class. \n",
    "Polymorphism allows for code to be written in a generic way, so that it can handle different types of objects without needing to know their specific type.\n"
   ]
  },
  {
   "cell_type": "markdown",
   "id": "75c934c5-718c-4dd8-b456-10ab74a48dc1",
   "metadata": {},
   "source": [
    "4.Abstraction: This refers to the process of hiding complex implementation details and presenting a simpler interface to the user.\n",
    "Abstraction allows for the creation of classes that can be used without knowing how they are implemented, and it helps to manage the complexity of large software systems."
   ]
  },
  {
   "cell_type": "markdown",
   "id": "ad771c1a-8ee4-44b5-a249-796f78699f33",
   "metadata": {},
   "source": [
    "Q3. Explain why the __init__() function is used. Give a suitable example."
   ]
  },
  {
   "cell_type": "markdown",
   "id": "ad543797-b177-48db-937a-b8b0e7dbee42",
   "metadata": {},
   "source": [
    "Ans:In Python, the __init__() function is a special method that is called automatically when an object of a class is created. \n",
    "It is used to initialize the object's attributes or properties.\n",
    "The __init__() method is often used to set initial values for the object's attributes, which are defined as instance variables in the class.\n"
   ]
  },
  {
   "cell_type": "code",
   "execution_count": 2,
   "id": "b8a18335-54e9-462b-9a73-bd98255e982f",
   "metadata": {},
   "outputs": [
    {
     "name": "stdout",
     "output_type": "stream",
     "text": [
      "Swift Desire build by Maruti in White colour in year 2023 \n"
     ]
    }
   ],
   "source": [
    "#Example\n",
    "class Car:\n",
    "    def __init__(self, make, model, color, year):\n",
    "        self.make = make\n",
    "        self.model = model\n",
    "        self.color = color\n",
    "        self.year = year\n",
    "    \n",
    "    def return_car_details(self):\n",
    "        print(f\"{self.model} build by {self.make} in {self.color} colour in year {self.year} \")\n",
    "    \n",
    "my_car= Car(\"Maruti\",\"Swift Desire\",\"White\",2023)\n",
    "my_car.return_car_details()"
   ]
  },
  {
   "cell_type": "markdown",
   "id": "1b846999-d228-4c7e-89e0-fb2288313b2b",
   "metadata": {},
   "source": [
    "Q4. Why self is used in OOPs?"
   ]
  },
  {
   "cell_type": "markdown",
   "id": "4db61e53-bee9-45ed-b5e2-e9752559ee19",
   "metadata": {},
   "source": [
    "Ans:In Object-Oriented Programming (OOP), self is a reference to the instance of a class.\n",
    "It is used as the first parameter of instance methods in Python, and it allows methods to access the attributes and methods of the object that they are called on.\n"
   ]
  },
  {
   "cell_type": "code",
   "execution_count": 3,
   "id": "b924cfbc-2805-4346-891a-72dddceade93",
   "metadata": {},
   "outputs": [
    {
     "name": "stdout",
     "output_type": "stream",
     "text": [
      "Moti barks!\n",
      "Moti sleeps for 6 hours.\n"
     ]
    }
   ],
   "source": [
    "#Example\n",
    "class Dog:\n",
    "    def __init__(self, name, age):\n",
    "        self.name = name\n",
    "        self.age = age\n",
    "    \n",
    "    def bark(self):\n",
    "        print(f\"{self.name} barks!\")\n",
    "    \n",
    "    def sleep(self):\n",
    "        print(f\"{self.name} sleeps for {self.age * 2} hours.\")\n",
    "    \n",
    "    \n",
    "    \n",
    "my_dog=Dog(\"Moti\",3)\n",
    "my_dog.bark()\n",
    "my_dog.sleep()\n"
   ]
  },
  {
   "cell_type": "markdown",
   "id": "12038d3f-5cfe-43c2-8007-a9a63adaf9fb",
   "metadata": {},
   "source": [
    "Q5. What is inheritance? Give an example for each type of inheritance."
   ]
  },
  {
   "cell_type": "markdown",
   "id": "cc0b0a35-abfa-43ac-b853-0589bb3a6132",
   "metadata": {},
   "source": [
    "Ans:Inheritance is a mechanism in Python that allows one class to inherit the properties and methods of another class.\n",
    "The class that is being inherited from is called the base class or parent class, while the class that is inheriting is called the derived class or child class.\n",
    "Inheritance promotes code reusability and helps to create a hierarchical structure of classes."
   ]
  },
  {
   "cell_type": "markdown",
   "id": "ae18fd1b-442a-44b4-876c-0cb603a577fc",
   "metadata": {},
   "source": [
    "Types of Inheritance in Python"
   ]
  },
  {
   "cell_type": "markdown",
   "id": "7bedccab-8555-442b-a5af-d97a72d98a81",
   "metadata": {},
   "source": [
    "1.Single Inheritance: \n",
    "Single inheritance enables a derived class to inherit properties from a single parent class, thus enabling code reusability and the addition of new features to existing code."
   ]
  },
  {
   "cell_type": "code",
   "execution_count": 4,
   "id": "1d30ddf7-ef0f-46ab-bf88-e85b2551f2bc",
   "metadata": {},
   "outputs": [
    {
     "name": "stdout",
     "output_type": "stream",
     "text": [
      "Rover barks\n"
     ]
    }
   ],
   "source": [
    "#example\n",
    "class Animal:\n",
    "    def __init__(self, name):\n",
    "        self.name = name\n",
    "\n",
    "    \n",
    "class Dog(Animal):\n",
    "    def speak(self):\n",
    "        return self.name + \" barks\"\n",
    "\n",
    "dog = Dog(\"Rover\")\n",
    "print(dog.speak())\n",
    "\n"
   ]
  },
  {
   "cell_type": "markdown",
   "id": "7f8ad67a-2552-4b7d-a774-b7b987aca2d4",
   "metadata": {},
   "source": [
    "2.Multiple Inheritance: \n",
    "When a class can be derived from more than one base class this type of inheritance is called multiple inheritances. In multiple inheritances, all the features of the base classes are inherited into the derived class. "
   ]
  },
  {
   "cell_type": "code",
   "execution_count": 5,
   "id": "91a460dd-f359-4df9-b529-50fd3627bba3",
   "metadata": {},
   "outputs": [
    {
     "data": {
      "text/plain": [
       "('SITA is Mother', 'RAM is Father')"
      ]
     },
     "execution_count": 5,
     "metadata": {},
     "output_type": "execute_result"
    }
   ],
   "source": [
    "#Example\n",
    "\n",
    "class Mother:\n",
    "\tdef mother(self):\n",
    "\t\tself.mothername\n",
    "\n",
    "class Father:\n",
    "    def father(self):\n",
    "        self.fathername\n",
    "        \n",
    "\n",
    "class Son(Mother, Father):\n",
    "    def parents(self):\n",
    "        return self.mothername + \" is Mother\", self.fathername + \" is Father\"\n",
    "        #return self.fathername + \" is Father\"\n",
    "\n",
    "\n",
    "# Driver's code\n",
    "s1 = Son()\n",
    "s1.fathername = \"RAM\"\n",
    "s1.mothername = \"SITA\"\n",
    "s1.parents()\n"
   ]
  },
  {
   "cell_type": "markdown",
   "id": "8e04390f-04c5-43b7-98c0-69e1e00c6472",
   "metadata": {},
   "source": [
    "3.Multilevel Inheritance :\n",
    "In multilevel inheritance, a derived class inherits from a base class, which in turn inherits from another base class."
   ]
  },
  {
   "cell_type": "code",
   "execution_count": 6,
   "id": "03daa490-1e6a-4721-ab78-6ea7c24f4f40",
   "metadata": {},
   "outputs": [
    {
     "data": {
      "text/plain": [
       "'Hera is Grand father'"
      ]
     },
     "execution_count": 6,
     "metadata": {},
     "output_type": "execute_result"
    }
   ],
   "source": [
    "#Example\n",
    "\n",
    "class Grandfather:\n",
    "\tdef __init__(self, grandfathername):\n",
    "\t\tself.grandfathername = grandfathername\n",
    "\n",
    "\n",
    "class Father(Grandfather):\n",
    "\tdef father(self):\n",
    "\t\treturn self.grandfathername \n",
    "\t\t\n",
    "class Son(Father):\n",
    "\tdef grandchild(self):\n",
    "\t\treturn self.grandfathername + \" is Grand father\"\n",
    "\n",
    "\t\t\n",
    "\n",
    "son=Son(\"Hera\")\n",
    "son.grandchild()\n",
    "\n"
   ]
  },
  {
   "cell_type": "markdown",
   "id": "1295c8c5-3e63-4e97-8962-fcee8ece5905",
   "metadata": {},
   "source": [
    "4.Hierarchical Inheritance: In this type of inheritance, multiple derived classes inherit from a single base class."
   ]
  },
  {
   "cell_type": "code",
   "execution_count": 7,
   "id": "f8e2a467-ed81-4941-8b8a-6cde6b67ddba",
   "metadata": {},
   "outputs": [
    {
     "name": "stdout",
     "output_type": "stream",
     "text": [
      "Rahul is first child\n",
      "Raj is second child\n"
     ]
    }
   ],
   "source": [
    "class Father:\n",
    "    def __init__(self, name):\n",
    "        self.name = name\n",
    "\n",
    "class Child1(Father):\n",
    "    def child(self):\n",
    "        return self.name + \" is first child\"\n",
    "\n",
    "class Child2(Father):\n",
    "    def child(self):\n",
    "        return self.name + \" is second child\"\n",
    "\n",
    "child1 = Child1(\"Rahul\")\n",
    "print(child1.child()) \n",
    "\n",
    "child2 = Child2(\"Raj\")\n",
    "print(child2.child())"
   ]
  },
  {
   "cell_type": "code",
   "execution_count": null,
   "id": "d3a06002-2aef-40d3-b08c-dbd78798ea8c",
   "metadata": {},
   "outputs": [],
   "source": []
  }
 ],
 "metadata": {
  "kernelspec": {
   "display_name": "Python 3 (ipykernel)",
   "language": "python",
   "name": "python3"
  },
  "language_info": {
   "codemirror_mode": {
    "name": "ipython",
    "version": 3
   },
   "file_extension": ".py",
   "mimetype": "text/x-python",
   "name": "python",
   "nbconvert_exporter": "python",
   "pygments_lexer": "ipython3",
   "version": "3.10.8"
  }
 },
 "nbformat": 4,
 "nbformat_minor": 5
}
