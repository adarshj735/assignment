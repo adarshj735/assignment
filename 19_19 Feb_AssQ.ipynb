{
 "cells": [
  {
   "cell_type": "markdown",
   "id": "e253abcf-fa35-41f0-9137-ad2249d690f8",
   "metadata": {},
   "source": [
    "# Q1. What is Flask Framework? What are the advantages of Flask Framework?"
   ]
  },
  {
   "cell_type": "markdown",
   "id": "37b977c1-4007-4b20-9621-9a03d4cc930b",
   "metadata": {},
   "source": [
    "Flask is a popular Python web framework that allows developers to build web applications quickly and efficiently. It is a lightweight and modular framework that follows the Model-View-Controller (MVC) architectural pattern, although it is often referred to as a \"microframework\" due to its simplicity and minimalistic design.\n",
    "\n",
    "Here's a breakdown of the components and features of Flask:\n",
    "\n",
    "1. Routing: Flask provides a built-in routing system that maps URLs to view functions, allowing you to define how different URLs should be handled by your application.\n",
    "2. Templating: Flask uses the Jinja2 templating engine, which allows you to create dynamic HTML templates by embedding Python code within HTML files. Templating helps separate the presentation logic from the application logic.\n",
    "3. Web Server Gateway Interface (WSGI): Flask is WSGI compliant, meaning it can run on any WSGI server, such as Gunicorn or uWSGI, allowing your application to be deployed in various server environments.\n",
    "4. Request/Response Handling: Flask provides a request and response object for handling HTTP requests and generating appropriate responses. It supports different HTTP methods like GET, POST, PUT, DELETE, etc.\n",
    "5. Session Management: Flask allows you to manage user sessions, which are useful for storing and accessing user-specific data across multiple requests.\n",
    "6. Database Integration: Flask supports various databases through third-party extensions, including SQL databases like SQLite, MySQL, and PostgreSQL, as well as NoSQL databases like MongoDB.\n",
    "\n",
    "#### Advantages of Flask Framework:\n",
    "\n",
    "1. Lightweight and Easy to Get Started: Flask is designed to be minimalistic and easy to understand, making it an excellent choice for beginners. Its small codebase and simplicity allow developers to get started quickly without a steep learning curve.\n",
    "2. Flexibility and Extensibility: Flask follows a modular design, allowing developers to choose the components they need and integrate third-party libraries effortlessly. This flexibility enables you to build custom applications tailored to your specific requirements.\n",
    "3. Python Integration: As Flask is written in Python, it seamlessly integrates with the Python ecosystem, making it easy to leverage existing Python libraries and modules in your Flask applications.\n",
    "4. Scalability: Flask does not impose any specific project structure or database, giving you the freedom to scale your application as needed. This flexibility allows you to start small and gradually add more complex features as your application grows.\n",
    "5. Extensive Documentation and Community Support: Flask has excellent documentation that covers almost all aspects of the framework, making it easy to find answers to your questions. Additionally, Flask has a large and active community, providing support through forums, mailing lists, and online resources.\n",
    "6. Testing and Debugging: Flask provides useful tools and libraries for testing and debugging, allowing you to write unit tests and easily identify and fix issues in your application.\n",
    "7. Flask-WTF and Flask-SQLAlchemy: Flask has popular extensions like Flask-WTF for form handling and validation, and Flask-SQLAlchemy for database integration, which further simplifies development tasks."
   ]
  },
  {
   "cell_type": "markdown",
   "id": "b57d7dec-c9eb-457b-9ea9-190f0c319243",
   "metadata": {},
   "source": [
    "# Q2. Create a simple Flask application to display ‘Hello World!!’. Attach the screenshot of the output in Jupyter Notebook."
   ]
  },
  {
   "cell_type": "code",
   "execution_count": 1,
   "id": "5ec229ea-6c7d-491e-a617-949d4722e6fd",
   "metadata": {},
   "outputs": [
    {
     "name": "stdout",
     "output_type": "stream",
     "text": [
      " * Serving Flask app '__main__'\n",
      " * Debug mode: off\n"
     ]
    },
    {
     "name": "stderr",
     "output_type": "stream",
     "text": [
      "WARNING: This is a development server. Do not use it in a production deployment. Use a production WSGI server instead.\n",
      " * Running on all addresses (0.0.0.0)\n",
      " * Running on http://127.0.0.1:5000\n",
      " * Running on http://172.18.0.9:5000\n",
      "Press CTRL+C to quit\n",
      "172.18.0.2 - - [24/Jun/2023 16:50:27] \"GET / HTTP/1.1\" 200 -\n"
     ]
    }
   ],
   "source": [
    "\n",
    "from flask import Flask\n",
    "app = Flask(__name__)\n",
    "\n",
    "@app.route(\"/\")\n",
    "def hello_world():\n",
    "    return \"<h1>Hello World!!</h1>\"\n",
    "\n",
    "\n",
    "if __name__==\"__main__\":\n",
    "    app.run(host=\"0.0.0.0\")"
   ]
  },
  {
   "attachments": {
    "c8a71df7-403b-4dc1-9515-31e19621f803.PNG": {
     "image/png": "[encoded data removed]"
    }
   },
   "cell_type": "markdown",
   "id": "6c607178-c6b8-4d8b-ba20-9880305e4d92",
   "metadata": {},
   "source": [
    "![hell world.PNG](attachment:c8a71df7-403b-4dc1-9515-31e19621f803.PNG)"
   ]
  },
  {
   "cell_type": "markdown",
   "id": "77032d27-dc17-45dc-8e83-5aae55880e85",
   "metadata": {},
   "source": [
    "# Q3. What is App routing in Flask? Why do we use app routes?"
   ]
  },
  {
   "attachments": {
    "78c3f4d6-02e2-4414-82f6-d611a0f4bbfb.PNG": {
     "image/png": "[encoded data removed]"
    }
   },
   "cell_type": "markdown",
   "id": "8b378632-08b7-4141-9a6f-b505864522b9",
   "metadata": {},
   "source": [
    "In Flask, app routing refers to the process of mapping URLs (Uniform Resource Locators) to specific functions or views within your Flask application. It allows you to define how different URLs should be handled by your application, specifying which function should be executed when a particular URL is requested.\n",
    "\n",
    "##### Here's how app routing works in Flask:\n",
    "\n",
    "1. Defining Routes: To define a route in Flask, you use the @app.route decorator, which is provided by the Flask framework. The decorator is placed before a function that should be executed when the corresponding URL is accessed. The route decorator takes a string argument that specifies the URL pattern for that particular route.\n",
    "2. URL Patterns: The URL patterns can be static or dynamic. Static patterns represent fixed URLs, such as \"/home\" or \"/about\". Dynamic patterns contain variables that can be extracted from the URL. These variables are enclosed in <variable_name> brackets and can be accessed within the view function.\n",
    "4. HTTP Methods: By default, the route decorator binds the decorated function to handle HTTP GET requests. However, you can specify other HTTP methods like POST, PUT, DELETE, etc., by explicitly specifying them using the methods argument of the decorator.\n",
    "5. View Functions: The functions decorated with @app.route are referred to as view functions. These functions take the incoming request from the client and generate an appropriate response. They can access any dynamic URL variables passed in the URL pattern and perform the necessary logic to process the request.\n",
    "\n",
    "##### Here's an example to illustrate app routing in Flask:\n",
    "\n",
    "![flask.PNG](attachment:78c3f4d6-02e2-4414-82f6-d611a0f4bbfb.PNG)\n",
    "\n",
    "#### In above example, we have defined three routes:\n",
    "\n",
    "1. The root route (\"/\") is associated with the index view function, which simply returns the string \"Hello, World!\".\n",
    "2. The \"/user/<username>\" route is associated with the show_user view function, which takes the username variable from the URL and returns a personalized greeting.\n",
    "3. The \"/post/int:post_id\" route is associated with the show_post view function, which takes the post_id variable (converted to an integer) from the URL and displays the post ID.\n",
    "    \n",
    "    \n",
    "#### why we use app routes in Flask:\n",
    "\n",
    "1. URL Mapping: App routes allow you to define the structure and behavior of your application's URLs. They provide a way to map specific URLs to corresponding views, enabling users to access different sections of your application by navigating through the defined routes.\n",
    "2. Modular Design: App routing in Flask promotes a modular design by separating the logic for handling different URLs into individual view functions. This improves code organization and maintainability, as each view function can focus on a specific task related to the associated URL.\n",
    "3. RESTful APIs: With Flask's app routing, you can easily build RESTful APIs by mapping different routes to specific functions that handle the corresponding HTTP methods (GET, POST, PUT, DELETE, etc.). This allows you to define the API endpoints and implement the required functionality efficiently.\n",
    "4. Dynamic URLs: App routes support dynamic URLs, allowing you to create flexible and parameterized routes. Dynamic URLs enable you to handle various scenarios, such as displaying user-specific pages, accessing resources with unique identifiers, or filtering data based on different parameters.\n",
    "5. Code Reusability: By defining routes and associating them with specific view functions, you can reuse the same view"
   ]
  },
  {
   "cell_type": "markdown",
   "id": "57d22d89-32b4-49e2-97ad-6dddbedf9016",
   "metadata": {},
   "source": [
    "# Q4.  Create a “/welcome” route to display the welcome message “Welcome to ABC Corporation” and a “/” route to show the following details:\n",
    "\n",
    "    Company Name: ABC Corporation\n",
    "\n",
    "    Location: India\n",
    "\n",
    "    Contact Detail: 999-999-9999 "
   ]
  },
  {
   "cell_type": "code",
   "execution_count": 2,
   "id": "2db280ca-3d2e-4a22-9c96-5d558a06dd92",
   "metadata": {},
   "outputs": [
    {
     "name": "stdout",
     "output_type": "stream",
     "text": [
      " * Serving Flask app '__main__'\n",
      " * Debug mode: off\n"
     ]
    },
    {
     "name": "stderr",
     "output_type": "stream",
     "text": [
      "WARNING: This is a development server. Do not use it in a production deployment. Use a production WSGI server instead.\n",
      " * Running on all addresses (0.0.0.0)\n",
      " * Running on http://127.0.0.1:5000\n",
      " * Running on http://172.18.0.9:5000\n",
      "Press CTRL+C to quit\n",
      "172.18.0.2 - - [24/Jun/2023 16:50:49] \"GET /welcome HTTP/1.1\" 200 -\n",
      "172.18.0.2 - - [24/Jun/2023 16:50:55] \"GET / HTTP/1.1\" 200 -\n"
     ]
    }
   ],
   "source": [
    "from flask import Flask\n",
    "app = Flask(__name__)\n",
    "\n",
    "@app.route('/welcome')\n",
    "def welcome():\n",
    "    return 'Welcome to ABC Corporation'\n",
    "\n",
    "\n",
    "@app.route('/')\n",
    "def details():\n",
    "    return '''Company Name: ABC Corporation\n",
    "              Location: India\n",
    "              Contact Detail: 999-999-9999'''\n",
    "\n",
    "\n",
    "if __name__==\"__main__\":\n",
    "    app.run(host=\"0.0.0.0\")"
   ]
  },
  {
   "attachments": {
    "124dabaa-bdc7-4872-bcf0-b22dad6625ae.PNG": {
     "image/png": "[encoded data removed]"
    },
    "e4efc65a-598f-4159-a292-97ee6f461024.PNG": {
     "image/png": "[encoded data removed]"
    }
   },
   "cell_type": "markdown",
   "id": "7b17cf85-d8bf-4db0-ba3e-4da8f845b970",
   "metadata": {},
   "source": [
    "![welcome.PNG](attachment:124dabaa-bdc7-4872-bcf0-b22dad6625ae.PNG)\n",
    "\n",
    "![company.PNG](attachment:e4efc65a-598f-4159-a292-97ee6f461024.PNG)"
   ]
  },
  {
   "cell_type": "markdown",
   "id": "616bc73a-6a8d-4530-90cd-53b0f14cd52d",
   "metadata": {},
   "source": [
    "# Q5. What function is used in Flask for URL Building? Write a Python code to demonstrate the working of the url_for() function."
   ]
  },
  {
   "cell_type": "markdown",
   "id": "7e58d216-d154-4710-94e9-373771bd6a57",
   "metadata": {},
   "source": [
    "In Flask, the url_for() function is used for URL building. It generates a URL for a specified endpoint based on the routing configuration defined in your Flask application.\n",
    "\n",
    "The url_for() function takes the endpoint name as its first argument and optional keyword arguments representing the values of dynamic URL parameters. It then returns a URL string that corresponds to the specified endpoint.\n",
    "\n",
    "The url_for() function is particularly useful when you have dynamic routes with parameters, as it automatically handles the generation of URLs with the correct values for those parameters. It abstracts the details of URL construction, making your code more maintainable and less error-prone.\n",
    "\n",
    "example code snippet to demonstrate the working of the url_for() function in Flask:"
   ]
  },
  {
   "cell_type": "code",
   "execution_count": 3,
   "id": "f12237e3-4639-4fae-8f5f-674267a551f9",
   "metadata": {},
   "outputs": [
    {
     "name": "stdout",
     "output_type": "stream",
     "text": [
      " * Serving Flask app '__main__'\n",
      " * Debug mode: off\n"
     ]
    },
    {
     "name": "stderr",
     "output_type": "stream",
     "text": [
      "WARNING: This is a development server. Do not use it in a production deployment. Use a production WSGI server instead.\n",
      " * Running on all addresses (0.0.0.0)\n",
      " * Running on http://127.0.0.1:5000\n",
      " * Running on http://172.18.0.9:5000\n",
      "Press CTRL+C to quit\n",
      "172.18.0.2 - - [24/Jun/2023 16:51:20] \"GET / HTTP/1.1\" 200 -\n"
     ]
    }
   ],
   "source": [
    "from flask import Flask, url_for\n",
    "\n",
    "app = Flask(__name__)\n",
    "\n",
    "@app.route('/user/<username>')\n",
    "def profile(username):\n",
    "    # Some logic to retrieve user profile\n",
    "    return f\"User Profile: {username}\"\n",
    "\n",
    "@app.route('/')\n",
    "def index():\n",
    "    # URL for the 'profile' endpoint \n",
    "    url = url_for('profile', username='Adarsh')\n",
    "    return f\"URL for profile: {url}\"\n",
    "\n",
    "if __name__==\"__main__\":\n",
    "    app.run(host=\"0.0.0.0\")"
   ]
  },
  {
   "attachments": {
    "698108b8-e24d-4f0f-be1b-d19bd75bacf4.PNG": {
     "image/png": "[encoded data removed]"
    }
   },
   "cell_type": "markdown",
   "id": "433cc0a4-e713-4c9f-9def-b551088b2fac",
   "metadata": {},
   "source": [
    "![url.PNG](attachment:698108b8-e24d-4f0f-be1b-d19bd75bacf4.PNG)"
   ]
  },
  {
   "cell_type": "code",
   "execution_count": null,
   "id": "8fed7854-5758-4790-b8c0-0f9b54ce6038",
   "metadata": {},
   "outputs": [],
   "source": []
  }
 ],
 "metadata": {
  "kernelspec": {
   "display_name": "Python 3 (ipykernel)",
   "language": "python",
   "name": "python3"
  },
  "language_info": {
   "codemirror_mode": {
    "name": "ipython",
    "version": 3
   },
   "file_extension": ".py",
   "mimetype": "text/x-python",
   "name": "python",
   "nbconvert_exporter": "python",
   "pygments_lexer": "ipython3",
   "version": "3.10.8"
  }
 },
 "nbformat": 4,
 "nbformat_minor": 5
}
