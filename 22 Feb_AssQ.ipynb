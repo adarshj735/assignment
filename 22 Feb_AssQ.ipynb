{
 "cells": [
  {
   "cell_type": "markdown",
   "id": "12ebb993-aecc-4494-88fc-1d42afe59e26",
   "metadata": {},
   "source": [
    "# Q1. Create a Pandas Series that contains the following data: 4, 8, 15, 16, 23, and 42. Then, print the series."
   ]
  },
  {
   "cell_type": "code",
   "execution_count": 1,
   "id": "5d3fb3f2-d25f-4da7-8273-b68bf39d2554",
   "metadata": {},
   "outputs": [],
   "source": [
    "import pandas as pd\n",
    "data = [4, 8, 15, 16, 23, 42]\n",
    "series = pd.Series(data)"
   ]
  },
  {
   "cell_type": "code",
   "execution_count": 2,
   "id": "06546a61-3619-4e75-8ca9-6a5bf9dd72d8",
   "metadata": {},
   "outputs": [
    {
     "data": {
      "text/plain": [
       "0     4\n",
       "1     8\n",
       "2    15\n",
       "3    16\n",
       "4    23\n",
       "5    42\n",
       "dtype: int64"
      ]
     },
     "execution_count": 2,
     "metadata": {},
     "output_type": "execute_result"
    }
   ],
   "source": [
    "series"
   ]
  },
  {
   "cell_type": "markdown",
   "id": "1fb5b032-675e-46ea-ad7f-06a01e1ccff9",
   "metadata": {},
   "source": [
    "# Q2. Create a variable of list type containing 10 elements in it, and apply pandas.Series function on the variable print it."
   ]
  },
  {
   "cell_type": "code",
   "execution_count": 3,
   "id": "50f7f3ba-f591-4b98-8870-ffc1f9635993",
   "metadata": {},
   "outputs": [
    {
     "name": "stdout",
     "output_type": "stream",
     "text": [
      "0     1\n",
      "1     2\n",
      "2     3\n",
      "3     4\n",
      "4     5\n",
      "5     6\n",
      "6     7\n",
      "7     8\n",
      "8     9\n",
      "9    10\n",
      "dtype: int64\n"
     ]
    }
   ],
   "source": [
    "my_list = [1, 2, 3, 4, 5, 6, 7, 8, 9, 10]\n",
    "series = pd.Series(my_list)\n",
    "print(series)"
   ]
  },
  {
   "attachments": {
    "1f223094-0b7b-4b67-8f5a-7cdbd9eb4ffe.JPG": {
     "image/jpeg": "[encoded data removed]"
    }
   },
   "cell_type": "markdown",
   "id": "79fc9987-4cd5-4cc1-a30d-4ed67bac2e39",
   "metadata": {},
   "source": [
    "# Q3. Create a Pandas DataFrame that contains the following data:\n",
    "![data.JPG](attachment:1f223094-0b7b-4b67-8f5a-7cdbd9eb4ffe.JPG)\n",
    "# Then, print the DataFrame."
   ]
  },
  {
   "cell_type": "code",
   "execution_count": 4,
   "id": "8e76e2c5-c40a-4201-96fb-dcf84cd93328",
   "metadata": {},
   "outputs": [],
   "source": [
    "data = {'Name': ['Alice','Bob','Claire'],\n",
    "        'Age': [25, 30, 27],\n",
    "        'Gender': ['Female', 'Male', 'Female']}\n",
    "df = pd.DataFrame(data)"
   ]
  },
  {
   "cell_type": "code",
   "execution_count": 5,
   "id": "8ab2e0e0-367d-4bdb-952e-1820454fa3d2",
   "metadata": {},
   "outputs": [
    {
     "data": {
      "text/html": [
       "<div>\n",
       "<style scoped>\n",
       "    .dataframe tbody tr th:only-of-type {\n",
       "        vertical-align: middle;\n",
       "    }\n",
       "\n",
       "    .dataframe tbody tr th {\n",
       "        vertical-align: top;\n",
       "    }\n",
       "\n",
       "    .dataframe thead th {\n",
       "        text-align: right;\n",
       "    }\n",
       "</style>\n",
       "<table border=\"1\" class=\"dataframe\">\n",
       "  <thead>\n",
       "    <tr style=\"text-align: right;\">\n",
       "      <th></th>\n",
       "      <th>Name</th>\n",
       "      <th>Age</th>\n",
       "      <th>Gender</th>\n",
       "    </tr>\n",
       "  </thead>\n",
       "  <tbody>\n",
       "    <tr>\n",
       "      <th>0</th>\n",
       "      <td>Alice</td>\n",
       "      <td>25</td>\n",
       "      <td>Female</td>\n",
       "    </tr>\n",
       "    <tr>\n",
       "      <th>1</th>\n",
       "      <td>Bob</td>\n",
       "      <td>30</td>\n",
       "      <td>Male</td>\n",
       "    </tr>\n",
       "    <tr>\n",
       "      <th>2</th>\n",
       "      <td>Claire</td>\n",
       "      <td>27</td>\n",
       "      <td>Female</td>\n",
       "    </tr>\n",
       "  </tbody>\n",
       "</table>\n",
       "</div>"
      ],
      "text/plain": [
       "     Name  Age  Gender\n",
       "0   Alice   25  Female\n",
       "1     Bob   30    Male\n",
       "2  Claire   27  Female"
      ]
     },
     "execution_count": 5,
     "metadata": {},
     "output_type": "execute_result"
    }
   ],
   "source": [
    "df"
   ]
  },
  {
   "cell_type": "markdown",
   "id": "bb40cc51-12b2-4714-b4c2-ebdbb6aec454",
   "metadata": {},
   "source": [
    "# Q4. What is ‘DataFrame’ in pandas and how is it different from pandas.series? Explain with an example."
   ]
  },
  {
   "cell_type": "markdown",
   "id": "a9fc865f-9184-41f9-80ff-5128420a4043",
   "metadata": {},
   "source": [
    "In pandas, a DataFrame is a two-dimensional, size-mutable, and heterogeneous data structure that is widely used for data manipulation and analysis. It can be thought of as a table or a spreadsheet-like data structure where data is organized in rows and columns. Each column in a DataFrame represents a variable, while each row represents an observation or a record. This makes it suitable for handling structured data, like the data you might find in a CSV file or a database table.\n",
    "\n",
    "On the other hand, a Series is a one-dimensional labeled array in pandas. It is similar to a Python list, but with additional capabilities and properties. A Series is designed to hold a single column of data and the corresponding row labels (indices). It is like a single column of a DataFrame.\n",
    "\n",
    "Here's a more detailed explanation of the differences between a DataFrame and a Series:\n",
    "\n",
    "##### Dimensionality:\n",
    "1. DataFrame: It is a two-dimensional data structure, meaning it has both rows and columns. It can be represented as a table.\n",
    "2. Series: It is a one-dimensional data structure, meaning it has only one axis (rows or columns).\n",
    "\n",
    "##### Data Structure:\n",
    "1. DataFrame: It can be visualized as a collection of Series where each Series represents a column, and all the Series share the same index.\n",
    "2. Series: It represents a single column of data with an associated index.\n",
    "\n",
    "##### Representation:\n",
    "1. DataFrame: It is a tabular structure with rows and columns, similar to a spreadsheet or a SQL table.\n",
    "2. Series: It is a single column with labels for each row, similar to a Python dictionary.\n"
   ]
  },
  {
   "cell_type": "code",
   "execution_count": 6,
   "id": "ee9f8aaa-0e62-4f4e-9c32-c99e88944046",
   "metadata": {},
   "outputs": [],
   "source": [
    "data = {'Name': ['Alice','Bob','Claire'],\n",
    "        'Age': [25, 30, 27],\n",
    "        'Gender': ['Female', 'Male', 'Female']}\n",
    "df = pd.DataFrame(data)"
   ]
  },
  {
   "cell_type": "code",
   "execution_count": 7,
   "id": "6edffb62-eff2-4ceb-88ff-b8738755eb5e",
   "metadata": {},
   "outputs": [
    {
     "data": {
      "text/html": [
       "<div>\n",
       "<style scoped>\n",
       "    .dataframe tbody tr th:only-of-type {\n",
       "        vertical-align: middle;\n",
       "    }\n",
       "\n",
       "    .dataframe tbody tr th {\n",
       "        vertical-align: top;\n",
       "    }\n",
       "\n",
       "    .dataframe thead th {\n",
       "        text-align: right;\n",
       "    }\n",
       "</style>\n",
       "<table border=\"1\" class=\"dataframe\">\n",
       "  <thead>\n",
       "    <tr style=\"text-align: right;\">\n",
       "      <th></th>\n",
       "      <th>Name</th>\n",
       "      <th>Age</th>\n",
       "      <th>Gender</th>\n",
       "    </tr>\n",
       "  </thead>\n",
       "  <tbody>\n",
       "    <tr>\n",
       "      <th>0</th>\n",
       "      <td>Alice</td>\n",
       "      <td>25</td>\n",
       "      <td>Female</td>\n",
       "    </tr>\n",
       "    <tr>\n",
       "      <th>1</th>\n",
       "      <td>Bob</td>\n",
       "      <td>30</td>\n",
       "      <td>Male</td>\n",
       "    </tr>\n",
       "    <tr>\n",
       "      <th>2</th>\n",
       "      <td>Claire</td>\n",
       "      <td>27</td>\n",
       "      <td>Female</td>\n",
       "    </tr>\n",
       "  </tbody>\n",
       "</table>\n",
       "</div>"
      ],
      "text/plain": [
       "     Name  Age  Gender\n",
       "0   Alice   25  Female\n",
       "1     Bob   30    Male\n",
       "2  Claire   27  Female"
      ]
     },
     "execution_count": 7,
     "metadata": {},
     "output_type": "execute_result"
    }
   ],
   "source": [
    "df"
   ]
  },
  {
   "cell_type": "code",
   "execution_count": 8,
   "id": "da800ed7-9205-4f0f-b7c6-f9da6d3f3cf6",
   "metadata": {},
   "outputs": [
    {
     "data": {
      "text/plain": [
       "0    25\n",
       "1    30\n",
       "2    27\n",
       "Name: Age, dtype: int64"
      ]
     },
     "execution_count": 8,
     "metadata": {},
     "output_type": "execute_result"
    }
   ],
   "source": [
    "df['Age']"
   ]
  },
  {
   "cell_type": "markdown",
   "id": "454e1a54-c5dd-4d39-a512-cc8b12f32782",
   "metadata": {},
   "source": [
    "# Q5. What are some common functions you can use to manipulate data in a Pandas DataFrame? Can you give an example of when you might use one of these functions?"
   ]
  },
  {
   "cell_type": "markdown",
   "id": "23e47b95-4b0e-458e-8d84-1a87e0f10d85",
   "metadata": {},
   "source": [
    "Pandas provides a wide range of functions to manipulate data in a DataFrame. These functions are essential for data cleaning, filtering, transformation, aggregation, and more. Here are some common functions used for DataFrame manipulation, along with detailed explanations and an example for one of them:\n",
    "\n",
    "##### head() and tail():\n",
    "1. head(): Returns the first n rows of the DataFrame (default n=5).\n",
    "2. tail(): Returns the last n rows of the DataFrame (default n=5)."
   ]
  },
  {
   "cell_type": "code",
   "execution_count": 9,
   "id": "46f12926-1c13-471c-ade6-a288ab7545f5",
   "metadata": {},
   "outputs": [
    {
     "name": "stdout",
     "output_type": "stream",
     "text": [
      "First 3 rows:\n",
      "      Name  Age\n",
      "0    Alice   25\n",
      "1      Bob   30\n",
      "2  Charlie   22\n",
      "\n",
      "Last 2 rows:\n",
      "    Name  Age\n",
      "5  Frank   40\n",
      "6  Grace   32\n"
     ]
    }
   ],
   "source": [
    "data = {\n",
    "    'Name': ['Alice', 'Bob', 'Charlie', 'David', 'Eva', 'Frank', 'Grace'],\n",
    "    'Age': [25, 30, 22, 28, 35, 40, 32]}\n",
    "\n",
    "df = pd.DataFrame(data)\n",
    "\n",
    "print(\"First 3 rows:\")\n",
    "print(df.head(3))\n",
    "\n",
    "print(\"\\nLast 2 rows:\")\n",
    "print(df.tail(2))"
   ]
  },
  {
   "cell_type": "markdown",
   "id": "a777590c-e5e1-4462-8f09-2cf59deade01",
   "metadata": {},
   "source": [
    "##### describe():\n",
    "Generates descriptive statistics of the DataFrame, providing information like mean, median, minimum, maximum, and quartiles for numeric columns."
   ]
  },
  {
   "cell_type": "code",
   "execution_count": 10,
   "id": "82566420-7361-4758-ba1a-67f8d882cb36",
   "metadata": {},
   "outputs": [
    {
     "name": "stdout",
     "output_type": "stream",
     "text": [
      "             Age\n",
      "count   7.000000\n",
      "mean   30.285714\n",
      "std     6.074929\n",
      "min    22.000000\n",
      "25%    26.500000\n",
      "50%    30.000000\n",
      "75%    33.500000\n",
      "max    40.000000\n"
     ]
    }
   ],
   "source": [
    "data = {'Age': [25, 30, 22, 28, 35, 40, 32]}\n",
    "\n",
    "df = pd.DataFrame(data)\n",
    "\n",
    "print(df.describe())"
   ]
  },
  {
   "cell_type": "markdown",
   "id": "a50ba64a-36aa-4f2f-ac43-ab54545f32fc",
   "metadata": {},
   "source": [
    "##### sort_values():\n",
    "Sorts the DataFrame based on the values of one or more columns."
   ]
  },
  {
   "cell_type": "code",
   "execution_count": 11,
   "id": "4f68a032-c555-4110-97e6-860f591a2b1a",
   "metadata": {},
   "outputs": [
    {
     "name": "stdout",
     "output_type": "stream",
     "text": [
      "      Name  Age\n",
      "2  Charlie   22\n",
      "0    Alice   25\n",
      "3    David   28\n",
      "1      Bob   30\n"
     ]
    }
   ],
   "source": [
    "data = {'Name': ['Alice', 'Bob', 'Charlie', 'David'],\n",
    "    'Age': [25, 30, 22, 28]}\n",
    "\n",
    "df = pd.DataFrame(data)\n",
    "\n",
    "df_sorted = df.sort_values(by='Age')\n",
    "\n",
    "print(df_sorted)"
   ]
  },
  {
   "cell_type": "markdown",
   "id": "418a7d2c-248a-4be0-a719-494072f77bf3",
   "metadata": {},
   "source": [
    "##### groupby() and aggregation functions:\n",
    "1. groupby(): Groups the DataFrame based on the values of one or more columns.\n",
    "2. Aggregation functions (e.g., sum(), mean(), count(), max(), min(), etc.): Perform operations on grouped data."
   ]
  },
  {
   "cell_type": "code",
   "execution_count": 12,
   "id": "cab3f532-c7d0-480d-b7d5-ef213f501843",
   "metadata": {},
   "outputs": [
    {
     "name": "stdout",
     "output_type": "stream",
     "text": [
      "City\n",
      "London      8950000.0\n",
      "New York    8550000.0\n",
      "Paris       2200000.0\n",
      "Name: Population, dtype: float64\n"
     ]
    }
   ],
   "source": [
    "data = {'City': ['New York', 'London', 'Paris', 'New York', 'London'],\n",
    "    'Population': [8500000, 8900000, 2200000, 8600000, 9000000]}\n",
    "\n",
    "df = pd.DataFrame(data)\n",
    "\n",
    "population_mean_by_city = df.groupby('City')['Population'].mean()\n",
    "\n",
    "print(population_mean_by_city)"
   ]
  },
  {
   "cell_type": "markdown",
   "id": "e6275c84-ef41-4700-a95d-256c695aba9e",
   "metadata": {},
   "source": [
    "# Q6. Which of the following is mutable in nature Series, DataFrame, Panel?"
   ]
  },
  {
   "cell_type": "markdown",
   "id": "8482611d-c10a-4b40-a829-8b38e32e021b",
   "metadata": {},
   "source": [
    "Among the options given, the mutable data structure is the DataFrame.\n",
    "\n",
    "1. Series: A Series in pandas is an immutable, one-dimensional array-like object. Once a Series is created, you cannot change its size or modify its elements.\n",
    "\n",
    "2. DataFrame: A DataFrame in pandas is a two-dimensional, size-mutable, and heterogeneous data structure. It is mutable, meaning you can modify its size, add or delete rows and columns, and update the values in the DataFrame.\n",
    "\n",
    "3. Panel: Panels have been deprecated since pandas version 0.25.0 and are no longer recommended for use. They were three-dimensional data structures in pandas that were similar to DataFrames but had an extra dimension. Like DataFrames, Panels were also mutable."
   ]
  },
  {
   "cell_type": "markdown",
   "id": "e80bba6c-dab4-456f-bdc5-b40813bd11e9",
   "metadata": {},
   "source": [
    "# Q7. Create a DataFrame using multiple Series. Explain with an example."
   ]
  },
  {
   "cell_type": "code",
   "execution_count": 13,
   "id": "4cba02f3-f46f-4069-bbc3-19d9725fb923",
   "metadata": {},
   "outputs": [
    {
     "name": "stdout",
     "output_type": "stream",
     "text": [
      "       City  Population\n",
      "0  New York     8500000\n",
      "1    London     8900000\n",
      "2     Paris     2200000\n",
      "3  New York     8600000\n",
      "4    London     9000000\n"
     ]
    }
   ],
   "source": [
    "name_series = pd.Series(['Alice', 'Bob', 'Charlie', 'David'])\n",
    "age_series = pd.Series([25, 30, 22, 28])\n",
    "city_series = pd.Series(['New York', 'London', 'Paris', 'Tokyo'])\n",
    "\n",
    "df1 = pd.DataFrame({\n",
    "    'Name': name_series,\n",
    "    'Age': age_series,\n",
    "    'City': city_series})\n",
    "\n",
    "print(df)"
   ]
  },
  {
   "cell_type": "markdown",
   "id": "bab46add-8d8e-44f8-8a96-41a15a04ae6e",
   "metadata": {},
   "source": [
    "In above example, we created three separate Series: name_series, age_series, and city_series. Each Series represents a column of data that we want to include in the DataFrame. We then used the pd.DataFrame() constructor to combine these Series into a DataFrame, where each Series became a column in the DataFrame.\n",
    "\n",
    "As we can see from the output, the resulting DataFrame has three columns: 'Name', 'Age', and 'City'. Each row represents an observation or a record, and the data from the corresponding Series is placed in the respective column.\n",
    "\n",
    "By creating DataFrames from multiple Series, we can efficiently organize and manipulate our data in a structured manner, making it easier to perform data analysis and other operations"
   ]
  },
  {
   "cell_type": "code",
   "execution_count": null,
   "id": "ab406ee1-0921-409d-8ede-e9bddc34f3a0",
   "metadata": {},
   "outputs": [],
   "source": []
  }
 ],
 "metadata": {
  "kernelspec": {
   "display_name": "Python 3 (ipykernel)",
   "language": "python",
   "name": "python3"
  },
  "language_info": {
   "codemirror_mode": {
    "name": "ipython",
    "version": 3
   },
   "file_extension": ".py",
   "mimetype": "text/x-python",
   "name": "python",
   "nbconvert_exporter": "python",
   "pygments_lexer": "ipython3",
   "version": "3.10.8"
  }
 },
 "nbformat": 4,
 "nbformat_minor": 5
}
