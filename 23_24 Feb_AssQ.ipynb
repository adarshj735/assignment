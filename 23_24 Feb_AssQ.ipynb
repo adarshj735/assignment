{
 "cells": [
  {
   "cell_type": "markdown",
   "id": "e46c153c-f302-44d3-91a2-ed54229f0d2f",
   "metadata": {},
   "source": [
    "# Q1. List any five functions of the pandas library with execution."
   ]
  },
  {
   "cell_type": "markdown",
   "id": "f8830ea0-571f-424a-a891-c8393a149e50",
   "metadata": {},
   "source": [
    "##### head() and tail():\n",
    "1. head(): Returns the first n rows of the DataFrame (default n=5).\n",
    "2. tail(): Returns the last n rows of the DataFrame (default n=5)."
   ]
  },
  {
   "cell_type": "code",
   "execution_count": 1,
   "id": "87a247c4-627f-4a34-8128-918113aee8cb",
   "metadata": {},
   "outputs": [
    {
     "name": "stdout",
     "output_type": "stream",
     "text": [
      "First 3 rows:\n",
      "      Name  Age\n",
      "0    Alice   25\n",
      "1      Bob   30\n",
      "2  Charlie   22\n",
      "\n",
      "Last 2 rows:\n",
      "    Name  Age\n",
      "5  Frank   40\n",
      "6  Grace   32\n"
     ]
    }
   ],
   "source": [
    "import pandas as pd\n",
    "data = {\n",
    "    'Name': ['Alice', 'Bob', 'Charlie', 'David', 'Eva', 'Frank', 'Grace'],\n",
    "    'Age': [25, 30, 22, 28, 35, 40, 32]}\n",
    "\n",
    "df = pd.DataFrame(data)\n",
    "\n",
    "print(\"First 3 rows:\")\n",
    "print(df.head(3))\n",
    "\n",
    "print(\"\\nLast 2 rows:\")\n",
    "print(df.tail(2))"
   ]
  },
  {
   "cell_type": "markdown",
   "id": "96e1a121-ffe1-4b83-906c-74db8d3f274b",
   "metadata": {},
   "source": [
    "##### describe():\n",
    "Generates descriptive statistics of the DataFrame, providing information like mean, median, minimum, maximum, and quartiles for numeric columns."
   ]
  },
  {
   "cell_type": "code",
   "execution_count": 2,
   "id": "78ebc461-7d44-4153-9bd1-8b762ee036a4",
   "metadata": {},
   "outputs": [
    {
     "name": "stdout",
     "output_type": "stream",
     "text": [
      "             Age\n",
      "count   7.000000\n",
      "mean   30.285714\n",
      "std     6.074929\n",
      "min    22.000000\n",
      "25%    26.500000\n",
      "50%    30.000000\n",
      "75%    33.500000\n",
      "max    40.000000\n"
     ]
    }
   ],
   "source": [
    "data = {'Age': [25, 30, 22, 28, 35, 40, 32]}\n",
    "\n",
    "df = pd.DataFrame(data)\n",
    "\n",
    "print(df.describe())"
   ]
  },
  {
   "cell_type": "markdown",
   "id": "dc0a6062-d0ee-4d25-86a8-5427bde941ab",
   "metadata": {},
   "source": [
    "##### fillna(): This function is used to fill missing values in a DataFrame with a specified value."
   ]
  },
  {
   "cell_type": "code",
   "execution_count": 3,
   "id": "e9f23835-55f8-4adc-9cc5-1f8c7401659d",
   "metadata": {},
   "outputs": [
    {
     "name": "stdout",
     "output_type": "stream",
     "text": [
      "     A    B    C\n",
      "0  1.0  4.0  0.0\n",
      "1  0.0  5.0  8.0\n",
      "2  3.0  0.0  9.0\n"
     ]
    }
   ],
   "source": [
    "data = {\n",
    "    'A': [1, None, 3],\n",
    "    'B': [4, 5, None],\n",
    "    'C': [None, 8, 9]\n",
    "}\n",
    "df = pd.DataFrame(data)\n",
    "df = df.fillna(0) \n",
    "print(df)"
   ]
  },
  {
   "cell_type": "markdown",
   "id": "992527a9-31be-451b-bd2b-a01c0089f656",
   "metadata": {},
   "source": [
    "##### drop(): This function is used to remove rows or columns from a DataFrame."
   ]
  },
  {
   "cell_type": "code",
   "execution_count": 4,
   "id": "39765aef-64c9-4784-8748-f42d7f46a4fb",
   "metadata": {},
   "outputs": [
    {
     "name": "stdout",
     "output_type": "stream",
     "text": [
      "   A  B\n",
      "0  1  4\n",
      "1  2  5\n",
      "2  3  6\n"
     ]
    }
   ],
   "source": [
    "data = {\n",
    "    'A': [1, 2, 3],\n",
    "    'B': [4, 5, 6],\n",
    "    'C': [7, 8, 9]\n",
    "}\n",
    "df = pd.DataFrame(data)\n",
    "df = df.drop(columns=['C'])\n",
    "print(df)"
   ]
  },
  {
   "cell_type": "markdown",
   "id": "5d4f807b-ab2c-4410-965d-b3623103b579",
   "metadata": {},
   "source": [
    "# Q2. Given a Pandas DataFrame df with columns 'A', 'B', and 'C', write a Python function to re-index the DataFrame with a new index that starts from 1 and increments by 2 for each row."
   ]
  },
  {
   "cell_type": "code",
   "execution_count": 5,
   "id": "8a706a55-9214-422d-a75c-fd505934d78a",
   "metadata": {},
   "outputs": [
    {
     "data": {
      "text/html": [
       "<div>\n",
       "<style scoped>\n",
       "    .dataframe tbody tr th:only-of-type {\n",
       "        vertical-align: middle;\n",
       "    }\n",
       "\n",
       "    .dataframe tbody tr th {\n",
       "        vertical-align: top;\n",
       "    }\n",
       "\n",
       "    .dataframe thead th {\n",
       "        text-align: right;\n",
       "    }\n",
       "</style>\n",
       "<table border=\"1\" class=\"dataframe\">\n",
       "  <thead>\n",
       "    <tr style=\"text-align: right;\">\n",
       "      <th></th>\n",
       "      <th>A</th>\n",
       "      <th>B</th>\n",
       "      <th>C</th>\n",
       "    </tr>\n",
       "  </thead>\n",
       "  <tbody>\n",
       "    <tr>\n",
       "      <th>1</th>\n",
       "      <td>Alice</td>\n",
       "      <td>25</td>\n",
       "      <td>Female</td>\n",
       "    </tr>\n",
       "    <tr>\n",
       "      <th>3</th>\n",
       "      <td>Bob</td>\n",
       "      <td>30</td>\n",
       "      <td>Male</td>\n",
       "    </tr>\n",
       "    <tr>\n",
       "      <th>5</th>\n",
       "      <td>Claire</td>\n",
       "      <td>27</td>\n",
       "      <td>Female</td>\n",
       "    </tr>\n",
       "    <tr>\n",
       "      <th>7</th>\n",
       "      <td>Karan</td>\n",
       "      <td>35</td>\n",
       "      <td>Male</td>\n",
       "    </tr>\n",
       "  </tbody>\n",
       "</table>\n",
       "</div>"
      ],
      "text/plain": [
       "        A   B       C\n",
       "1   Alice  25  Female\n",
       "3     Bob  30    Male\n",
       "5  Claire  27  Female\n",
       "7   Karan  35    Male"
      ]
     },
     "execution_count": 5,
     "metadata": {},
     "output_type": "execute_result"
    }
   ],
   "source": [
    "data = {'A': ['Alice','Bob','Claire','Karan'],\n",
    "        'B': [25, 30, 27,35],\n",
    "        'C': ['Female', 'Male', 'Female','Male']}\n",
    "\n",
    "df= pd.DataFrame(data)\n",
    "df.index=[i for i in range(1,len(df)*2,2)]\n",
    "df"
   ]
  },
  {
   "cell_type": "markdown",
   "id": "125d7971-7618-491f-b84f-d284aaae7a3d",
   "metadata": {},
   "source": [
    "# Q3. You have a Pandas DataFrame df with a column named 'Values'. Write a Python function that iterates over the DataFrame and calculates the sum of the first three values in the 'Values' column. The function should print the sum to the console.\n",
    "\n",
    "## For example, if the 'Values' column of df contains the values [10, 20, 30, 40, 50], your function should calculate and print the sum of the first three values, which is 60."
   ]
  },
  {
   "cell_type": "code",
   "execution_count": 6,
   "id": "c32188fa-9c79-420a-917f-568d0682cc35",
   "metadata": {},
   "outputs": [],
   "source": [
    "import pandas as pd\n",
    "data=[10, 20, 30, 40, 50]\n",
    "df=pd.DataFrame(data, columns=['Values'])\n",
    "\n",
    "def first_three(df):\n",
    "    x= df.iloc[:3].sum()\n",
    "    return x\n",
    "\n",
    "sum_of_first_three=  first_three(df)"
   ]
  },
  {
   "cell_type": "code",
   "execution_count": 7,
   "id": "c2966b77-3784-4221-abc2-fa97e480c225",
   "metadata": {},
   "outputs": [
    {
     "data": {
      "text/plain": [
       "Values    60\n",
       "dtype: int64"
      ]
     },
     "execution_count": 7,
     "metadata": {},
     "output_type": "execute_result"
    }
   ],
   "source": [
    "sum_of_first_three"
   ]
  },
  {
   "cell_type": "markdown",
   "id": "c26e67d6-7a83-4c11-a56f-23f24834a141",
   "metadata": {},
   "source": [
    "# Q4. Given a Pandas DataFrame df with a column 'Text', write a Python function to create a new column 'Word_Count' that contains the number of words in each row of the 'Text' column."
   ]
  },
  {
   "cell_type": "code",
   "execution_count": 8,
   "id": "f8fdd02a-b2f0-46dc-a602-702d7217eb67",
   "metadata": {},
   "outputs": [
    {
     "data": {
      "text/html": [
       "<div>\n",
       "<style scoped>\n",
       "    .dataframe tbody tr th:only-of-type {\n",
       "        vertical-align: middle;\n",
       "    }\n",
       "\n",
       "    .dataframe tbody tr th {\n",
       "        vertical-align: top;\n",
       "    }\n",
       "\n",
       "    .dataframe thead th {\n",
       "        text-align: right;\n",
       "    }\n",
       "</style>\n",
       "<table border=\"1\" class=\"dataframe\">\n",
       "  <thead>\n",
       "    <tr style=\"text-align: right;\">\n",
       "      <th></th>\n",
       "      <th>Text</th>\n",
       "      <th>Word_count</th>\n",
       "    </tr>\n",
       "  </thead>\n",
       "  <tbody>\n",
       "    <tr>\n",
       "      <th>0</th>\n",
       "      <td>My name is Adarsh</td>\n",
       "      <td>4</td>\n",
       "    </tr>\n",
       "    <tr>\n",
       "      <th>1</th>\n",
       "      <td>I read in class 9th standard in Delhi</td>\n",
       "      <td>8</td>\n",
       "    </tr>\n",
       "    <tr>\n",
       "      <th>2</th>\n",
       "      <td>I am a self-driven and self motivated student</td>\n",
       "      <td>9</td>\n",
       "    </tr>\n",
       "  </tbody>\n",
       "</table>\n",
       "</div>"
      ],
      "text/plain": [
       "                                             Text  Word_count\n",
       "0                               My name is Adarsh           4\n",
       "1           I read in class 9th standard in Delhi           8\n",
       "2   I am a self-driven and self motivated student           9"
      ]
     },
     "execution_count": 8,
     "metadata": {},
     "output_type": "execute_result"
    }
   ],
   "source": [
    "data= (['My name is Adarsh'],\n",
    "       ['I read in class 9th standard in Delhi'],\n",
    "       [' I am a self-driven and self motivated student'])\n",
    "\n",
    "df=pd.DataFrame(data,columns=['Text'])\n",
    "\n",
    "def count(df):\n",
    "    df['Word_count']= df['Text'].str.count(' ')+1\n",
    "    return df\n",
    "\n",
    "word = count(df)\n",
    "word"
   ]
  },
  {
   "cell_type": "markdown",
   "id": "db5b5215-761a-4840-afd7-6f71fb1c2e6a",
   "metadata": {},
   "source": [
    "# Q5. How are DataFrame.size() and DataFrame.shape() different?"
   ]
  },
  {
   "cell_type": "markdown",
   "id": "d97d8f8c-828e-44b7-ba8e-ef26911016ef",
   "metadata": {},
   "source": [
    "Both DataFrame.size and DataFrame.shape are attributes in the pandas library used to get information about the DataFrame, but they provide different kinds of information:\n",
    "\n",
    "##### DataFrame.size:\n",
    "1. DataFrame.size returns the total number of elements in the DataFrame, which is equal to the number of rows multiplied by the number of columns.\n",
    "2. It represents the total number of cells in the DataFrame, including both actual data and potential missing values (NaNs).\n",
    "3. The attribute returns a single integer value.\n",
    "\n",
    "##### DataFrame.shape:\n",
    "1. DataFrame.shape returns a tuple representing the dimensions of the DataFrame.\n",
    "2. The tuple contains two values: the number of rows (first value) and the number of columns (second value).\n",
    "3. It provides the actual structure of the DataFrame, which is useful for understanding its layout and dimensions.\n",
    "4. The attribute returns a tuple in the form of (number_of_rows, number_of_columns).\n",
    "\n",
    "#### simple example:"
   ]
  },
  {
   "cell_type": "code",
   "execution_count": 9,
   "id": "f29e0dbd-ec80-4041-9def-87d532f73fab",
   "metadata": {},
   "outputs": [],
   "source": [
    "data = {\n",
    "    'A': [1, 2, 3],\n",
    "    'B': [4, 5, 6],\n",
    "    'C': [7, 8, 9]\n",
    "}\n",
    "df = pd.DataFrame(data)"
   ]
  },
  {
   "cell_type": "code",
   "execution_count": 10,
   "id": "ee86bae7-032e-4028-87cc-61703dc19ae5",
   "metadata": {},
   "outputs": [
    {
     "data": {
      "text/plain": [
       "9"
      ]
     },
     "execution_count": 10,
     "metadata": {},
     "output_type": "execute_result"
    }
   ],
   "source": [
    "df.size"
   ]
  },
  {
   "cell_type": "code",
   "execution_count": 11,
   "id": "195ac8c4-3d18-4fef-b295-db1f14aa5f91",
   "metadata": {},
   "outputs": [
    {
     "data": {
      "text/plain": [
       "(3, 3)"
      ]
     },
     "execution_count": 11,
     "metadata": {},
     "output_type": "execute_result"
    }
   ],
   "source": [
    "df.shape"
   ]
  },
  {
   "cell_type": "markdown",
   "id": "07dfced6-a9a7-4dd3-938d-f3fa880dea84",
   "metadata": {},
   "source": [
    "# Q6. Which function of pandas do we use to read an excel file?"
   ]
  },
  {
   "cell_type": "markdown",
   "id": "809d3fd0-3450-4570-abb8-3ff5ae14be18",
   "metadata": {},
   "source": [
    "#### To read an Excel file in pandas, we can use the pandas.read_excel() function. This function allows us to read data from an Excel file and create a pandas DataFrame. It is a versatile function that supports various options for reading data from different types of Excel files."
   ]
  },
  {
   "cell_type": "markdown",
   "id": "4ce5ec66-cbbf-4d44-942d-43ca475a12bf",
   "metadata": {
    "tags": []
   },
   "source": [
    "# Q7. You have a Pandas DataFrame df that contains a column named 'Email' that contains email addresses in the format 'username@domain.com'. Write a Python function that creates a new column 'Username' in df that contains only the username part of each email address.\n",
    "\n",
    "# The username is the part of the email address that appears before the '@' symbol. For example, if the email address is 'john.doe@example.com', the 'Username' column should contain 'john.doe'. Your function should extract the username from each email address and store it in the new 'Username' column."
   ]
  },
  {
   "cell_type": "code",
   "execution_count": 12,
   "id": "0a7ef3f6-6abb-4aa0-8e27-a4a5d48f0ccf",
   "metadata": {},
   "outputs": [
    {
     "data": {
      "text/html": [
       "<div>\n",
       "<style scoped>\n",
       "    .dataframe tbody tr th:only-of-type {\n",
       "        vertical-align: middle;\n",
       "    }\n",
       "\n",
       "    .dataframe tbody tr th {\n",
       "        vertical-align: top;\n",
       "    }\n",
       "\n",
       "    .dataframe thead th {\n",
       "        text-align: right;\n",
       "    }\n",
       "</style>\n",
       "<table border=\"1\" class=\"dataframe\">\n",
       "  <thead>\n",
       "    <tr style=\"text-align: right;\">\n",
       "      <th></th>\n",
       "      <th>Email</th>\n",
       "      <th>Username</th>\n",
       "    </tr>\n",
       "  </thead>\n",
       "  <tbody>\n",
       "    <tr>\n",
       "      <th>0</th>\n",
       "      <td>ada@gmail.com</td>\n",
       "      <td>ada</td>\n",
       "    </tr>\n",
       "    <tr>\n",
       "      <th>1</th>\n",
       "      <td>ada1@gmail.com</td>\n",
       "      <td>ada1</td>\n",
       "    </tr>\n",
       "    <tr>\n",
       "      <th>2</th>\n",
       "      <td>ada2@gmail.com</td>\n",
       "      <td>ada2</td>\n",
       "    </tr>\n",
       "    <tr>\n",
       "      <th>3</th>\n",
       "      <td>ada3@gmail.com</td>\n",
       "      <td>ada3</td>\n",
       "    </tr>\n",
       "  </tbody>\n",
       "</table>\n",
       "</div>"
      ],
      "text/plain": [
       "            Email Username\n",
       "0   ada@gmail.com      ada\n",
       "1  ada1@gmail.com     ada1\n",
       "2  ada2@gmail.com     ada2\n",
       "3  ada3@gmail.com     ada3"
      ]
     },
     "execution_count": 12,
     "metadata": {},
     "output_type": "execute_result"
    }
   ],
   "source": [
    "data =(['ada@gmail.com'],\n",
    "       ['ada1@gmail.com'],\n",
    "       ['ada2@gmail.com'],\n",
    "       ['ada3@gmail.com'])\n",
    "\n",
    "df= pd.DataFrame(data,columns=['Email'])\n",
    "\n",
    "def username(df):\n",
    "    df['Username']= df['Email'].str.split('@').str[0]\n",
    "    return df\n",
    "\n",
    "username= username(df)\n",
    "username"
   ]
  },
  {
   "cell_type": "markdown",
   "id": "aee0e45b-75da-4393-aa0c-ed06de6f4b0a",
   "metadata": {},
   "source": [
    "# Q8. You have a Pandas DataFrame df with columns 'A', 'B', and 'C'. Write a Python function that selects all rows where the value in column 'A' is greater than 5 and the value in column 'B' is less than 10. The function should return a new DataFrame that contains only the selected rows."
   ]
  },
  {
   "cell_type": "code",
   "execution_count": 13,
   "id": "91873adf-cf92-411f-9060-076d48429568",
   "metadata": {},
   "outputs": [
    {
     "data": {
      "text/html": [
       "<div>\n",
       "<style scoped>\n",
       "    .dataframe tbody tr th:only-of-type {\n",
       "        vertical-align: middle;\n",
       "    }\n",
       "\n",
       "    .dataframe tbody tr th {\n",
       "        vertical-align: top;\n",
       "    }\n",
       "\n",
       "    .dataframe thead th {\n",
       "        text-align: right;\n",
       "    }\n",
       "</style>\n",
       "<table border=\"1\" class=\"dataframe\">\n",
       "  <thead>\n",
       "    <tr style=\"text-align: right;\">\n",
       "      <th></th>\n",
       "      <th>A</th>\n",
       "      <th>B</th>\n",
       "      <th>C</th>\n",
       "    </tr>\n",
       "  </thead>\n",
       "  <tbody>\n",
       "    <tr>\n",
       "      <th>1</th>\n",
       "      <td>8</td>\n",
       "      <td>2</td>\n",
       "      <td>7</td>\n",
       "    </tr>\n",
       "    <tr>\n",
       "      <th>2</th>\n",
       "      <td>6</td>\n",
       "      <td>9</td>\n",
       "      <td>4</td>\n",
       "    </tr>\n",
       "    <tr>\n",
       "      <th>4</th>\n",
       "      <td>9</td>\n",
       "      <td>1</td>\n",
       "      <td>2</td>\n",
       "    </tr>\n",
       "  </tbody>\n",
       "</table>\n",
       "</div>"
      ],
      "text/plain": [
       "   A  B  C\n",
       "1  8  2  7\n",
       "2  6  9  4\n",
       "4  9  1  2"
      ]
     },
     "execution_count": 13,
     "metadata": {},
     "output_type": "execute_result"
    }
   ],
   "source": [
    "data=([3,5,1],\n",
    "      [8,2,7],\n",
    "      [6,9,4],\n",
    "      [2,3,5],\n",
    "      [9,1,2])\n",
    "\n",
    "df=pd.DataFrame(data,columns=['A','B','C'])\n",
    "\n",
    "def new_frame(df):\n",
    "    x=df.loc[(df['A']>5) & (df['B']<10)]\n",
    "    return x\n",
    "\n",
    "frame=new_frame(df)\n",
    "frame"
   ]
  },
  {
   "cell_type": "markdown",
   "id": "633b9ea5-6273-440c-91b9-df5a613bf201",
   "metadata": {},
   "source": [
    "# Q9. Given a Pandas DataFrame df with a column 'Values', write a Python function to calculate the mean,median, and standard deviation of the values in the 'Values' column."
   ]
  },
  {
   "cell_type": "code",
   "execution_count": 14,
   "id": "3a400673-bf3f-4222-a117-a8eec9946759",
   "metadata": {},
   "outputs": [
    {
     "name": "stdout",
     "output_type": "stream",
     "text": [
      "The mean of Values    55.0\n",
      "dtype: float64\n",
      "The median  of Values    55.0\n",
      "dtype: float64\n",
      "The standard deviation of Values    30.276504\n",
      "dtype: float64\n"
     ]
    }
   ],
   "source": [
    "data =[i for i in range(10,101,10)]\n",
    "df= pd.DataFrame(data, columns=['Values'])\n",
    "def calculate(df):\n",
    "    mean=df.mean()\n",
    "    median=df.median()\n",
    "    std=df.std()\n",
    "    return mean,median,std\n",
    "\n",
    "result= calculate(df)\n",
    "\n",
    "print(\"The mean of\",result[0])\n",
    "print(\"The median  of\",result[1])\n",
    "print(\"The standard deviation of\",result[2])"
   ]
  },
  {
   "cell_type": "markdown",
   "id": "5e475e4e-8fbf-4c58-87b8-746e036368d5",
   "metadata": {},
   "source": [
    "# Q10. Given a Pandas DataFrame df with a column 'Sales' and a column 'Date', write a Python function to create a new column 'MovingAverage' that contains the moving average of the sales for the past 7 days for each row in the DataFrame. The moving average should be calculated using a window of size 7 and should include the current day."
   ]
  },
  {
   "cell_type": "code",
   "execution_count": 15,
   "id": "34ea144c-146d-446c-9c16-3a75ae874f9d",
   "metadata": {},
   "outputs": [
    {
     "data": {
      "text/html": [
       "<div>\n",
       "<style scoped>\n",
       "    .dataframe tbody tr th:only-of-type {\n",
       "        vertical-align: middle;\n",
       "    }\n",
       "\n",
       "    .dataframe tbody tr th {\n",
       "        vertical-align: top;\n",
       "    }\n",
       "\n",
       "    .dataframe thead th {\n",
       "        text-align: right;\n",
       "    }\n",
       "</style>\n",
       "<table border=\"1\" class=\"dataframe\">\n",
       "  <thead>\n",
       "    <tr style=\"text-align: right;\">\n",
       "      <th></th>\n",
       "      <th>Date</th>\n",
       "      <th>Sales</th>\n",
       "      <th>MovingAverage</th>\n",
       "    </tr>\n",
       "  </thead>\n",
       "  <tbody>\n",
       "    <tr>\n",
       "      <th>9</th>\n",
       "      <td>01-07-2023</td>\n",
       "      <td>570</td>\n",
       "      <td>570.000000</td>\n",
       "    </tr>\n",
       "    <tr>\n",
       "      <th>2</th>\n",
       "      <td>02-07-2023</td>\n",
       "      <td>334</td>\n",
       "      <td>452.000000</td>\n",
       "    </tr>\n",
       "    <tr>\n",
       "      <th>10</th>\n",
       "      <td>04-07-2023</td>\n",
       "      <td>986</td>\n",
       "      <td>630.000000</td>\n",
       "    </tr>\n",
       "    <tr>\n",
       "      <th>14</th>\n",
       "      <td>06-07-2023</td>\n",
       "      <td>825</td>\n",
       "      <td>678.750000</td>\n",
       "    </tr>\n",
       "    <tr>\n",
       "      <th>0</th>\n",
       "      <td>08-07-2023</td>\n",
       "      <td>720</td>\n",
       "      <td>687.000000</td>\n",
       "    </tr>\n",
       "    <tr>\n",
       "      <th>5</th>\n",
       "      <td>10-07-2023</td>\n",
       "      <td>498</td>\n",
       "      <td>655.500000</td>\n",
       "    </tr>\n",
       "    <tr>\n",
       "      <th>6</th>\n",
       "      <td>13-07-2023</td>\n",
       "      <td>477</td>\n",
       "      <td>630.000000</td>\n",
       "    </tr>\n",
       "    <tr>\n",
       "      <th>13</th>\n",
       "      <td>14-07-2023</td>\n",
       "      <td>910</td>\n",
       "      <td>678.571429</td>\n",
       "    </tr>\n",
       "    <tr>\n",
       "      <th>4</th>\n",
       "      <td>15-07-2023</td>\n",
       "      <td>534</td>\n",
       "      <td>707.142857</td>\n",
       "    </tr>\n",
       "    <tr>\n",
       "      <th>11</th>\n",
       "      <td>18-07-2023</td>\n",
       "      <td>328</td>\n",
       "      <td>613.142857</td>\n",
       "    </tr>\n",
       "    <tr>\n",
       "      <th>12</th>\n",
       "      <td>21-07-2023</td>\n",
       "      <td>922</td>\n",
       "      <td>627.000000</td>\n",
       "    </tr>\n",
       "    <tr>\n",
       "      <th>7</th>\n",
       "      <td>25-07-2023</td>\n",
       "      <td>595</td>\n",
       "      <td>609.142857</td>\n",
       "    </tr>\n",
       "    <tr>\n",
       "      <th>3</th>\n",
       "      <td>26-07-2023</td>\n",
       "      <td>888</td>\n",
       "      <td>664.857143</td>\n",
       "    </tr>\n",
       "    <tr>\n",
       "      <th>8</th>\n",
       "      <td>28-07-2023</td>\n",
       "      <td>956</td>\n",
       "      <td>733.285714</td>\n",
       "    </tr>\n",
       "    <tr>\n",
       "      <th>1</th>\n",
       "      <td>31-07-2023</td>\n",
       "      <td>897</td>\n",
       "      <td>731.428571</td>\n",
       "    </tr>\n",
       "  </tbody>\n",
       "</table>\n",
       "</div>"
      ],
      "text/plain": [
       "          Date  Sales  MovingAverage\n",
       "9   01-07-2023    570     570.000000\n",
       "2   02-07-2023    334     452.000000\n",
       "10  04-07-2023    986     630.000000\n",
       "14  06-07-2023    825     678.750000\n",
       "0   08-07-2023    720     687.000000\n",
       "5   10-07-2023    498     655.500000\n",
       "6   13-07-2023    477     630.000000\n",
       "13  14-07-2023    910     678.571429\n",
       "4   15-07-2023    534     707.142857\n",
       "11  18-07-2023    328     613.142857\n",
       "12  21-07-2023    922     627.000000\n",
       "7   25-07-2023    595     609.142857\n",
       "3   26-07-2023    888     664.857143\n",
       "8   28-07-2023    956     733.285714\n",
       "1   31-07-2023    897     731.428571"
      ]
     },
     "execution_count": 15,
     "metadata": {},
     "output_type": "execute_result"
    }
   ],
   "source": [
    "Data ={'Date':['08-07-2023', '31-07-2023', '02-07-2023', '26-07-2023', '15-07-2023', '10-07-2023', '13-07-2023', '25-07-2023', '28-07-2023', '01-07-2023', '04-07-2023', '18-07-2023', '21-07-2023', '14-07-2023', '06-07-2023'],\n",
    "       'Sales':[720, 897, 334, 888, 534, 498, 477, 595, 956, 570, 986, 328, 922, 910, 825]}\n",
    "df = pd.DataFrame(Data)\n",
    "\n",
    "def moving_average(df):\n",
    "    df = df.sort_values('Date')\n",
    "    df['MovingAverage'] = df['Sales'].rolling(window=7, min_periods=1).mean()\n",
    "    return df\n",
    "\n",
    "moving_average= moving_average(df)\n",
    "moving_average\n",
    "    "
   ]
  },
  {
   "cell_type": "markdown",
   "id": "0f27d7a2-62b7-4d22-b9f6-adb1f8bb21ea",
   "metadata": {},
   "source": [
    "# Q11. You have a Pandas DataFrame df with a column 'Date'. Write a Python function that creates a new column 'Weekday' in the DataFrame. The 'Weekday' column should contain the weekday name (e.g. Monday, Tuesday) corresponding to each date in the 'Date' column."
   ]
  },
  {
   "cell_type": "code",
   "execution_count": 16,
   "id": "5a522007-b720-4de6-b8c7-d969c32c007a",
   "metadata": {},
   "outputs": [
    {
     "data": {
      "text/html": [
       "<div>\n",
       "<style scoped>\n",
       "    .dataframe tbody tr th:only-of-type {\n",
       "        vertical-align: middle;\n",
       "    }\n",
       "\n",
       "    .dataframe tbody tr th {\n",
       "        vertical-align: top;\n",
       "    }\n",
       "\n",
       "    .dataframe thead th {\n",
       "        text-align: right;\n",
       "    }\n",
       "</style>\n",
       "<table border=\"1\" class=\"dataframe\">\n",
       "  <thead>\n",
       "    <tr style=\"text-align: right;\">\n",
       "      <th></th>\n",
       "      <th>Date</th>\n",
       "      <th>Weekday</th>\n",
       "    </tr>\n",
       "  </thead>\n",
       "  <tbody>\n",
       "    <tr>\n",
       "      <th>9</th>\n",
       "      <td>2023-07-01</td>\n",
       "      <td>Saturday</td>\n",
       "    </tr>\n",
       "    <tr>\n",
       "      <th>2</th>\n",
       "      <td>2023-07-02</td>\n",
       "      <td>Sunday</td>\n",
       "    </tr>\n",
       "    <tr>\n",
       "      <th>10</th>\n",
       "      <td>2023-07-04</td>\n",
       "      <td>Tuesday</td>\n",
       "    </tr>\n",
       "    <tr>\n",
       "      <th>14</th>\n",
       "      <td>2023-07-06</td>\n",
       "      <td>Thursday</td>\n",
       "    </tr>\n",
       "    <tr>\n",
       "      <th>0</th>\n",
       "      <td>2023-07-08</td>\n",
       "      <td>Saturday</td>\n",
       "    </tr>\n",
       "    <tr>\n",
       "      <th>5</th>\n",
       "      <td>2023-07-10</td>\n",
       "      <td>Monday</td>\n",
       "    </tr>\n",
       "    <tr>\n",
       "      <th>6</th>\n",
       "      <td>2023-07-13</td>\n",
       "      <td>Thursday</td>\n",
       "    </tr>\n",
       "    <tr>\n",
       "      <th>13</th>\n",
       "      <td>2023-07-14</td>\n",
       "      <td>Friday</td>\n",
       "    </tr>\n",
       "    <tr>\n",
       "      <th>4</th>\n",
       "      <td>2023-07-15</td>\n",
       "      <td>Saturday</td>\n",
       "    </tr>\n",
       "    <tr>\n",
       "      <th>11</th>\n",
       "      <td>2023-07-18</td>\n",
       "      <td>Tuesday</td>\n",
       "    </tr>\n",
       "    <tr>\n",
       "      <th>12</th>\n",
       "      <td>2023-07-21</td>\n",
       "      <td>Friday</td>\n",
       "    </tr>\n",
       "    <tr>\n",
       "      <th>7</th>\n",
       "      <td>2023-07-25</td>\n",
       "      <td>Tuesday</td>\n",
       "    </tr>\n",
       "    <tr>\n",
       "      <th>3</th>\n",
       "      <td>2023-07-26</td>\n",
       "      <td>Wednesday</td>\n",
       "    </tr>\n",
       "    <tr>\n",
       "      <th>8</th>\n",
       "      <td>2023-07-28</td>\n",
       "      <td>Friday</td>\n",
       "    </tr>\n",
       "    <tr>\n",
       "      <th>1</th>\n",
       "      <td>2023-07-31</td>\n",
       "      <td>Monday</td>\n",
       "    </tr>\n",
       "  </tbody>\n",
       "</table>\n",
       "</div>"
      ],
      "text/plain": [
       "         Date    Weekday\n",
       "9  2023-07-01   Saturday\n",
       "2  2023-07-02     Sunday\n",
       "10 2023-07-04    Tuesday\n",
       "14 2023-07-06   Thursday\n",
       "0  2023-07-08   Saturday\n",
       "5  2023-07-10     Monday\n",
       "6  2023-07-13   Thursday\n",
       "13 2023-07-14     Friday\n",
       "4  2023-07-15   Saturday\n",
       "11 2023-07-18    Tuesday\n",
       "12 2023-07-21     Friday\n",
       "7  2023-07-25    Tuesday\n",
       "3  2023-07-26  Wednesday\n",
       "8  2023-07-28     Friday\n",
       "1  2023-07-31     Monday"
      ]
     },
     "execution_count": 16,
     "metadata": {},
     "output_type": "execute_result"
    }
   ],
   "source": [
    "Data ={'Date':['08-07-2023', '31-07-2023', '02-07-2023', '26-07-2023', '15-07-2023', '10-07-2023', '13-07-2023', '25-07-2023', '28-07-2023', '01-07-2023', '04-07-2023', '18-07-2023', '21-07-2023', '14-07-2023', '06-07-2023']}\n",
    "df= pd.DataFrame(Data)\n",
    "\n",
    "def Weekday(df):\n",
    "    df = df.sort_values('Date')\n",
    "    df['Date']= pd.to_datetime(df['Date'],dayfirst = True)\n",
    "    df['Weekday']=df['Date'].dt.day_name()\n",
    "    return df\n",
    "\n",
    "weekday= Weekday(df)\n",
    "weekday"
   ]
  },
  {
   "cell_type": "markdown",
   "id": "8e64daa3-2424-43c4-b298-a47dd7d47061",
   "metadata": {},
   "source": [
    "# Q12. Given a Pandas DataFrame df with a column 'Date' that contains timestamps, write a Python function to select all rows where the date is between '2023-01-01' and '2023-01-31'."
   ]
  },
  {
   "cell_type": "code",
   "execution_count": 17,
   "id": "8790d8b9-eebb-47fa-a555-e6c90a7e38b3",
   "metadata": {},
   "outputs": [
    {
     "data": {
      "text/html": [
       "<div>\n",
       "<style scoped>\n",
       "    .dataframe tbody tr th:only-of-type {\n",
       "        vertical-align: middle;\n",
       "    }\n",
       "\n",
       "    .dataframe tbody tr th {\n",
       "        vertical-align: top;\n",
       "    }\n",
       "\n",
       "    .dataframe thead th {\n",
       "        text-align: right;\n",
       "    }\n",
       "</style>\n",
       "<table border=\"1\" class=\"dataframe\">\n",
       "  <thead>\n",
       "    <tr style=\"text-align: right;\">\n",
       "      <th></th>\n",
       "      <th>Date</th>\n",
       "    </tr>\n",
       "  </thead>\n",
       "  <tbody>\n",
       "    <tr>\n",
       "      <th>8</th>\n",
       "      <td>2023-01-02</td>\n",
       "    </tr>\n",
       "    <tr>\n",
       "      <th>6</th>\n",
       "      <td>2023-01-09</td>\n",
       "    </tr>\n",
       "    <tr>\n",
       "      <th>9</th>\n",
       "      <td>2023-01-12</td>\n",
       "    </tr>\n",
       "    <tr>\n",
       "      <th>11</th>\n",
       "      <td>2023-01-12</td>\n",
       "    </tr>\n",
       "    <tr>\n",
       "      <th>4</th>\n",
       "      <td>2023-01-14</td>\n",
       "    </tr>\n",
       "    <tr>\n",
       "      <th>10</th>\n",
       "      <td>2023-01-20</td>\n",
       "    </tr>\n",
       "    <tr>\n",
       "      <th>2</th>\n",
       "      <td>2023-01-21</td>\n",
       "    </tr>\n",
       "    <tr>\n",
       "      <th>13</th>\n",
       "      <td>2023-01-27</td>\n",
       "    </tr>\n",
       "    <tr>\n",
       "      <th>1</th>\n",
       "      <td>2023-01-28</td>\n",
       "    </tr>\n",
       "  </tbody>\n",
       "</table>\n",
       "</div>"
      ],
      "text/plain": [
       "          Date\n",
       "8   2023-01-02\n",
       "6   2023-01-09\n",
       "9   2023-01-12\n",
       "11  2023-01-12\n",
       "4   2023-01-14\n",
       "10  2023-01-20\n",
       "2   2023-01-21\n",
       "13  2023-01-27\n",
       "1   2023-01-28"
      ]
     },
     "execution_count": 17,
     "metadata": {},
     "output_type": "execute_result"
    }
   ],
   "source": [
    "Data={'Date':['2023-02-01', '2023-01-28', '2023-01-21', '2023-02-05', '2023-01-14', '2023-02-09', '2023-01-09', '2023-02-15', '2023-01-02', '2023-01-12', '2023-01-20', '2023-01-12', '2023-02-21', '2023-01-27', '2023-02-01']}\n",
    "df=pd.DataFrame(Data)\n",
    "\n",
    "def new_frame(df):\n",
    "    df = df.sort_values('Date')\n",
    "    x=df.loc[(df['Date']> '2023-01-01') & (df['Date']<'2023-01-31')]\n",
    "    return x\n",
    "\n",
    "sorted_date=new_frame(df)\n",
    "sorted_date"
   ]
  },
  {
   "cell_type": "markdown",
   "id": "9b42ed94-0d04-45fa-b4bc-fe9a665ad7bd",
   "metadata": {},
   "source": [
    "# Q13. To use the basic functions of pandas, what is the first and foremost necessary library that needs to be imported?"
   ]
  },
  {
   "cell_type": "markdown",
   "id": "fe60660f-7d24-4dfa-b45c-8f4f94f631e2",
   "metadata": {},
   "source": [
    "#### The first and foremost necessary library that needs to be imported to use the basic functions of pandas is pandas itself.\n",
    "\n",
    "#### In Python, we need to import the pandas library to access all the data structures and functionalities it provides, including DataFrame, Series, reading/writing data, data manipulation, and analysis. The common convention is to import pandas with the alias pd for brevity and ease of use.\n",
    "\n",
    "\n",
    "### import pandas as pd\n"
   ]
  }
 ],
 "metadata": {
  "kernelspec": {
   "display_name": "Python 3 (ipykernel)",
   "language": "python",
   "name": "python3"
  },
  "language_info": {
   "codemirror_mode": {
    "name": "ipython",
    "version": 3
   },
   "file_extension": ".py",
   "mimetype": "text/x-python",
   "name": "python",
   "nbconvert_exporter": "python",
   "pygments_lexer": "ipython3",
   "version": "3.10.8"
  }
 },
 "nbformat": 4,
 "nbformat_minor": 5
}
